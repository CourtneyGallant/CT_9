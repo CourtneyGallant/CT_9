{
 "cells": [
  {
   "cell_type": "code",
   "execution_count": 1,
   "metadata": {},
   "outputs": [
    {
     "name": "stderr",
     "output_type": "stream",
     "text": [
      "C:\\Users\\unknown\\Anaconda3\\lib\\site-packages\\statsmodels\\tools\\_testing.py:19: FutureWarning: pandas.util.testing is deprecated. Use the functions in the public API at pandas.testing instead.\n",
      "  import pandas.util.testing as tm\n"
     ]
    }
   ],
   "source": [
    "import pandas as pd\n",
    "import numpy as np\n",
    "import matplotlib.pyplot as plt\n",
    "import seaborn as sns"
   ]
  },
  {
   "cell_type": "code",
   "execution_count": 2,
   "metadata": {},
   "outputs": [],
   "source": [
    "df_train = pd.read_csv('Train.csv')\n",
    "df_rider = pd.read_csv('Riders.csv')\n",
    "df_sample = pd.read_csv('SampleSubmission.csv')"
   ]
  },
  {
   "cell_type": "code",
   "execution_count": 3,
   "metadata": {},
   "outputs": [
    {
     "data": {
      "text/plain": [
       "Order No                                      object\n",
       "User Id                                       object\n",
       "Vehicle Type                                  object\n",
       "Platform Type                                  int64\n",
       "Personal or Business                          object\n",
       "Placement - Day of Month                       int64\n",
       "Placement - Weekday (Mo = 1)                   int64\n",
       "Placement - Time                              object\n",
       "Confirmation - Day of Month                    int64\n",
       "Confirmation - Weekday (Mo = 1)                int64\n",
       "Confirmation - Time                           object\n",
       "Arrival at Pickup - Day of Month               int64\n",
       "Arrival at Pickup - Weekday (Mo = 1)           int64\n",
       "Arrival at Pickup - Time                      object\n",
       "Pickup - Day of Month                          int64\n",
       "Pickup - Weekday (Mo = 1)                      int64\n",
       "Pickup - Time                                 object\n",
       "Arrival at Destination - Day of Month          int64\n",
       "Arrival at Destination - Weekday (Mo = 1)      int64\n",
       "Arrival at Destination - Time                 object\n",
       "Distance (KM)                                  int64\n",
       "Temperature                                  float64\n",
       "Precipitation in millimeters                 float64\n",
       "Pickup Lat                                   float64\n",
       "Pickup Long                                  float64\n",
       "Destination Lat                              float64\n",
       "Destination Long                             float64\n",
       "Rider Id                                      object\n",
       "Time from Pickup to Arrival                    int64\n",
       "dtype: object"
      ]
     },
     "execution_count": 3,
     "metadata": {},
     "output_type": "execute_result"
    }
   ],
   "source": [
    "df_train.dtypes"
   ]
  },
  {
   "cell_type": "code",
   "execution_count": null,
   "metadata": {},
   "outputs": [],
   "source": []
  }
 ],
 "metadata": {
  "kernelspec": {
   "display_name": "Python 3",
   "language": "python",
   "name": "python3"
  },
  "language_info": {
   "codemirror_mode": {
    "name": "ipython",
    "version": 3
   },
   "file_extension": ".py",
   "mimetype": "text/x-python",
   "name": "python",
   "nbconvert_exporter": "python",
   "pygments_lexer": "ipython3",
   "version": "3.7.4"
  }
 },
 "nbformat": 4,
 "nbformat_minor": 2
}
