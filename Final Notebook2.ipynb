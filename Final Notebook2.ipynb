{
 "cells": [
  {
   "cell_type": "markdown",
   "metadata": {},
   "source": [
    "# Importing the data"
   ]
  },
  {
   "cell_type": "code",
   "execution_count": 1,
   "metadata": {},
   "outputs": [],
   "source": [
    "import numpy as np\n",
    "import matplotlib.pyplot as plt\n",
    "import pandas as pd\n",
    "import seaborn as sns\n",
    "from datetime import time\n",
    "from statistics import mean\n",
    "from sklearn.preprocessing import StandardScaler"
   ]
  },
  {
   "cell_type": "code",
   "execution_count": 2,
   "metadata": {},
   "outputs": [],
   "source": [
    "train_data = pd.read_csv('Train.csv')\n",
    "test_data = pd.read_csv('Test.csv')\n",
    "riders_data = pd.read_csv('Riders.csv')"
   ]
  },
  {
   "cell_type": "code",
   "execution_count": 3,
   "metadata": {},
   "outputs": [],
   "source": [
    "# Create a copy of the DataFrame\n",
    "train_df = train_data.copy()"
   ]
  },
  {
   "cell_type": "markdown",
   "metadata": {},
   "source": [
    "Merge training data set with riders data set"
   ]
  },
  {
   "cell_type": "code",
   "execution_count": 121,
   "metadata": {},
   "outputs": [],
   "source": [
    "df = pd.merge(train_df, riders_data, on  = 'Rider Id')"
   ]
  },
  {
   "cell_type": "code",
   "execution_count": 122,
   "metadata": {},
   "outputs": [
    {
     "data": {
      "text/html": [
       "<div>\n",
       "<style scoped>\n",
       "    .dataframe tbody tr th:only-of-type {\n",
       "        vertical-align: middle;\n",
       "    }\n",
       "\n",
       "    .dataframe tbody tr th {\n",
       "        vertical-align: top;\n",
       "    }\n",
       "\n",
       "    .dataframe thead th {\n",
       "        text-align: right;\n",
       "    }\n",
       "</style>\n",
       "<table border=\"1\" class=\"dataframe\">\n",
       "  <thead>\n",
       "    <tr style=\"text-align: right;\">\n",
       "      <th></th>\n",
       "      <th>Order No</th>\n",
       "      <th>User Id</th>\n",
       "      <th>Vehicle Type</th>\n",
       "      <th>Platform Type</th>\n",
       "      <th>Personal or Business</th>\n",
       "      <th>Placement - Day of Month</th>\n",
       "      <th>Placement - Weekday (Mo = 1)</th>\n",
       "      <th>Placement - Time</th>\n",
       "      <th>Confirmation - Day of Month</th>\n",
       "      <th>Confirmation - Weekday (Mo = 1)</th>\n",
       "      <th>...</th>\n",
       "      <th>Pickup Lat</th>\n",
       "      <th>Pickup Long</th>\n",
       "      <th>Destination Lat</th>\n",
       "      <th>Destination Long</th>\n",
       "      <th>Rider Id</th>\n",
       "      <th>No_Of_Orders</th>\n",
       "      <th>Age</th>\n",
       "      <th>Average_Rating</th>\n",
       "      <th>No_of_Ratings</th>\n",
       "      <th>Time from Pickup to Arrival</th>\n",
       "    </tr>\n",
       "  </thead>\n",
       "  <tbody>\n",
       "    <tr>\n",
       "      <th>0</th>\n",
       "      <td>Order_No_4211</td>\n",
       "      <td>User_Id_633</td>\n",
       "      <td>Bike</td>\n",
       "      <td>3</td>\n",
       "      <td>Business</td>\n",
       "      <td>9</td>\n",
       "      <td>5</td>\n",
       "      <td>9:35:46 AM</td>\n",
       "      <td>9</td>\n",
       "      <td>5</td>\n",
       "      <td>...</td>\n",
       "      <td>-1.317755</td>\n",
       "      <td>36.830370</td>\n",
       "      <td>-1.300406</td>\n",
       "      <td>36.829741</td>\n",
       "      <td>Rider_Id_432</td>\n",
       "      <td>1637</td>\n",
       "      <td>1309</td>\n",
       "      <td>13.8</td>\n",
       "      <td>549</td>\n",
       "      <td>745</td>\n",
       "    </tr>\n",
       "    <tr>\n",
       "      <th>1</th>\n",
       "      <td>Order_No_27440</td>\n",
       "      <td>User_Id_2642</td>\n",
       "      <td>Bike</td>\n",
       "      <td>3</td>\n",
       "      <td>Personal</td>\n",
       "      <td>18</td>\n",
       "      <td>5</td>\n",
       "      <td>3:41:17 PM</td>\n",
       "      <td>18</td>\n",
       "      <td>5</td>\n",
       "      <td>...</td>\n",
       "      <td>-1.326774</td>\n",
       "      <td>36.787807</td>\n",
       "      <td>-1.356237</td>\n",
       "      <td>36.904295</td>\n",
       "      <td>Rider_Id_432</td>\n",
       "      <td>1637</td>\n",
       "      <td>1309</td>\n",
       "      <td>13.8</td>\n",
       "      <td>549</td>\n",
       "      <td>2886</td>\n",
       "    </tr>\n",
       "    <tr>\n",
       "      <th>2</th>\n",
       "      <td>Order_No_14170</td>\n",
       "      <td>User_Id_3339</td>\n",
       "      <td>Bike</td>\n",
       "      <td>3</td>\n",
       "      <td>Business</td>\n",
       "      <td>31</td>\n",
       "      <td>5</td>\n",
       "      <td>12:51:41 PM</td>\n",
       "      <td>31</td>\n",
       "      <td>5</td>\n",
       "      <td>...</td>\n",
       "      <td>-1.255189</td>\n",
       "      <td>36.782203</td>\n",
       "      <td>-1.273412</td>\n",
       "      <td>36.818206</td>\n",
       "      <td>Rider_Id_432</td>\n",
       "      <td>1637</td>\n",
       "      <td>1309</td>\n",
       "      <td>13.8</td>\n",
       "      <td>549</td>\n",
       "      <td>2615</td>\n",
       "    </tr>\n",
       "    <tr>\n",
       "      <th>3</th>\n",
       "      <td>Order_No_21727</td>\n",
       "      <td>User_Id_3523</td>\n",
       "      <td>Bike</td>\n",
       "      <td>3</td>\n",
       "      <td>Personal</td>\n",
       "      <td>2</td>\n",
       "      <td>2</td>\n",
       "      <td>7:12:10 AM</td>\n",
       "      <td>2</td>\n",
       "      <td>2</td>\n",
       "      <td>...</td>\n",
       "      <td>-1.290315</td>\n",
       "      <td>36.757377</td>\n",
       "      <td>-1.223520</td>\n",
       "      <td>36.802061</td>\n",
       "      <td>Rider_Id_432</td>\n",
       "      <td>1637</td>\n",
       "      <td>1309</td>\n",
       "      <td>13.8</td>\n",
       "      <td>549</td>\n",
       "      <td>2986</td>\n",
       "    </tr>\n",
       "    <tr>\n",
       "      <th>4</th>\n",
       "      <td>Order_No_8301</td>\n",
       "      <td>User_Id_87</td>\n",
       "      <td>Bike</td>\n",
       "      <td>2</td>\n",
       "      <td>Personal</td>\n",
       "      <td>22</td>\n",
       "      <td>2</td>\n",
       "      <td>10:40:58 AM</td>\n",
       "      <td>22</td>\n",
       "      <td>2</td>\n",
       "      <td>...</td>\n",
       "      <td>-1.273524</td>\n",
       "      <td>36.799220</td>\n",
       "      <td>-1.300431</td>\n",
       "      <td>36.752427</td>\n",
       "      <td>Rider_Id_432</td>\n",
       "      <td>1637</td>\n",
       "      <td>1309</td>\n",
       "      <td>13.8</td>\n",
       "      <td>549</td>\n",
       "      <td>1602</td>\n",
       "    </tr>\n",
       "  </tbody>\n",
       "</table>\n",
       "<p>5 rows × 33 columns</p>\n",
       "</div>"
      ],
      "text/plain": [
       "         Order No       User Id Vehicle Type  Platform Type  \\\n",
       "0   Order_No_4211   User_Id_633         Bike              3   \n",
       "1  Order_No_27440  User_Id_2642         Bike              3   \n",
       "2  Order_No_14170  User_Id_3339         Bike              3   \n",
       "3  Order_No_21727  User_Id_3523         Bike              3   \n",
       "4   Order_No_8301    User_Id_87         Bike              2   \n",
       "\n",
       "  Personal or Business  Placement - Day of Month  \\\n",
       "0             Business                         9   \n",
       "1             Personal                        18   \n",
       "2             Business                        31   \n",
       "3             Personal                         2   \n",
       "4             Personal                        22   \n",
       "\n",
       "   Placement - Weekday (Mo = 1) Placement - Time  Confirmation - Day of Month  \\\n",
       "0                             5       9:35:46 AM                            9   \n",
       "1                             5       3:41:17 PM                           18   \n",
       "2                             5      12:51:41 PM                           31   \n",
       "3                             2       7:12:10 AM                            2   \n",
       "4                             2      10:40:58 AM                           22   \n",
       "\n",
       "   Confirmation - Weekday (Mo = 1)  ... Pickup Lat  Pickup Long  \\\n",
       "0                                5  ...  -1.317755    36.830370   \n",
       "1                                5  ...  -1.326774    36.787807   \n",
       "2                                5  ...  -1.255189    36.782203   \n",
       "3                                2  ...  -1.290315    36.757377   \n",
       "4                                2  ...  -1.273524    36.799220   \n",
       "\n",
       "   Destination Lat Destination Long      Rider Id  No_Of_Orders   Age  \\\n",
       "0        -1.300406        36.829741  Rider_Id_432          1637  1309   \n",
       "1        -1.356237        36.904295  Rider_Id_432          1637  1309   \n",
       "2        -1.273412        36.818206  Rider_Id_432          1637  1309   \n",
       "3        -1.223520        36.802061  Rider_Id_432          1637  1309   \n",
       "4        -1.300431        36.752427  Rider_Id_432          1637  1309   \n",
       "\n",
       "   Average_Rating  No_of_Ratings Time from Pickup to Arrival  \n",
       "0            13.8            549                         745  \n",
       "1            13.8            549                        2886  \n",
       "2            13.8            549                        2615  \n",
       "3            13.8            549                        2986  \n",
       "4            13.8            549                        1602  \n",
       "\n",
       "[5 rows x 33 columns]"
      ]
     },
     "execution_count": 122,
     "metadata": {},
     "output_type": "execute_result"
    }
   ],
   "source": [
    "# Change the order of the columns to have the independent variable as the last column\n",
    "df = df[['Order No', 'User Id', 'Vehicle Type', 'Platform Type',\n",
    "       'Personal or Business', 'Placement - Day of Month',\n",
    "       'Placement - Weekday (Mo = 1)', 'Placement - Time',\n",
    "       'Confirmation - Day of Month', 'Confirmation - Weekday (Mo = 1)',\n",
    "       'Confirmation - Time', 'Arrival at Pickup - Day of Month',\n",
    "       'Arrival at Pickup - Weekday (Mo = 1)', 'Arrival at Pickup - Time',\n",
    "       'Pickup - Day of Month', 'Pickup - Weekday (Mo = 1)', 'Pickup - Time',\n",
    "       'Arrival at Destination - Day of Month',\n",
    "       'Arrival at Destination - Weekday (Mo = 1)',\n",
    "       'Arrival at Destination - Time', 'Distance (KM)', 'Temperature',\n",
    "       'Precipitation in millimeters', 'Pickup Lat', 'Pickup Long',\n",
    "       'Destination Lat', 'Destination Long', 'Rider Id',\n",
    "       'No_Of_Orders', 'Age', 'Average_Rating',\n",
    "       'No_of_Ratings','Time from Pickup to Arrival']]\n",
    "df.head()"
   ]
  },
  {
   "cell_type": "markdown",
   "metadata": {},
   "source": [
    "# Exploratory  Data Analysis"
   ]
  },
  {
   "cell_type": "markdown",
   "metadata": {},
   "source": [
    "Before we fit the model we need to understand how the data is structured, what variables are used and if the columns have any missing values. We need to look at how we handle missing values (drop the columns with missing values or fill in the mean depending on how many missing values the column has). We also need to look at correlations between the variables to see which variables have a strong correlation with the predictor variable as this will help us in choosing the variables to include in our model. The choice of the model to be used will depend on what we find after after exploring the dataset."
   ]
  },
  {
   "cell_type": "markdown",
   "metadata": {},
   "source": [
    "## Understanding The Data"
   ]
  },
  {
   "cell_type": "code",
   "execution_count": 61,
   "metadata": {},
   "outputs": [
    {
     "data": {
      "text/html": [
       "<div>\n",
       "<style scoped>\n",
       "    .dataframe tbody tr th:only-of-type {\n",
       "        vertical-align: middle;\n",
       "    }\n",
       "\n",
       "    .dataframe tbody tr th {\n",
       "        vertical-align: top;\n",
       "    }\n",
       "\n",
       "    .dataframe thead th {\n",
       "        text-align: right;\n",
       "    }\n",
       "</style>\n",
       "<table border=\"1\" class=\"dataframe\">\n",
       "  <thead>\n",
       "    <tr style=\"text-align: right;\">\n",
       "      <th></th>\n",
       "      <th>Platform Type</th>\n",
       "      <th>Placement - Day of Month</th>\n",
       "      <th>Placement - Weekday (Mo = 1)</th>\n",
       "      <th>Confirmation - Day of Month</th>\n",
       "      <th>Confirmation - Weekday (Mo = 1)</th>\n",
       "      <th>Arrival at Pickup - Day of Month</th>\n",
       "      <th>Arrival at Pickup - Weekday (Mo = 1)</th>\n",
       "      <th>Pickup - Day of Month</th>\n",
       "      <th>Pickup - Weekday (Mo = 1)</th>\n",
       "      <th>Arrival at Destination - Day of Month</th>\n",
       "      <th>...</th>\n",
       "      <th>Precipitation in millimeters</th>\n",
       "      <th>Pickup Lat</th>\n",
       "      <th>Pickup Long</th>\n",
       "      <th>Destination Lat</th>\n",
       "      <th>Destination Long</th>\n",
       "      <th>No_Of_Orders</th>\n",
       "      <th>Age</th>\n",
       "      <th>Average_Rating</th>\n",
       "      <th>No_of_Ratings</th>\n",
       "      <th>Time from Pickup to Arrival</th>\n",
       "    </tr>\n",
       "  </thead>\n",
       "  <tbody>\n",
       "    <tr>\n",
       "      <th>count</th>\n",
       "      <td>21201.000000</td>\n",
       "      <td>21201.000000</td>\n",
       "      <td>21201.000000</td>\n",
       "      <td>21201.000000</td>\n",
       "      <td>21201.000000</td>\n",
       "      <td>21201.000000</td>\n",
       "      <td>21201.000000</td>\n",
       "      <td>21201.000000</td>\n",
       "      <td>21201.000000</td>\n",
       "      <td>21201.000000</td>\n",
       "      <td>...</td>\n",
       "      <td>552.000000</td>\n",
       "      <td>21201.000000</td>\n",
       "      <td>21201.000000</td>\n",
       "      <td>21201.000000</td>\n",
       "      <td>21201.000000</td>\n",
       "      <td>21201.000000</td>\n",
       "      <td>21201.000000</td>\n",
       "      <td>21201.000000</td>\n",
       "      <td>21201.000000</td>\n",
       "      <td>21201.000000</td>\n",
       "    </tr>\n",
       "    <tr>\n",
       "      <th>mean</th>\n",
       "      <td>2.752182</td>\n",
       "      <td>15.653696</td>\n",
       "      <td>3.240083</td>\n",
       "      <td>15.653837</td>\n",
       "      <td>3.240225</td>\n",
       "      <td>15.653837</td>\n",
       "      <td>3.240225</td>\n",
       "      <td>15.653837</td>\n",
       "      <td>3.240225</td>\n",
       "      <td>15.653837</td>\n",
       "      <td>...</td>\n",
       "      <td>7.905797</td>\n",
       "      <td>-1.281470</td>\n",
       "      <td>36.811264</td>\n",
       "      <td>-1.282581</td>\n",
       "      <td>36.811220</td>\n",
       "      <td>1692.423706</td>\n",
       "      <td>984.742842</td>\n",
       "      <td>13.882520</td>\n",
       "      <td>341.067119</td>\n",
       "      <td>1556.920947</td>\n",
       "    </tr>\n",
       "    <tr>\n",
       "      <th>std</th>\n",
       "      <td>0.625178</td>\n",
       "      <td>8.798916</td>\n",
       "      <td>1.567295</td>\n",
       "      <td>8.798886</td>\n",
       "      <td>1.567228</td>\n",
       "      <td>8.798886</td>\n",
       "      <td>1.567228</td>\n",
       "      <td>8.798886</td>\n",
       "      <td>1.567228</td>\n",
       "      <td>8.798886</td>\n",
       "      <td>...</td>\n",
       "      <td>17.089971</td>\n",
       "      <td>0.030507</td>\n",
       "      <td>0.037473</td>\n",
       "      <td>0.034824</td>\n",
       "      <td>0.044721</td>\n",
       "      <td>1574.308302</td>\n",
       "      <td>646.652835</td>\n",
       "      <td>0.916071</td>\n",
       "      <td>402.867746</td>\n",
       "      <td>987.270788</td>\n",
       "    </tr>\n",
       "    <tr>\n",
       "      <th>min</th>\n",
       "      <td>1.000000</td>\n",
       "      <td>1.000000</td>\n",
       "      <td>1.000000</td>\n",
       "      <td>1.000000</td>\n",
       "      <td>1.000000</td>\n",
       "      <td>1.000000</td>\n",
       "      <td>1.000000</td>\n",
       "      <td>1.000000</td>\n",
       "      <td>1.000000</td>\n",
       "      <td>1.000000</td>\n",
       "      <td>...</td>\n",
       "      <td>0.100000</td>\n",
       "      <td>-1.438302</td>\n",
       "      <td>36.653621</td>\n",
       "      <td>-1.430298</td>\n",
       "      <td>36.606594</td>\n",
       "      <td>2.000000</td>\n",
       "      <td>96.000000</td>\n",
       "      <td>0.000000</td>\n",
       "      <td>0.000000</td>\n",
       "      <td>1.000000</td>\n",
       "    </tr>\n",
       "    <tr>\n",
       "      <th>25%</th>\n",
       "      <td>3.000000</td>\n",
       "      <td>8.000000</td>\n",
       "      <td>2.000000</td>\n",
       "      <td>8.000000</td>\n",
       "      <td>2.000000</td>\n",
       "      <td>8.000000</td>\n",
       "      <td>2.000000</td>\n",
       "      <td>8.000000</td>\n",
       "      <td>2.000000</td>\n",
       "      <td>8.000000</td>\n",
       "      <td>...</td>\n",
       "      <td>1.075000</td>\n",
       "      <td>-1.300921</td>\n",
       "      <td>36.784605</td>\n",
       "      <td>-1.301201</td>\n",
       "      <td>36.785661</td>\n",
       "      <td>557.000000</td>\n",
       "      <td>495.000000</td>\n",
       "      <td>13.600000</td>\n",
       "      <td>61.000000</td>\n",
       "      <td>882.000000</td>\n",
       "    </tr>\n",
       "    <tr>\n",
       "      <th>50%</th>\n",
       "      <td>3.000000</td>\n",
       "      <td>15.000000</td>\n",
       "      <td>3.000000</td>\n",
       "      <td>15.000000</td>\n",
       "      <td>3.000000</td>\n",
       "      <td>15.000000</td>\n",
       "      <td>3.000000</td>\n",
       "      <td>15.000000</td>\n",
       "      <td>3.000000</td>\n",
       "      <td>15.000000</td>\n",
       "      <td>...</td>\n",
       "      <td>2.900000</td>\n",
       "      <td>-1.279395</td>\n",
       "      <td>36.807040</td>\n",
       "      <td>-1.284382</td>\n",
       "      <td>36.808002</td>\n",
       "      <td>1212.000000</td>\n",
       "      <td>872.000000</td>\n",
       "      <td>14.000000</td>\n",
       "      <td>161.000000</td>\n",
       "      <td>1369.000000</td>\n",
       "    </tr>\n",
       "    <tr>\n",
       "      <th>75%</th>\n",
       "      <td>3.000000</td>\n",
       "      <td>23.000000</td>\n",
       "      <td>5.000000</td>\n",
       "      <td>23.000000</td>\n",
       "      <td>5.000000</td>\n",
       "      <td>23.000000</td>\n",
       "      <td>5.000000</td>\n",
       "      <td>23.000000</td>\n",
       "      <td>5.000000</td>\n",
       "      <td>23.000000</td>\n",
       "      <td>...</td>\n",
       "      <td>4.900000</td>\n",
       "      <td>-1.257147</td>\n",
       "      <td>36.829741</td>\n",
       "      <td>-1.261177</td>\n",
       "      <td>36.829477</td>\n",
       "      <td>2311.000000</td>\n",
       "      <td>1236.000000</td>\n",
       "      <td>14.300000</td>\n",
       "      <td>495.000000</td>\n",
       "      <td>2040.000000</td>\n",
       "    </tr>\n",
       "    <tr>\n",
       "      <th>max</th>\n",
       "      <td>4.000000</td>\n",
       "      <td>31.000000</td>\n",
       "      <td>7.000000</td>\n",
       "      <td>31.000000</td>\n",
       "      <td>7.000000</td>\n",
       "      <td>31.000000</td>\n",
       "      <td>7.000000</td>\n",
       "      <td>31.000000</td>\n",
       "      <td>7.000000</td>\n",
       "      <td>31.000000</td>\n",
       "      <td>...</td>\n",
       "      <td>99.100000</td>\n",
       "      <td>-1.147170</td>\n",
       "      <td>36.991046</td>\n",
       "      <td>-1.030225</td>\n",
       "      <td>37.016779</td>\n",
       "      <td>9756.000000</td>\n",
       "      <td>3764.000000</td>\n",
       "      <td>15.200000</td>\n",
       "      <td>2298.000000</td>\n",
       "      <td>7883.000000</td>\n",
       "    </tr>\n",
       "  </tbody>\n",
       "</table>\n",
       "<p>8 rows × 23 columns</p>\n",
       "</div>"
      ],
      "text/plain": [
       "       Platform Type  Placement - Day of Month  Placement - Weekday (Mo = 1)  \\\n",
       "count   21201.000000              21201.000000                  21201.000000   \n",
       "mean        2.752182                 15.653696                      3.240083   \n",
       "std         0.625178                  8.798916                      1.567295   \n",
       "min         1.000000                  1.000000                      1.000000   \n",
       "25%         3.000000                  8.000000                      2.000000   \n",
       "50%         3.000000                 15.000000                      3.000000   \n",
       "75%         3.000000                 23.000000                      5.000000   \n",
       "max         4.000000                 31.000000                      7.000000   \n",
       "\n",
       "       Confirmation - Day of Month  Confirmation - Weekday (Mo = 1)  \\\n",
       "count                 21201.000000                     21201.000000   \n",
       "mean                     15.653837                         3.240225   \n",
       "std                       8.798886                         1.567228   \n",
       "min                       1.000000                         1.000000   \n",
       "25%                       8.000000                         2.000000   \n",
       "50%                      15.000000                         3.000000   \n",
       "75%                      23.000000                         5.000000   \n",
       "max                      31.000000                         7.000000   \n",
       "\n",
       "       Arrival at Pickup - Day of Month  Arrival at Pickup - Weekday (Mo = 1)  \\\n",
       "count                      21201.000000                          21201.000000   \n",
       "mean                          15.653837                              3.240225   \n",
       "std                            8.798886                              1.567228   \n",
       "min                            1.000000                              1.000000   \n",
       "25%                            8.000000                              2.000000   \n",
       "50%                           15.000000                              3.000000   \n",
       "75%                           23.000000                              5.000000   \n",
       "max                           31.000000                              7.000000   \n",
       "\n",
       "       Pickup - Day of Month  Pickup - Weekday (Mo = 1)  \\\n",
       "count           21201.000000               21201.000000   \n",
       "mean               15.653837                   3.240225   \n",
       "std                 8.798886                   1.567228   \n",
       "min                 1.000000                   1.000000   \n",
       "25%                 8.000000                   2.000000   \n",
       "50%                15.000000                   3.000000   \n",
       "75%                23.000000                   5.000000   \n",
       "max                31.000000                   7.000000   \n",
       "\n",
       "       Arrival at Destination - Day of Month  ...  \\\n",
       "count                           21201.000000  ...   \n",
       "mean                               15.653837  ...   \n",
       "std                                 8.798886  ...   \n",
       "min                                 1.000000  ...   \n",
       "25%                                 8.000000  ...   \n",
       "50%                                15.000000  ...   \n",
       "75%                                23.000000  ...   \n",
       "max                                31.000000  ...   \n",
       "\n",
       "       Precipitation in millimeters    Pickup Lat   Pickup Long  \\\n",
       "count                    552.000000  21201.000000  21201.000000   \n",
       "mean                       7.905797     -1.281470     36.811264   \n",
       "std                       17.089971      0.030507      0.037473   \n",
       "min                        0.100000     -1.438302     36.653621   \n",
       "25%                        1.075000     -1.300921     36.784605   \n",
       "50%                        2.900000     -1.279395     36.807040   \n",
       "75%                        4.900000     -1.257147     36.829741   \n",
       "max                       99.100000     -1.147170     36.991046   \n",
       "\n",
       "       Destination Lat  Destination Long  No_Of_Orders           Age  \\\n",
       "count     21201.000000      21201.000000  21201.000000  21201.000000   \n",
       "mean         -1.282581         36.811220   1692.423706    984.742842   \n",
       "std           0.034824          0.044721   1574.308302    646.652835   \n",
       "min          -1.430298         36.606594      2.000000     96.000000   \n",
       "25%          -1.301201         36.785661    557.000000    495.000000   \n",
       "50%          -1.284382         36.808002   1212.000000    872.000000   \n",
       "75%          -1.261177         36.829477   2311.000000   1236.000000   \n",
       "max          -1.030225         37.016779   9756.000000   3764.000000   \n",
       "\n",
       "       Average_Rating  No_of_Ratings  Time from Pickup to Arrival  \n",
       "count    21201.000000   21201.000000                 21201.000000  \n",
       "mean        13.882520     341.067119                  1556.920947  \n",
       "std          0.916071     402.867746                   987.270788  \n",
       "min          0.000000       0.000000                     1.000000  \n",
       "25%         13.600000      61.000000                   882.000000  \n",
       "50%         14.000000     161.000000                  1369.000000  \n",
       "75%         14.300000     495.000000                  2040.000000  \n",
       "max         15.200000    2298.000000                  7883.000000  \n",
       "\n",
       "[8 rows x 23 columns]"
      ]
     },
     "execution_count": 61,
     "metadata": {},
     "output_type": "execute_result"
    }
   ],
   "source": [
    "# Check the statistical summary of the dataframe\n",
    "df.describe() "
   ]
  },
  {
   "cell_type": "markdown",
   "metadata": {},
   "source": [
    "## Dealing With Missing Data"
   ]
  },
  {
   "cell_type": "code",
   "execution_count": 11,
   "metadata": {},
   "outputs": [
    {
     "name": "stdout",
     "output_type": "stream",
     "text": [
      "<class 'pandas.core.frame.DataFrame'>\n",
      "Int64Index: 21201 entries, 0 to 21200\n",
      "Data columns (total 33 columns):\n",
      "Order No                                     21201 non-null object\n",
      "User Id                                      21201 non-null object\n",
      "Vehicle Type                                 21201 non-null object\n",
      "Platform Type                                21201 non-null int64\n",
      "Personal or Business                         21201 non-null object\n",
      "Placement - Day of Month                     21201 non-null int64\n",
      "Placement - Weekday (Mo = 1)                 21201 non-null int64\n",
      "Placement - Time                             21201 non-null object\n",
      "Confirmation - Day of Month                  21201 non-null int64\n",
      "Confirmation - Weekday (Mo = 1)              21201 non-null int64\n",
      "Confirmation - Time                          21201 non-null object\n",
      "Arrival at Pickup - Day of Month             21201 non-null int64\n",
      "Arrival at Pickup - Weekday (Mo = 1)         21201 non-null int64\n",
      "Arrival at Pickup - Time                     21201 non-null object\n",
      "Pickup - Day of Month                        21201 non-null int64\n",
      "Pickup - Weekday (Mo = 1)                    21201 non-null int64\n",
      "Pickup - Time                                21201 non-null object\n",
      "Arrival at Destination - Day of Month        21201 non-null int64\n",
      "Arrival at Destination - Weekday (Mo = 1)    21201 non-null int64\n",
      "Arrival at Destination - Time                21201 non-null object\n",
      "Distance (KM)                                21201 non-null int64\n",
      "Temperature                                  16835 non-null float64\n",
      "Precipitation in millimeters                 552 non-null float64\n",
      "Pickup Lat                                   21201 non-null float64\n",
      "Pickup Long                                  21201 non-null float64\n",
      "Destination Lat                              21201 non-null float64\n",
      "Destination Long                             21201 non-null float64\n",
      "Rider Id                                     21201 non-null object\n",
      "No_Of_Orders                                 21201 non-null int64\n",
      "Age                                          21201 non-null int64\n",
      "Average_Rating                               21201 non-null float64\n",
      "No_of_Ratings                                21201 non-null int64\n",
      "Time from Pickup to Arrival                  21201 non-null int64\n",
      "dtypes: float64(7), int64(16), object(10)\n",
      "memory usage: 5.5+ MB\n"
     ]
    }
   ],
   "source": [
    "# Check for null values\n",
    "df.info()  "
   ]
  },
  {
   "cell_type": "code",
   "execution_count": 6,
   "metadata": {},
   "outputs": [],
   "source": [
    "# Replace null values with the mean of the columns\n",
    "# The Temperature and Precipitation columns had null values\n",
    "df = df.fillna(df.mean())"
   ]
  },
  {
   "cell_type": "markdown",
   "metadata": {},
   "source": [
    "Temperature and precipitation had a lot of null values, which indicates that these variables do not have that much of an impact on our model.Thus we replaced those values with the mean of the columns."
   ]
  },
  {
   "cell_type": "code",
   "execution_count": 7,
   "metadata": {},
   "outputs": [],
   "source": [
    "# One of the Rider Id rows has a missing value\n",
    "# The entire row with the missing value was removed\n",
    "df.dropna(inplace = True) "
   ]
  },
  {
   "cell_type": "code",
   "execution_count": 14,
   "metadata": {},
   "outputs": [
    {
     "name": "stdout",
     "output_type": "stream",
     "text": [
      "<class 'pandas.core.frame.DataFrame'>\n",
      "Int64Index: 21201 entries, 0 to 21200\n",
      "Data columns (total 33 columns):\n",
      "Order No                                     21201 non-null object\n",
      "User Id                                      21201 non-null object\n",
      "Vehicle Type                                 21201 non-null object\n",
      "Platform Type                                21201 non-null int64\n",
      "Personal or Business                         21201 non-null object\n",
      "Placement - Day of Month                     21201 non-null int64\n",
      "Placement - Weekday (Mo = 1)                 21201 non-null int64\n",
      "Placement - Time                             21201 non-null object\n",
      "Confirmation - Day of Month                  21201 non-null int64\n",
      "Confirmation - Weekday (Mo = 1)              21201 non-null int64\n",
      "Confirmation - Time                          21201 non-null object\n",
      "Arrival at Pickup - Day of Month             21201 non-null int64\n",
      "Arrival at Pickup - Weekday (Mo = 1)         21201 non-null int64\n",
      "Arrival at Pickup - Time                     21201 non-null object\n",
      "Pickup - Day of Month                        21201 non-null int64\n",
      "Pickup - Weekday (Mo = 1)                    21201 non-null int64\n",
      "Pickup - Time                                21201 non-null object\n",
      "Arrival at Destination - Day of Month        21201 non-null int64\n",
      "Arrival at Destination - Weekday (Mo = 1)    21201 non-null int64\n",
      "Arrival at Destination - Time                21201 non-null object\n",
      "Distance (KM)                                21201 non-null int64\n",
      "Temperature                                  21201 non-null float64\n",
      "Precipitation in millimeters                 21201 non-null float64\n",
      "Pickup Lat                                   21201 non-null float64\n",
      "Pickup Long                                  21201 non-null float64\n",
      "Destination Lat                              21201 non-null float64\n",
      "Destination Long                             21201 non-null float64\n",
      "Rider Id                                     21201 non-null object\n",
      "No_Of_Orders                                 21201 non-null int64\n",
      "Age                                          21201 non-null int64\n",
      "Average_Rating                               21201 non-null float64\n",
      "No_of_Ratings                                21201 non-null int64\n",
      "Time from Pickup to Arrival                  21201 non-null int64\n",
      "dtypes: float64(7), int64(16), object(10)\n",
      "memory usage: 5.5+ MB\n"
     ]
    }
   ],
   "source": [
    "# Check for null values again.\n",
    "# There are no longer any null values\n",
    "df.info()  "
   ]
  },
  {
   "cell_type": "markdown",
   "metadata": {},
   "source": [
    "The dataset now has no missing values, so we can begin with our analysis.\n",
    "We group data by Rider Id to show how the averages correlate. We drop all object type data."
   ]
  },
  {
   "cell_type": "code",
   "execution_count": 8,
   "metadata": {},
   "outputs": [
    {
     "data": {
      "text/html": [
       "<div>\n",
       "<style scoped>\n",
       "    .dataframe tbody tr th:only-of-type {\n",
       "        vertical-align: middle;\n",
       "    }\n",
       "\n",
       "    .dataframe tbody tr th {\n",
       "        vertical-align: top;\n",
       "    }\n",
       "\n",
       "    .dataframe thead th {\n",
       "        text-align: right;\n",
       "    }\n",
       "</style>\n",
       "<table border=\"1\" class=\"dataframe\">\n",
       "  <thead>\n",
       "    <tr style=\"text-align: right;\">\n",
       "      <th></th>\n",
       "      <th>Platform Type</th>\n",
       "      <th>Placement - Day of Month</th>\n",
       "      <th>Placement - Weekday (Mo = 1)</th>\n",
       "      <th>Confirmation - Day of Month</th>\n",
       "      <th>Confirmation - Weekday (Mo = 1)</th>\n",
       "      <th>Arrival at Pickup - Day of Month</th>\n",
       "      <th>Arrival at Pickup - Weekday (Mo = 1)</th>\n",
       "      <th>Pickup - Day of Month</th>\n",
       "      <th>Pickup - Weekday (Mo = 1)</th>\n",
       "      <th>Arrival at Destination - Day of Month</th>\n",
       "      <th>...</th>\n",
       "      <th>Precipitation in millimeters</th>\n",
       "      <th>Pickup Lat</th>\n",
       "      <th>Pickup Long</th>\n",
       "      <th>Destination Lat</th>\n",
       "      <th>Destination Long</th>\n",
       "      <th>No_Of_Orders</th>\n",
       "      <th>Age</th>\n",
       "      <th>Average_Rating</th>\n",
       "      <th>No_of_Ratings</th>\n",
       "      <th>Time from Pickup to Arrival</th>\n",
       "    </tr>\n",
       "    <tr>\n",
       "      <th>Rider Id</th>\n",
       "      <th></th>\n",
       "      <th></th>\n",
       "      <th></th>\n",
       "      <th></th>\n",
       "      <th></th>\n",
       "      <th></th>\n",
       "      <th></th>\n",
       "      <th></th>\n",
       "      <th></th>\n",
       "      <th></th>\n",
       "      <th></th>\n",
       "      <th></th>\n",
       "      <th></th>\n",
       "      <th></th>\n",
       "      <th></th>\n",
       "      <th></th>\n",
       "      <th></th>\n",
       "      <th></th>\n",
       "      <th></th>\n",
       "      <th></th>\n",
       "      <th></th>\n",
       "    </tr>\n",
       "  </thead>\n",
       "  <tbody>\n",
       "    <tr>\n",
       "      <th>Rider_Id_0</th>\n",
       "      <td>3.000000</td>\n",
       "      <td>4.000000</td>\n",
       "      <td>1.000000</td>\n",
       "      <td>4.000000</td>\n",
       "      <td>1.000000</td>\n",
       "      <td>4.000000</td>\n",
       "      <td>1.000000</td>\n",
       "      <td>4.000000</td>\n",
       "      <td>1.000000</td>\n",
       "      <td>4.000000</td>\n",
       "      <td>...</td>\n",
       "      <td>7.905797</td>\n",
       "      <td>-1.329285</td>\n",
       "      <td>36.886785</td>\n",
       "      <td>-1.300921</td>\n",
       "      <td>36.828195</td>\n",
       "      <td>3048.0</td>\n",
       "      <td>2570.0</td>\n",
       "      <td>14.0</td>\n",
       "      <td>512.0</td>\n",
       "      <td>1393.000000</td>\n",
       "    </tr>\n",
       "    <tr>\n",
       "      <th>Rider_Id_1</th>\n",
       "      <td>3.000000</td>\n",
       "      <td>19.000000</td>\n",
       "      <td>5.000000</td>\n",
       "      <td>19.000000</td>\n",
       "      <td>5.000000</td>\n",
       "      <td>19.000000</td>\n",
       "      <td>5.000000</td>\n",
       "      <td>19.000000</td>\n",
       "      <td>5.000000</td>\n",
       "      <td>19.000000</td>\n",
       "      <td>...</td>\n",
       "      <td>7.905797</td>\n",
       "      <td>-1.320715</td>\n",
       "      <td>36.830577</td>\n",
       "      <td>-1.299323</td>\n",
       "      <td>36.775337</td>\n",
       "      <td>8.0</td>\n",
       "      <td>589.0</td>\n",
       "      <td>0.0</td>\n",
       "      <td>1.0</td>\n",
       "      <td>1333.000000</td>\n",
       "    </tr>\n",
       "    <tr>\n",
       "      <th>Rider_Id_10</th>\n",
       "      <td>3.000000</td>\n",
       "      <td>18.078431</td>\n",
       "      <td>3.607843</td>\n",
       "      <td>18.078431</td>\n",
       "      <td>3.607843</td>\n",
       "      <td>18.078431</td>\n",
       "      <td>3.607843</td>\n",
       "      <td>18.078431</td>\n",
       "      <td>3.607843</td>\n",
       "      <td>18.078431</td>\n",
       "      <td>...</td>\n",
       "      <td>7.797499</td>\n",
       "      <td>-1.310236</td>\n",
       "      <td>36.825240</td>\n",
       "      <td>-1.294703</td>\n",
       "      <td>36.800791</td>\n",
       "      <td>6978.0</td>\n",
       "      <td>1990.0</td>\n",
       "      <td>13.3</td>\n",
       "      <td>413.0</td>\n",
       "      <td>529.098039</td>\n",
       "    </tr>\n",
       "    <tr>\n",
       "      <th>Rider_Id_100</th>\n",
       "      <td>2.484848</td>\n",
       "      <td>14.222222</td>\n",
       "      <td>3.252525</td>\n",
       "      <td>14.222222</td>\n",
       "      <td>3.252525</td>\n",
       "      <td>14.222222</td>\n",
       "      <td>3.252525</td>\n",
       "      <td>14.222222</td>\n",
       "      <td>3.252525</td>\n",
       "      <td>14.222222</td>\n",
       "      <td>...</td>\n",
       "      <td>7.627727</td>\n",
       "      <td>-1.281512</td>\n",
       "      <td>36.813023</td>\n",
       "      <td>-1.276978</td>\n",
       "      <td>36.814100</td>\n",
       "      <td>362.0</td>\n",
       "      <td>910.0</td>\n",
       "      <td>13.4</td>\n",
       "      <td>109.0</td>\n",
       "      <td>1271.929293</td>\n",
       "    </tr>\n",
       "    <tr>\n",
       "      <th>Rider_Id_101</th>\n",
       "      <td>2.469945</td>\n",
       "      <td>16.612022</td>\n",
       "      <td>3.311475</td>\n",
       "      <td>16.612022</td>\n",
       "      <td>3.311475</td>\n",
       "      <td>16.612022</td>\n",
       "      <td>3.311475</td>\n",
       "      <td>16.612022</td>\n",
       "      <td>3.311475</td>\n",
       "      <td>16.612022</td>\n",
       "      <td>...</td>\n",
       "      <td>7.789855</td>\n",
       "      <td>-1.269583</td>\n",
       "      <td>36.803790</td>\n",
       "      <td>-1.280071</td>\n",
       "      <td>36.808981</td>\n",
       "      <td>1299.0</td>\n",
       "      <td>986.0</td>\n",
       "      <td>13.1</td>\n",
       "      <td>287.0</td>\n",
       "      <td>1755.579235</td>\n",
       "    </tr>\n",
       "  </tbody>\n",
       "</table>\n",
       "<p>5 rows × 23 columns</p>\n",
       "</div>"
      ],
      "text/plain": [
       "              Platform Type  Placement - Day of Month  \\\n",
       "Rider Id                                                \n",
       "Rider_Id_0         3.000000                  4.000000   \n",
       "Rider_Id_1         3.000000                 19.000000   \n",
       "Rider_Id_10        3.000000                 18.078431   \n",
       "Rider_Id_100       2.484848                 14.222222   \n",
       "Rider_Id_101       2.469945                 16.612022   \n",
       "\n",
       "              Placement - Weekday (Mo = 1)  Confirmation - Day of Month  \\\n",
       "Rider Id                                                                  \n",
       "Rider_Id_0                        1.000000                     4.000000   \n",
       "Rider_Id_1                        5.000000                    19.000000   \n",
       "Rider_Id_10                       3.607843                    18.078431   \n",
       "Rider_Id_100                      3.252525                    14.222222   \n",
       "Rider_Id_101                      3.311475                    16.612022   \n",
       "\n",
       "              Confirmation - Weekday (Mo = 1)  \\\n",
       "Rider Id                                        \n",
       "Rider_Id_0                           1.000000   \n",
       "Rider_Id_1                           5.000000   \n",
       "Rider_Id_10                          3.607843   \n",
       "Rider_Id_100                         3.252525   \n",
       "Rider_Id_101                         3.311475   \n",
       "\n",
       "              Arrival at Pickup - Day of Month  \\\n",
       "Rider Id                                         \n",
       "Rider_Id_0                            4.000000   \n",
       "Rider_Id_1                           19.000000   \n",
       "Rider_Id_10                          18.078431   \n",
       "Rider_Id_100                         14.222222   \n",
       "Rider_Id_101                         16.612022   \n",
       "\n",
       "              Arrival at Pickup - Weekday (Mo = 1)  Pickup - Day of Month  \\\n",
       "Rider Id                                                                    \n",
       "Rider_Id_0                                1.000000               4.000000   \n",
       "Rider_Id_1                                5.000000              19.000000   \n",
       "Rider_Id_10                               3.607843              18.078431   \n",
       "Rider_Id_100                              3.252525              14.222222   \n",
       "Rider_Id_101                              3.311475              16.612022   \n",
       "\n",
       "              Pickup - Weekday (Mo = 1)  \\\n",
       "Rider Id                                  \n",
       "Rider_Id_0                     1.000000   \n",
       "Rider_Id_1                     5.000000   \n",
       "Rider_Id_10                    3.607843   \n",
       "Rider_Id_100                   3.252525   \n",
       "Rider_Id_101                   3.311475   \n",
       "\n",
       "              Arrival at Destination - Day of Month  ...  \\\n",
       "Rider Id                                             ...   \n",
       "Rider_Id_0                                 4.000000  ...   \n",
       "Rider_Id_1                                19.000000  ...   \n",
       "Rider_Id_10                               18.078431  ...   \n",
       "Rider_Id_100                              14.222222  ...   \n",
       "Rider_Id_101                              16.612022  ...   \n",
       "\n",
       "              Precipitation in millimeters  Pickup Lat  Pickup Long  \\\n",
       "Rider Id                                                              \n",
       "Rider_Id_0                        7.905797   -1.329285    36.886785   \n",
       "Rider_Id_1                        7.905797   -1.320715    36.830577   \n",
       "Rider_Id_10                       7.797499   -1.310236    36.825240   \n",
       "Rider_Id_100                      7.627727   -1.281512    36.813023   \n",
       "Rider_Id_101                      7.789855   -1.269583    36.803790   \n",
       "\n",
       "              Destination Lat  Destination Long  No_Of_Orders     Age  \\\n",
       "Rider Id                                                                \n",
       "Rider_Id_0          -1.300921         36.828195        3048.0  2570.0   \n",
       "Rider_Id_1          -1.299323         36.775337           8.0   589.0   \n",
       "Rider_Id_10         -1.294703         36.800791        6978.0  1990.0   \n",
       "Rider_Id_100        -1.276978         36.814100         362.0   910.0   \n",
       "Rider_Id_101        -1.280071         36.808981        1299.0   986.0   \n",
       "\n",
       "              Average_Rating  No_of_Ratings  Time from Pickup to Arrival  \n",
       "Rider Id                                                                  \n",
       "Rider_Id_0              14.0          512.0                  1393.000000  \n",
       "Rider_Id_1               0.0            1.0                  1333.000000  \n",
       "Rider_Id_10             13.3          413.0                   529.098039  \n",
       "Rider_Id_100            13.4          109.0                  1271.929293  \n",
       "Rider_Id_101            13.1          287.0                  1755.579235  \n",
       "\n",
       "[5 rows x 23 columns]"
      ]
     },
     "execution_count": 8,
     "metadata": {},
     "output_type": "execute_result"
    }
   ],
   "source": [
    "# Group by Rider Id recording the mean value of each column for the riders.\n",
    "df_grp = df.drop(['Order No', 'User Id', 'Vehicle Type', 'Personal or Business', \n",
    "                  'Placement - Time','Confirmation - Time','Arrival at Pickup - Time', \n",
    "                  'Pickup - Time', 'Arrival at Destination - Time' ], axis = 1)\n",
    "df_grp = df_grp.groupby('Rider Id').mean()\n",
    "df_grp.head()"
   ]
  },
  {
   "cell_type": "code",
   "execution_count": 9,
   "metadata": {},
   "outputs": [
    {
     "data": {
      "text/html": [
       "<div>\n",
       "<style scoped>\n",
       "    .dataframe tbody tr th:only-of-type {\n",
       "        vertical-align: middle;\n",
       "    }\n",
       "\n",
       "    .dataframe tbody tr th {\n",
       "        vertical-align: top;\n",
       "    }\n",
       "\n",
       "    .dataframe thead th {\n",
       "        text-align: right;\n",
       "    }\n",
       "</style>\n",
       "<table border=\"1\" class=\"dataframe\">\n",
       "  <thead>\n",
       "    <tr style=\"text-align: right;\">\n",
       "      <th></th>\n",
       "      <th>Platform Type</th>\n",
       "      <th>Placement - Day of Month</th>\n",
       "      <th>Placement - Weekday (Mo = 1)</th>\n",
       "      <th>Confirmation - Day of Month</th>\n",
       "      <th>Confirmation - Weekday (Mo = 1)</th>\n",
       "      <th>Arrival at Pickup - Day of Month</th>\n",
       "      <th>Arrival at Pickup - Weekday (Mo = 1)</th>\n",
       "      <th>Pickup - Day of Month</th>\n",
       "      <th>Pickup - Weekday (Mo = 1)</th>\n",
       "      <th>Arrival at Destination - Day of Month</th>\n",
       "      <th>...</th>\n",
       "      <th>Precipitation in millimeters</th>\n",
       "      <th>Pickup Lat</th>\n",
       "      <th>Pickup Long</th>\n",
       "      <th>Destination Lat</th>\n",
       "      <th>Destination Long</th>\n",
       "      <th>No_Of_Orders</th>\n",
       "      <th>Age</th>\n",
       "      <th>Average_Rating</th>\n",
       "      <th>No_of_Ratings</th>\n",
       "      <th>Time from Pickup to Arrival</th>\n",
       "    </tr>\n",
       "  </thead>\n",
       "  <tbody>\n",
       "    <tr>\n",
       "      <th>Platform Type</th>\n",
       "      <td>1.000000</td>\n",
       "      <td>-0.018958</td>\n",
       "      <td>-0.091786</td>\n",
       "      <td>-0.018951</td>\n",
       "      <td>-0.091748</td>\n",
       "      <td>-0.018951</td>\n",
       "      <td>-0.091748</td>\n",
       "      <td>-0.018951</td>\n",
       "      <td>-0.091748</td>\n",
       "      <td>-0.018951</td>\n",
       "      <td>...</td>\n",
       "      <td>-0.039997</td>\n",
       "      <td>0.018723</td>\n",
       "      <td>0.041415</td>\n",
       "      <td>0.006984</td>\n",
       "      <td>0.035244</td>\n",
       "      <td>0.015274</td>\n",
       "      <td>-0.103566</td>\n",
       "      <td>-0.076152</td>\n",
       "      <td>-0.055286</td>\n",
       "      <td>0.032976</td>\n",
       "    </tr>\n",
       "    <tr>\n",
       "      <th>Placement - Day of Month</th>\n",
       "      <td>-0.018958</td>\n",
       "      <td>1.000000</td>\n",
       "      <td>0.002623</td>\n",
       "      <td>1.000000</td>\n",
       "      <td>0.002666</td>\n",
       "      <td>1.000000</td>\n",
       "      <td>0.002666</td>\n",
       "      <td>1.000000</td>\n",
       "      <td>0.002666</td>\n",
       "      <td>1.000000</td>\n",
       "      <td>...</td>\n",
       "      <td>-0.057245</td>\n",
       "      <td>0.030950</td>\n",
       "      <td>0.018550</td>\n",
       "      <td>-0.031019</td>\n",
       "      <td>-0.022392</td>\n",
       "      <td>0.000913</td>\n",
       "      <td>0.058926</td>\n",
       "      <td>0.068957</td>\n",
       "      <td>-0.013309</td>\n",
       "      <td>-0.084348</td>\n",
       "    </tr>\n",
       "    <tr>\n",
       "      <th>Placement - Weekday (Mo = 1)</th>\n",
       "      <td>-0.091786</td>\n",
       "      <td>0.002623</td>\n",
       "      <td>1.000000</td>\n",
       "      <td>0.002622</td>\n",
       "      <td>0.999998</td>\n",
       "      <td>0.002622</td>\n",
       "      <td>0.999998</td>\n",
       "      <td>0.002622</td>\n",
       "      <td>0.999998</td>\n",
       "      <td>0.002622</td>\n",
       "      <td>...</td>\n",
       "      <td>-0.027884</td>\n",
       "      <td>0.042922</td>\n",
       "      <td>-0.042164</td>\n",
       "      <td>0.095851</td>\n",
       "      <td>-0.035805</td>\n",
       "      <td>-0.110124</td>\n",
       "      <td>-0.105079</td>\n",
       "      <td>-0.022697</td>\n",
       "      <td>-0.108984</td>\n",
       "      <td>0.100776</td>\n",
       "    </tr>\n",
       "    <tr>\n",
       "      <th>Confirmation - Day of Month</th>\n",
       "      <td>-0.018951</td>\n",
       "      <td>1.000000</td>\n",
       "      <td>0.002622</td>\n",
       "      <td>1.000000</td>\n",
       "      <td>0.002665</td>\n",
       "      <td>1.000000</td>\n",
       "      <td>0.002665</td>\n",
       "      <td>1.000000</td>\n",
       "      <td>0.002665</td>\n",
       "      <td>1.000000</td>\n",
       "      <td>...</td>\n",
       "      <td>-0.057246</td>\n",
       "      <td>0.030961</td>\n",
       "      <td>0.018544</td>\n",
       "      <td>-0.031015</td>\n",
       "      <td>-0.022392</td>\n",
       "      <td>0.000912</td>\n",
       "      <td>0.058915</td>\n",
       "      <td>0.068961</td>\n",
       "      <td>-0.013317</td>\n",
       "      <td>-0.084341</td>\n",
       "    </tr>\n",
       "    <tr>\n",
       "      <th>Confirmation - Weekday (Mo = 1)</th>\n",
       "      <td>-0.091748</td>\n",
       "      <td>0.002666</td>\n",
       "      <td>0.999998</td>\n",
       "      <td>0.002665</td>\n",
       "      <td>1.000000</td>\n",
       "      <td>0.002665</td>\n",
       "      <td>1.000000</td>\n",
       "      <td>0.002665</td>\n",
       "      <td>1.000000</td>\n",
       "      <td>0.002665</td>\n",
       "      <td>...</td>\n",
       "      <td>-0.027893</td>\n",
       "      <td>0.042989</td>\n",
       "      <td>-0.042199</td>\n",
       "      <td>0.095878</td>\n",
       "      <td>-0.035806</td>\n",
       "      <td>-0.110127</td>\n",
       "      <td>-0.105141</td>\n",
       "      <td>-0.022671</td>\n",
       "      <td>-0.109029</td>\n",
       "      <td>0.100813</td>\n",
       "    </tr>\n",
       "  </tbody>\n",
       "</table>\n",
       "<p>5 rows × 23 columns</p>\n",
       "</div>"
      ],
      "text/plain": [
       "                                 Platform Type  Placement - Day of Month  \\\n",
       "Platform Type                         1.000000                 -0.018958   \n",
       "Placement - Day of Month             -0.018958                  1.000000   \n",
       "Placement - Weekday (Mo = 1)         -0.091786                  0.002623   \n",
       "Confirmation - Day of Month          -0.018951                  1.000000   \n",
       "Confirmation - Weekday (Mo = 1)      -0.091748                  0.002666   \n",
       "\n",
       "                                 Placement - Weekday (Mo = 1)  \\\n",
       "Platform Type                                       -0.091786   \n",
       "Placement - Day of Month                             0.002623   \n",
       "Placement - Weekday (Mo = 1)                         1.000000   \n",
       "Confirmation - Day of Month                          0.002622   \n",
       "Confirmation - Weekday (Mo = 1)                      0.999998   \n",
       "\n",
       "                                 Confirmation - Day of Month  \\\n",
       "Platform Type                                      -0.018951   \n",
       "Placement - Day of Month                            1.000000   \n",
       "Placement - Weekday (Mo = 1)                        0.002622   \n",
       "Confirmation - Day of Month                         1.000000   \n",
       "Confirmation - Weekday (Mo = 1)                     0.002665   \n",
       "\n",
       "                                 Confirmation - Weekday (Mo = 1)  \\\n",
       "Platform Type                                          -0.091748   \n",
       "Placement - Day of Month                                0.002666   \n",
       "Placement - Weekday (Mo = 1)                            0.999998   \n",
       "Confirmation - Day of Month                             0.002665   \n",
       "Confirmation - Weekday (Mo = 1)                         1.000000   \n",
       "\n",
       "                                 Arrival at Pickup - Day of Month  \\\n",
       "Platform Type                                           -0.018951   \n",
       "Placement - Day of Month                                 1.000000   \n",
       "Placement - Weekday (Mo = 1)                             0.002622   \n",
       "Confirmation - Day of Month                              1.000000   \n",
       "Confirmation - Weekday (Mo = 1)                          0.002665   \n",
       "\n",
       "                                 Arrival at Pickup - Weekday (Mo = 1)  \\\n",
       "Platform Type                                               -0.091748   \n",
       "Placement - Day of Month                                     0.002666   \n",
       "Placement - Weekday (Mo = 1)                                 0.999998   \n",
       "Confirmation - Day of Month                                  0.002665   \n",
       "Confirmation - Weekday (Mo = 1)                              1.000000   \n",
       "\n",
       "                                 Pickup - Day of Month  \\\n",
       "Platform Type                                -0.018951   \n",
       "Placement - Day of Month                      1.000000   \n",
       "Placement - Weekday (Mo = 1)                  0.002622   \n",
       "Confirmation - Day of Month                   1.000000   \n",
       "Confirmation - Weekday (Mo = 1)               0.002665   \n",
       "\n",
       "                                 Pickup - Weekday (Mo = 1)  \\\n",
       "Platform Type                                    -0.091748   \n",
       "Placement - Day of Month                          0.002666   \n",
       "Placement - Weekday (Mo = 1)                      0.999998   \n",
       "Confirmation - Day of Month                       0.002665   \n",
       "Confirmation - Weekday (Mo = 1)                   1.000000   \n",
       "\n",
       "                                 Arrival at Destination - Day of Month  ...  \\\n",
       "Platform Type                                                -0.018951  ...   \n",
       "Placement - Day of Month                                      1.000000  ...   \n",
       "Placement - Weekday (Mo = 1)                                  0.002622  ...   \n",
       "Confirmation - Day of Month                                   1.000000  ...   \n",
       "Confirmation - Weekday (Mo = 1)                               0.002665  ...   \n",
       "\n",
       "                                 Precipitation in millimeters  Pickup Lat  \\\n",
       "Platform Type                                       -0.039997    0.018723   \n",
       "Placement - Day of Month                            -0.057245    0.030950   \n",
       "Placement - Weekday (Mo = 1)                        -0.027884    0.042922   \n",
       "Confirmation - Day of Month                         -0.057246    0.030961   \n",
       "Confirmation - Weekday (Mo = 1)                     -0.027893    0.042989   \n",
       "\n",
       "                                 Pickup Long  Destination Lat  \\\n",
       "Platform Type                       0.041415         0.006984   \n",
       "Placement - Day of Month            0.018550        -0.031019   \n",
       "Placement - Weekday (Mo = 1)       -0.042164         0.095851   \n",
       "Confirmation - Day of Month         0.018544        -0.031015   \n",
       "Confirmation - Weekday (Mo = 1)    -0.042199         0.095878   \n",
       "\n",
       "                                 Destination Long  No_Of_Orders       Age  \\\n",
       "Platform Type                            0.035244      0.015274 -0.103566   \n",
       "Placement - Day of Month                -0.022392      0.000913  0.058926   \n",
       "Placement - Weekday (Mo = 1)            -0.035805     -0.110124 -0.105079   \n",
       "Confirmation - Day of Month             -0.022392      0.000912  0.058915   \n",
       "Confirmation - Weekday (Mo = 1)         -0.035806     -0.110127 -0.105141   \n",
       "\n",
       "                                 Average_Rating  No_of_Ratings  \\\n",
       "Platform Type                         -0.076152      -0.055286   \n",
       "Placement - Day of Month               0.068957      -0.013309   \n",
       "Placement - Weekday (Mo = 1)          -0.022697      -0.108984   \n",
       "Confirmation - Day of Month            0.068961      -0.013317   \n",
       "Confirmation - Weekday (Mo = 1)       -0.022671      -0.109029   \n",
       "\n",
       "                                 Time from Pickup to Arrival  \n",
       "Platform Type                                       0.032976  \n",
       "Placement - Day of Month                           -0.084348  \n",
       "Placement - Weekday (Mo = 1)                        0.100776  \n",
       "Confirmation - Day of Month                        -0.084341  \n",
       "Confirmation - Weekday (Mo = 1)                     0.100813  \n",
       "\n",
       "[5 rows x 23 columns]"
      ]
     },
     "execution_count": 9,
     "metadata": {},
     "output_type": "execute_result"
    },
    {
     "data": {
      "image/png": "[encoded data removed]",
      "text/plain": [
       "<Figure size 432x288 with 2 Axes>"
      ]
     },
     "metadata": {
      "needs_background": "light"
     },
     "output_type": "display_data"
    }
   ],
   "source": [
    "# Heatmap and correlation table of grouped dataset\n",
    "corr = df_grp.corr()\n",
    "ax = sns.heatmap(corr, cmap = sns.diverging_palette(20, 220, n=200),  vmax = 1, vmin = -1 , center = 0 )\n",
    "corr.head()"
   ]
  },
  {
   "cell_type": "markdown",
   "metadata": {},
   "source": [
    "It is important to note that the correlation coefficient lies between -1 and 1. Variables with a positive\n",
    "correlation are positively correlated and those with a negative correlation are negatively correlated."
   ]
  },
  {
   "cell_type": "markdown",
   "metadata": {},
   "source": [
    "## Scatter Plot Analysis and Correlation"
   ]
  },
  {
   "cell_type": "code",
   "execution_count": 9,
   "metadata": {},
   "outputs": [],
   "source": [
    "# Function used to determine the slope of the best fit line\n",
    "def best_fit_slope(X,y):\n",
    "    m = ((mean(X) * mean(y)) - mean(X * y))/ ((mean(X)**2) - (mean(X**2)))\n",
    "    return m"
   ]
  },
  {
   "cell_type": "markdown",
   "metadata": {},
   "source": [
    "The line of best fit will enable us to check whether  our model is underfit,correctly fit or it is overfit"
   ]
  },
  {
   "cell_type": "code",
   "execution_count": 8,
   "metadata": {},
   "outputs": [],
   "source": [
    "#Function used to determine y-intercept of best fit line\n",
    "def best_fit_yintercept(X, y, m):\n",
    "    b = mean(y) - (m*mean(X))\n",
    "    return b"
   ]
  },
  {
   "cell_type": "code",
   "execution_count": 19,
   "metadata": {},
   "outputs": [
    {
     "data": {
      "text/plain": [
       "<matplotlib.collections.PathCollection at 0x1bee9a24c88>"
      ]
     },
     "execution_count": 19,
     "metadata": {},
     "output_type": "execute_result"
    },
    {
     "data": {
      "image/png": "[encoded data removed]",
      "text/plain": [
       "<Figure size 432x288 with 1 Axes>"
      ]
     },
     "metadata": {
      "needs_background": "light"
     },
     "output_type": "display_data"
    }
   ],
   "source": [
    "X = df['Average_Rating']\n",
    "y = df['Time from Pickup to Arrival']\n",
    "m = best_fit_slope(X,y)\n",
    "b = best_fit_yintercept(X, y, m)\n",
    "y_line = m*X + b\n",
    "plt.plot(X, y_line,color = 'red')\n",
    "plt.scatter(X, y)"
   ]
  },
  {
   "cell_type": "code",
   "execution_count": 20,
   "metadata": {},
   "outputs": [
    {
     "data": {
      "text/plain": [
       "<matplotlib.collections.PathCollection at 0x1bee9aa20f0>"
      ]
     },
     "execution_count": 20,
     "metadata": {},
     "output_type": "execute_result"
    },
    {
     "data": {
      "image/png": "[encoded data removed]",
      "text/plain": [
       "<Figure size 432x288 with 1 Axes>"
      ]
     },
     "metadata": {
      "needs_background": "light"
     },
     "output_type": "display_data"
    }
   ],
   "source": [
    "X = df['Distance (KM)']\n",
    "y = df['Time from Pickup to Arrival']\n",
    "m = best_fit_slope(X,y)\n",
    "b = best_fit_yintercept(X, y, m)\n",
    "\n",
    "y_line = m*X + b\n",
    "plt.plot(X, y_line, color = 'red')\n",
    "plt.scatter(X, y)"
   ]
  },
  {
   "cell_type": "markdown",
   "metadata": {},
   "source": [
    "The line of best fit shows that a lot of our predictions are deviated from the actual values.There is also a\n",
    "lot of variation in the values that were predicted."
   ]
  },
  {
   "cell_type": "code",
   "execution_count": 21,
   "metadata": {},
   "outputs": [
    {
     "data": {
      "text/plain": [
       "<matplotlib.collections.PathCollection at 0x1bee9b075f8>"
      ]
     },
     "execution_count": 21,
     "metadata": {},
     "output_type": "execute_result"
    },
    {
     "data": {
      "image/png": "[encoded data removed]",
      "text/plain": [
       "<Figure size 432x288 with 1 Axes>"
      ]
     },
     "metadata": {
      "needs_background": "light"
     },
     "output_type": "display_data"
    }
   ],
   "source": [
    "X = df['Average_Rating']\n",
    "y = df['No_of_Ratings']\n",
    "m = best_fit_slope(X, y)\n",
    "b = best_fit_yintercept(X, y, m)\n",
    "\n",
    "y_line = m*X + b\n",
    "plt.plot(X, y_line, color='red')\n",
    "plt.scatter(X, y)"
   ]
  },
  {
   "cell_type": "code",
   "execution_count": 88,
   "metadata": {},
   "outputs": [
    {
     "data": {
      "text/plain": [
       "<matplotlib.axes._subplots.AxesSubplot at 0x1d40f5dc518>"
      ]
     },
     "execution_count": 88,
     "metadata": {},
     "output_type": "execute_result"
    },
    {
     "data": {
      "image/png": "[encoded data removed]",
      "text/plain": [
       "<Figure size 432x288 with 1 Axes>"
      ]
     },
     "metadata": {
      "needs_background": "light"
     },
     "output_type": "display_data"
    }
   ],
   "source": [
    "sns.lineplot(df['Distance (KM)'], df['Time from Pickup to Arrival'])"
   ]
  },
  {
   "cell_type": "markdown",
   "metadata": {},
   "source": [
    "We can see that there is a strong correlation between the Distance and the Time from pickup to arrival."
   ]
  },
  {
   "cell_type": "markdown",
   "metadata": {},
   "source": [
    "## Box Plot Analysis"
   ]
  },
  {
   "cell_type": "code",
   "execution_count": 22,
   "metadata": {},
   "outputs": [
    {
     "data": {
      "text/plain": [
       "<matplotlib.axes._subplots.AxesSubplot at 0x1bee9abdba8>"
      ]
     },
     "execution_count": 22,
     "metadata": {},
     "output_type": "execute_result"
    },
    {
     "data": {
      "image/png": "[encoded data removed]",
      "text/plain": [
       "<Figure size 432x288 with 1 Axes>"
      ]
     },
     "metadata": {
      "needs_background": "light"
     },
     "output_type": "display_data"
    }
   ],
   "source": [
    "sns.boxplot( x = 'Platform Type', y = 'Time from Pickup to Arrival', data = df)"
   ]
  },
  {
   "cell_type": "markdown",
   "metadata": {},
   "source": [
    "This boxplot shows that the average time each delivery took is the same for every platform, therefore using this variable in our regression model would not benefit it."
   ]
  },
  {
   "cell_type": "markdown",
   "metadata": {},
   "source": [
    "## Residual Plot Analysis"
   ]
  },
  {
   "cell_type": "code",
   "execution_count": 23,
   "metadata": {},
   "outputs": [
    {
     "data": {
      "text/plain": [
       "<matplotlib.axes._subplots.AxesSubplot at 0x1bee9bdeb00>"
      ]
     },
     "execution_count": 23,
     "metadata": {},
     "output_type": "execute_result"
    },
    {
     "data": {
      "image/png": "[encoded data removed]",
      "text/plain": [
       "<Figure size 432x288 with 1 Axes>"
      ]
     },
     "metadata": {
      "needs_background": "light"
     },
     "output_type": "display_data"
    }
   ],
   "source": [
    "# If residuals are randomly spread out around x-axis then a linear model is appropriate.\n",
    "# Not randomly spread around the x-axis means linear model is not appropriate. Non-linear model may be appropriate.\n",
    "\n",
    "sns.residplot(df['Distance (KM)'], df['Time from Pickup to Arrival'])"
   ]
  },
  {
   "cell_type": "code",
   "execution_count": 24,
   "metadata": {},
   "outputs": [
    {
     "data": {
      "text/plain": [
       "<matplotlib.axes._subplots.AxesSubplot at 0x1beea1f14a8>"
      ]
     },
     "execution_count": 24,
     "metadata": {},
     "output_type": "execute_result"
    },
    {
     "data": {
      "image/png": "[encoded data removed]",
      "text/plain": [
       "<Figure size 432x288 with 1 Axes>"
      ]
     },
     "metadata": {
      "needs_background": "light"
     },
     "output_type": "display_data"
    }
   ],
   "source": [
    "sns.residplot(df['Average_Rating'], df['Time from Pickup to Arrival'])"
   ]
  },
  {
   "cell_type": "code",
   "execution_count": 25,
   "metadata": {},
   "outputs": [
    {
     "data": {
      "text/plain": [
       "<matplotlib.axes._subplots.AxesSubplot at 0x1bee9c39860>"
      ]
     },
     "execution_count": 25,
     "metadata": {},
     "output_type": "execute_result"
    },
    {
     "data": {
      "image/png": "[encoded data removed]",
      "text/plain": [
       "<Figure size 432x288 with 1 Axes>"
      ]
     },
     "metadata": {
      "needs_background": "light"
     },
     "output_type": "display_data"
    }
   ],
   "source": [
    "sns.residplot(df['Average_Rating'], df['No_of_Ratings'])"
   ]
  },
  {
   "cell_type": "markdown",
   "metadata": {},
   "source": [
    "Signs of heteroscedascity can be seen in the residual plots. Nonlinear models are appropriate for these relationships."
   ]
  },
  {
   "cell_type": "markdown",
   "metadata": {},
   "source": [
    "## Time Analysis"
   ]
  },
  {
   "cell_type": "code",
   "execution_count": 27,
   "metadata": {},
   "outputs": [
    {
     "data": {
      "text/plain": [
       "<matplotlib.axes._subplots.AxesSubplot at 0x1beea3639b0>"
      ]
     },
     "execution_count": 27,
     "metadata": {},
     "output_type": "execute_result"
    },
    {
     "data": {
      "image/png": "[encoded data removed]",
      "text/plain": [
       "<Figure size 432x288 with 1 Axes>"
      ]
     },
     "metadata": {
      "needs_background": "light"
     },
     "output_type": "display_data"
    }
   ],
   "source": [
    "sns.distplot(df['Platform Type'], kde = False, bins = 3)"
   ]
  },
  {
   "cell_type": "markdown",
   "metadata": {},
   "source": [
    "The most popular platform type through which orders are placed in platform 3"
   ]
  },
  {
   "cell_type": "markdown",
   "metadata": {},
   "source": [
    "We extract the time from the time columns and determine the hour when each order was placed, confirmed and picked up"
   ]
  },
  {
   "cell_type": "code",
   "execution_count": 123,
   "metadata": {},
   "outputs": [],
   "source": [
    "# Change columns with time to have datetime data types\n",
    "df['Pickup - Time'] = pd.to_datetime(df['Pickup - Time'], infer_datetime_format=True)\n",
    "df['Placement - Time'] = pd.to_datetime(df['Placement - Time'], infer_datetime_format=True)\n",
    "df['Confirmation - Time'] = pd.to_datetime(df['Confirmation - Time'], infer_datetime_format=True)\n",
    "df['Arrival at Pickup - Time'] = pd.to_datetime(df['Arrival at Pickup - Time'], infer_datetime_format=True)\n",
    "\n",
    "\n",
    "# Extract the hour when each order was placed\n",
    "pickup_hour = df['Pickup - Time']\n",
    "placement_hour = df['Placement - Time']\n",
    "confirmation_hour = df['Confirmation - Time']\n",
    "arrival_hour = df['Arrival at Pickup - Time']"
   ]
  },
  {
   "cell_type": "code",
   "execution_count": 124,
   "metadata": {},
   "outputs": [
    {
     "name": "stdout",
     "output_type": "stream",
     "text": [
      "<class 'pandas.core.frame.DataFrame'>\n",
      "Int64Index: 21201 entries, 0 to 21200\n",
      "Data columns (total 33 columns):\n",
      "Order No                                     21201 non-null object\n",
      "User Id                                      21201 non-null object\n",
      "Vehicle Type                                 21201 non-null object\n",
      "Platform Type                                21201 non-null int64\n",
      "Personal or Business                         21201 non-null object\n",
      "Placement - Day of Month                     21201 non-null int64\n",
      "Placement - Weekday (Mo = 1)                 21201 non-null int64\n",
      "Placement - Time                             21201 non-null datetime64[ns]\n",
      "Confirmation - Day of Month                  21201 non-null int64\n",
      "Confirmation - Weekday (Mo = 1)              21201 non-null int64\n",
      "Confirmation - Time                          21201 non-null datetime64[ns]\n",
      "Arrival at Pickup - Day of Month             21201 non-null int64\n",
      "Arrival at Pickup - Weekday (Mo = 1)         21201 non-null int64\n",
      "Arrival at Pickup - Time                     21201 non-null datetime64[ns]\n",
      "Pickup - Day of Month                        21201 non-null int64\n",
      "Pickup - Weekday (Mo = 1)                    21201 non-null int64\n",
      "Pickup - Time                                21201 non-null datetime64[ns]\n",
      "Arrival at Destination - Day of Month        21201 non-null int64\n",
      "Arrival at Destination - Weekday (Mo = 1)    21201 non-null int64\n",
      "Arrival at Destination - Time                21201 non-null object\n",
      "Distance (KM)                                21201 non-null int64\n",
      "Temperature                                  16835 non-null float64\n",
      "Precipitation in millimeters                 552 non-null float64\n",
      "Pickup Lat                                   21201 non-null float64\n",
      "Pickup Long                                  21201 non-null float64\n",
      "Destination Lat                              21201 non-null float64\n",
      "Destination Long                             21201 non-null float64\n",
      "Rider Id                                     21201 non-null object\n",
      "No_Of_Orders                                 21201 non-null int64\n",
      "Age                                          21201 non-null int64\n",
      "Average_Rating                               21201 non-null float64\n",
      "No_of_Ratings                                21201 non-null int64\n",
      "Time from Pickup to Arrival                  21201 non-null int64\n",
      "dtypes: datetime64[ns](4), float64(7), int64(16), object(6)\n",
      "memory usage: 5.5+ MB\n"
     ]
    }
   ],
   "source": [
    "df.info()"
   ]
  },
  {
   "cell_type": "code",
   "execution_count": 125,
   "metadata": {},
   "outputs": [
    {
     "data": {
      "text/html": [
       "<div>\n",
       "<style scoped>\n",
       "    .dataframe tbody tr th:only-of-type {\n",
       "        vertical-align: middle;\n",
       "    }\n",
       "\n",
       "    .dataframe tbody tr th {\n",
       "        vertical-align: top;\n",
       "    }\n",
       "\n",
       "    .dataframe thead th {\n",
       "        text-align: right;\n",
       "    }\n",
       "</style>\n",
       "<table border=\"1\" class=\"dataframe\">\n",
       "  <thead>\n",
       "    <tr style=\"text-align: right;\">\n",
       "      <th></th>\n",
       "      <th>Order No</th>\n",
       "      <th>User Id</th>\n",
       "      <th>Vehicle Type</th>\n",
       "      <th>Platform Type</th>\n",
       "      <th>Personal or Business</th>\n",
       "      <th>Placement - Day of Month</th>\n",
       "      <th>Placement - Weekday (Mo = 1)</th>\n",
       "      <th>Placement - Time</th>\n",
       "      <th>Confirmation - Day of Month</th>\n",
       "      <th>Confirmation - Weekday (Mo = 1)</th>\n",
       "      <th>...</th>\n",
       "      <th>Pickup Lat</th>\n",
       "      <th>Pickup Long</th>\n",
       "      <th>Destination Lat</th>\n",
       "      <th>Destination Long</th>\n",
       "      <th>Rider Id</th>\n",
       "      <th>No_Of_Orders</th>\n",
       "      <th>Age</th>\n",
       "      <th>Average_Rating</th>\n",
       "      <th>No_of_Ratings</th>\n",
       "      <th>Time from Pickup to Arrival</th>\n",
       "    </tr>\n",
       "  </thead>\n",
       "  <tbody>\n",
       "    <tr>\n",
       "      <th>0</th>\n",
       "      <td>Order_No_4211</td>\n",
       "      <td>User_Id_633</td>\n",
       "      <td>Bike</td>\n",
       "      <td>3</td>\n",
       "      <td>Business</td>\n",
       "      <td>9</td>\n",
       "      <td>5</td>\n",
       "      <td>09:35:46</td>\n",
       "      <td>9</td>\n",
       "      <td>5</td>\n",
       "      <td>...</td>\n",
       "      <td>-1.317755</td>\n",
       "      <td>36.830370</td>\n",
       "      <td>-1.300406</td>\n",
       "      <td>36.829741</td>\n",
       "      <td>Rider_Id_432</td>\n",
       "      <td>1637</td>\n",
       "      <td>1309</td>\n",
       "      <td>13.8</td>\n",
       "      <td>549</td>\n",
       "      <td>745</td>\n",
       "    </tr>\n",
       "    <tr>\n",
       "      <th>1</th>\n",
       "      <td>Order_No_27440</td>\n",
       "      <td>User_Id_2642</td>\n",
       "      <td>Bike</td>\n",
       "      <td>3</td>\n",
       "      <td>Personal</td>\n",
       "      <td>18</td>\n",
       "      <td>5</td>\n",
       "      <td>15:41:17</td>\n",
       "      <td>18</td>\n",
       "      <td>5</td>\n",
       "      <td>...</td>\n",
       "      <td>-1.326774</td>\n",
       "      <td>36.787807</td>\n",
       "      <td>-1.356237</td>\n",
       "      <td>36.904295</td>\n",
       "      <td>Rider_Id_432</td>\n",
       "      <td>1637</td>\n",
       "      <td>1309</td>\n",
       "      <td>13.8</td>\n",
       "      <td>549</td>\n",
       "      <td>2886</td>\n",
       "    </tr>\n",
       "    <tr>\n",
       "      <th>2</th>\n",
       "      <td>Order_No_14170</td>\n",
       "      <td>User_Id_3339</td>\n",
       "      <td>Bike</td>\n",
       "      <td>3</td>\n",
       "      <td>Business</td>\n",
       "      <td>31</td>\n",
       "      <td>5</td>\n",
       "      <td>12:51:41</td>\n",
       "      <td>31</td>\n",
       "      <td>5</td>\n",
       "      <td>...</td>\n",
       "      <td>-1.255189</td>\n",
       "      <td>36.782203</td>\n",
       "      <td>-1.273412</td>\n",
       "      <td>36.818206</td>\n",
       "      <td>Rider_Id_432</td>\n",
       "      <td>1637</td>\n",
       "      <td>1309</td>\n",
       "      <td>13.8</td>\n",
       "      <td>549</td>\n",
       "      <td>2615</td>\n",
       "    </tr>\n",
       "    <tr>\n",
       "      <th>3</th>\n",
       "      <td>Order_No_21727</td>\n",
       "      <td>User_Id_3523</td>\n",
       "      <td>Bike</td>\n",
       "      <td>3</td>\n",
       "      <td>Personal</td>\n",
       "      <td>2</td>\n",
       "      <td>2</td>\n",
       "      <td>07:12:10</td>\n",
       "      <td>2</td>\n",
       "      <td>2</td>\n",
       "      <td>...</td>\n",
       "      <td>-1.290315</td>\n",
       "      <td>36.757377</td>\n",
       "      <td>-1.223520</td>\n",
       "      <td>36.802061</td>\n",
       "      <td>Rider_Id_432</td>\n",
       "      <td>1637</td>\n",
       "      <td>1309</td>\n",
       "      <td>13.8</td>\n",
       "      <td>549</td>\n",
       "      <td>2986</td>\n",
       "    </tr>\n",
       "    <tr>\n",
       "      <th>4</th>\n",
       "      <td>Order_No_8301</td>\n",
       "      <td>User_Id_87</td>\n",
       "      <td>Bike</td>\n",
       "      <td>2</td>\n",
       "      <td>Personal</td>\n",
       "      <td>22</td>\n",
       "      <td>2</td>\n",
       "      <td>10:40:58</td>\n",
       "      <td>22</td>\n",
       "      <td>2</td>\n",
       "      <td>...</td>\n",
       "      <td>-1.273524</td>\n",
       "      <td>36.799220</td>\n",
       "      <td>-1.300431</td>\n",
       "      <td>36.752427</td>\n",
       "      <td>Rider_Id_432</td>\n",
       "      <td>1637</td>\n",
       "      <td>1309</td>\n",
       "      <td>13.8</td>\n",
       "      <td>549</td>\n",
       "      <td>1602</td>\n",
       "    </tr>\n",
       "  </tbody>\n",
       "</table>\n",
       "<p>5 rows × 35 columns</p>\n",
       "</div>"
      ],
      "text/plain": [
       "         Order No       User Id Vehicle Type  Platform Type  \\\n",
       "0   Order_No_4211   User_Id_633         Bike              3   \n",
       "1  Order_No_27440  User_Id_2642         Bike              3   \n",
       "2  Order_No_14170  User_Id_3339         Bike              3   \n",
       "3  Order_No_21727  User_Id_3523         Bike              3   \n",
       "4   Order_No_8301    User_Id_87         Bike              2   \n",
       "\n",
       "  Personal or Business  Placement - Day of Month  \\\n",
       "0             Business                         9   \n",
       "1             Personal                        18   \n",
       "2             Business                        31   \n",
       "3             Personal                         2   \n",
       "4             Personal                        22   \n",
       "\n",
       "   Placement - Weekday (Mo = 1) Placement - Time  Confirmation - Day of Month  \\\n",
       "0                             5         09:35:46                            9   \n",
       "1                             5         15:41:17                           18   \n",
       "2                             5         12:51:41                           31   \n",
       "3                             2         07:12:10                            2   \n",
       "4                             2         10:40:58                           22   \n",
       "\n",
       "   Confirmation - Weekday (Mo = 1)  ... Pickup Lat  Pickup Long  \\\n",
       "0                                5  ...  -1.317755    36.830370   \n",
       "1                                5  ...  -1.326774    36.787807   \n",
       "2                                5  ...  -1.255189    36.782203   \n",
       "3                                2  ...  -1.290315    36.757377   \n",
       "4                                2  ...  -1.273524    36.799220   \n",
       "\n",
       "   Destination Lat  Destination Long      Rider Id  No_Of_Orders   Age  \\\n",
       "0        -1.300406         36.829741  Rider_Id_432          1637  1309   \n",
       "1        -1.356237         36.904295  Rider_Id_432          1637  1309   \n",
       "2        -1.273412         36.818206  Rider_Id_432          1637  1309   \n",
       "3        -1.223520         36.802061  Rider_Id_432          1637  1309   \n",
       "4        -1.300431         36.752427  Rider_Id_432          1637  1309   \n",
       "\n",
       "  Average_Rating  No_of_Ratings  Time from Pickup to Arrival  \n",
       "0           13.8            549                          745  \n",
       "1           13.8            549                         2886  \n",
       "2           13.8            549                         2615  \n",
       "3           13.8            549                         2986  \n",
       "4           13.8            549                         1602  \n",
       "\n",
       "[5 rows x 35 columns]"
      ]
     },
     "execution_count": 125,
     "metadata": {},
     "output_type": "execute_result"
    }
   ],
   "source": [
    "# Determine the time between each phase of the order in seconds\n",
    "df['Placement - Confirmation Time'] = (df['Confirmation - Time'] - df['Placement - Time'])/np.timedelta64(1, 's')\n",
    "df['Confirmation - Pickup Time'] = (time_df['Pickup - Time'] - df['Placement - Time'])/np.timedelta64(1, 's')\n",
    "\n",
    "#Remove the date in the column to only show the time stamp\n",
    "df['Pickup - Time'] = df['Pickup - Time'].dt.time\n",
    "df['Placement - Time'] = df['Placement - Time'].dt.time\n",
    "df['Confirmation - Time'] = df['Confirmation - Time'].dt.time\n",
    "\n",
    "#Rearrange the columns and group similar columns together   \n",
    "df = df[['Order No', 'User Id', 'Vehicle Type', 'Platform Type',\n",
    "       'Personal or Business', 'Placement - Day of Month',\n",
    "       'Placement - Weekday (Mo = 1)', 'Placement - Time',\n",
    "       'Confirmation - Day of Month', 'Confirmation - Weekday (Mo = 1)',\n",
    "       'Confirmation - Time', 'Placement - Confirmation Time', 'Arrival at Pickup - Day of Month',\n",
    "       'Arrival at Pickup - Weekday (Mo = 1)', 'Arrival at Pickup - Time',\n",
    "       'Pickup - Day of Month', 'Pickup - Weekday (Mo = 1)', 'Pickup - Time', 'Confirmation - Pickup Time',\n",
    "       'Arrival at Destination - Day of Month',\n",
    "       'Arrival at Destination - Weekday (Mo = 1)',\n",
    "       'Arrival at Destination - Time', 'Distance (KM)', 'Temperature',\n",
    "       'Precipitation in millimeters', 'Pickup Lat', 'Pickup Long',\n",
    "       'Destination Lat', 'Destination Long', 'Rider Id', 'No_Of_Orders',\n",
    "       'Age', 'Average_Rating', 'No_of_Ratings', 'Time from Pickup to Arrival']]\n",
    "df.head()"
   ]
  },
  {
   "cell_type": "markdown",
   "metadata": {},
   "source": [
    "We analyse the time data to see if there are differences depending on what time an order was placed. We look at the times when most orders are placed and the time between each stage that an order goes through (placement, confirmation, pickup)."
   ]
  },
  {
   "cell_type": "code",
   "execution_count": 71,
   "metadata": {},
   "outputs": [
    {
     "data": {
      "text/plain": [
       "<matplotlib.axes._subplots.AxesSubplot at 0x1d40c33a668>"
      ]
     },
     "execution_count": 71,
     "metadata": {},
     "output_type": "execute_result"
    },
    {
     "data": {
      "image/png": "[encoded data removed]",
      "text/plain": [
       "<Figure size 432x288 with 1 Axes>"
      ]
     },
     "metadata": {
      "needs_background": "light"
     },
     "output_type": "display_data"
    }
   ],
   "source": [
    "sns.distplot(placement_hour.dt.hour, kde = False, bins=24)"
   ]
  },
  {
   "cell_type": "code",
   "execution_count": 126,
   "metadata": {},
   "outputs": [
    {
     "data": {
      "text/plain": [
       "[Text(0, 0.5, 'Time from placemnt to confirmation (seconds)'),\n",
       " Text(0.5, 0, 'Order placement hour')]"
      ]
     },
     "execution_count": 126,
     "metadata": {},
     "output_type": "execute_result"
    },
    {
     "data": {
      "image/png": "[encoded data removed]",
      "text/plain": [
       "<Figure size 576x432 with 1 Axes>"
      ]
     },
     "metadata": {
      "needs_background": "light"
     },
     "output_type": "display_data"
    }
   ],
   "source": [
    "fig_dims = (8, 6)\n",
    "fig, ax = plt.subplots(figsize=fig_dims)\n",
    "ax = sns.boxplot( x =placement_hour.dt.hour , y = 'Placement - Confirmation Time', data = df, showfliers=False)\n",
    "ax.set(xlabel='Order placement hour', ylabel = 'Time from placemnt to confirmation (seconds)')"
   ]
  },
  {
   "cell_type": "code",
   "execution_count": 72,
   "metadata": {},
   "outputs": [
    {
     "data": {
      "text/plain": [
       "<matplotlib.axes._subplots.AxesSubplot at 0x1d40c394978>"
      ]
     },
     "execution_count": 72,
     "metadata": {},
     "output_type": "execute_result"
    },
    {
     "data": {
      "image/png": "[encoded data removed]",
      "text/plain": [
       "<Figure size 432x288 with 1 Axes>"
      ]
     },
     "metadata": {
      "needs_background": "light"
     },
     "output_type": "display_data"
    }
   ],
   "source": [
    "sns.distplot(pickup_hour.dt.hour, kde = False, bins=24)"
   ]
  },
  {
   "cell_type": "code",
   "execution_count": 127,
   "metadata": {},
   "outputs": [
    {
     "data": {
      "text/plain": [
       "[Text(0, 0.5, 'Time from placement to pickup (seconds)'),\n",
       " Text(0.5, 0, 'Order confirmation hour')]"
      ]
     },
     "execution_count": 127,
     "metadata": {},
     "output_type": "execute_result"
    },
    {
     "data": {
      "image/png": "[encoded data removed]",
      "text/plain": [
       "<Figure size 576x432 with 1 Axes>"
      ]
     },
     "metadata": {
      "needs_background": "light"
     },
     "output_type": "display_data"
    }
   ],
   "source": [
    "fig_dims = (8, 6)\n",
    "fig, ax = plt.subplots(figsize=fig_dims)\n",
    "ax =sns.boxplot( x = confirmation_hour.dt.hour, y = 'Confirmation - Pickup Time', data = df, showfliers=False)\n",
    "ax.set(xlabel='Order confirmation hour', ylabel = 'Time from placement to pickup (seconds)')"
   ]
  },
  {
   "cell_type": "code",
   "execution_count": 128,
   "metadata": {},
   "outputs": [
    {
     "data": {
      "text/plain": [
       "[Text(0, 0.5, 'Time from Pickup to Arrival'), Text(0.5, 0, 'Pickup hour')]"
      ]
     },
     "execution_count": 128,
     "metadata": {},
     "output_type": "execute_result"
    },
    {
     "data": {
      "image/png": "[encoded data removed]",
      "text/plain": [
       "<Figure size 576x432 with 1 Axes>"
      ]
     },
     "metadata": {
      "needs_background": "light"
     },
     "output_type": "display_data"
    }
   ],
   "source": [
    "fig_dims = (8, 6)\n",
    "fig, ax = plt.subplots(figsize=fig_dims)\n",
    "ax =sns.boxplot( x = pickup_hour.dt.hour, y = 'Time from Pickup to Arrival', data = df, showfliers=False)\n",
    "ax.set(xlabel='Pickup hour', ylabel = 'Time from Pickup to Arrival')"
   ]
  },
  {
   "cell_type": "markdown",
   "metadata": {},
   "source": [
    "## Summary"
   ]
  },
  {
   "cell_type": "markdown",
   "metadata": {},
   "source": [
    "We joined the training dataset and the riders dataset to get a better sense of the process that happens from the time an order is placed to the time it is delivered to the customer. We found that most orders are placed using platfrom 3 between 10 AM and 3 PM and on average it takes 1556 seconds (25 minutes) for the driver to make a delivery to the customer. Orders are mostly picked up within the same time frame. The average distance travelled by a driver to make a delivery is 9.5 KM. Since the dataset only includes bikes it was difficult to determine if there is a difference between the time from pickup to arrival based on the mode of transport used by a driver.\n",
    "\n",
    "We analysed the time between each stage that an order goes through (placement, confirmation, pickup) because this can influence the time it takes for an order to be delivered from the point of pickup. In analysing the time taken from placement to confirmation and confirmation to pickup, we can determine if there are inefficiencies that affect the delivery time. from the analysis we see that the confirmation is generally the same throughout the day, and it is longer if an order is placed before 7 AM and after 8 PM. After 8 AM the time from order placement to pickup is the same, it takes longer for orders places in the early hours of the morning to get picked up. As the day progresses the time for delivery stays the same, and orders are delivered faster after 8 PM.\n",
    "\n",
    "Missing values in the dataframe were filled using the mean of the column. The descision for columns to include in training the model was based on correlation and the column chosen was the Distance column since it has the highest correlation to the response variable(Time from pickup to arrival). \n",
    "\n",
    "We will start by training various models and in the end we will use the model with the lowest RMSE."
   ]
  },
  {
   "cell_type": "markdown",
   "metadata": {},
   "source": [
    "# Pre-processing\n",
    "## Shaping and Forming x and y"
   ]
  },
  {
   "cell_type": "code",
   "execution_count": 39,
   "metadata": {},
   "outputs": [],
   "source": [
    "train_df = train_data[['Distance (KM)', 'Time from Pickup to Arrival']]"
   ]
  },
  {
   "cell_type": "code",
   "execution_count": 40,
   "metadata": {},
   "outputs": [],
   "source": [
    "# Create the X and y variables from the dataset\n",
    "x = train_df.iloc[:, :-1].values\n",
    "y = train_df.iloc[:, -1].values"
   ]
  },
  {
   "cell_type": "code",
   "execution_count": 41,
   "metadata": {},
   "outputs": [
    {
     "name": "stdout",
     "output_type": "stream",
     "text": [
      "[[ 4]\n",
      " [16]\n",
      " [ 3]\n",
      " ...\n",
      " [20]\n",
      " [13]\n",
      " [12]] [[ 745]\n",
      " [1993]\n",
      " [ 455]\n",
      " ...\n",
      " [2953]\n",
      " [1380]\n",
      " [2128]]\n",
      "\n",
      " This is the correct form for the variables\n"
     ]
    }
   ],
   "source": [
    "# Re-shape x and y into a 2D array\n",
    "x = x.reshape(len(x), 1)\n",
    "y = y.reshape(len(y), 1)\n",
    "print(x,y)\n",
    "print(\"\\n This is the correct form for the variables\")"
   ]
  },
  {
   "cell_type": "markdown",
   "metadata": {},
   "source": [
    "## Scaling"
   ]
  },
  {
   "cell_type": "code",
   "execution_count": 42,
   "metadata": {},
   "outputs": [
    {
     "name": "stdout",
     "output_type": "stream",
     "text": [
      "[[-0.97137039]\n",
      " [ 1.14546888]\n",
      " [-1.14777366]\n",
      " ...\n",
      " [ 1.85108197]\n",
      " [ 0.61625906]\n",
      " [ 0.43985579]] [[-0.82240871]\n",
      " [ 0.44171198]\n",
      " [-1.11615471]\n",
      " ...\n",
      " [ 1.41411252]\n",
      " [-0.17920627]\n",
      " [ 0.57845581]]\n",
      "\n",
      " Variables scaled correctly\n"
     ]
    }
   ],
   "source": [
    "# We need to scale the data \n",
    "# We will use Sklean's StandardScaler for this\n",
    "\n",
    "sc_X = StandardScaler()\n",
    "sc_y = StandardScaler()\n",
    "x = sc_X.fit_transform(x)\n",
    "y = sc_y.fit_transform(y)\n",
    "\n",
    "print(x,y)\n",
    "print(\"\\n Variables scaled correctly\")"
   ]
  },
  {
   "cell_type": "markdown",
   "metadata": {},
   "source": [
    "# SVR Model\n",
    "### Our first attempt will be to try and use an SVR model\n",
    "## Training"
   ]
  },
  {
   "cell_type": "code",
   "execution_count": 43,
   "metadata": {},
   "outputs": [
    {
     "name": "stderr",
     "output_type": "stream",
     "text": [
      "C:\\ProgramData\\Anaconda3\\lib\\site-packages\\sklearn\\utils\\validation.py:724: DataConversionWarning: A column-vector y was passed when a 1d array was expected. Please change the shape of y to (n_samples, ), for example using ravel().\n",
      "  y = column_or_1d(y, warn=True)\n"
     ]
    },
    {
     "data": {
      "text/plain": [
       "SVR(C=1.0, cache_size=200, coef0=0.0, degree=3, epsilon=0.1,\n",
       "    gamma='auto_deprecated', kernel='rbf', max_iter=-1, shrinking=True,\n",
       "    tol=0.001, verbose=False)"
      ]
     },
     "execution_count": 43,
     "metadata": {},
     "output_type": "execute_result"
    }
   ],
   "source": [
    "from sklearn.svm import SVR\n",
    "\n",
    "svr_regressor = SVR(kernel = 'rbf')\n",
    "svr_regressor.fit(x, y)"
   ]
  },
  {
   "cell_type": "markdown",
   "metadata": {},
   "source": [
    "## Predicting  "
   ]
  },
  {
   "cell_type": "code",
   "execution_count": 44,
   "metadata": {},
   "outputs": [],
   "source": [
    "predicts = sc_y.inverse_transform(svr_regressor.predict(sc_X.transform(x)))"
   ]
  },
  {
   "cell_type": "code",
   "execution_count": 45,
   "metadata": {},
   "outputs": [
    {
     "name": "stdout",
     "output_type": "stream",
     "text": [
      "RMSE:  448.35600656558495\n"
     ]
    }
   ],
   "source": [
    "from sklearn.metrics import mean_squared_error\n",
    "print(\"RMSE: \", np.sqrt(mean_squared_error(y,predicts)))"
   ]
  },
  {
   "cell_type": "markdown",
   "metadata": {},
   "source": [
    "# Random Forest Regressor\n",
    "## Pre-Processing"
   ]
  },
  {
   "cell_type": "code",
   "execution_count": 46,
   "metadata": {},
   "outputs": [],
   "source": [
    "tr_df = train_data.copy()\n",
    "\n",
    "tr_df1 = tr_df.drop(['Order No', 'User Id', 'Vehicle Type', 'Personal or Business',\n",
    "                     'Placement - Time', 'Confirmation - Time', 'Arrival at Pickup - Time',\n",
    "                     'Pickup - Time', 'Arrival at Destination - Time', 'Precipitation in millimeters',\n",
    "                     'Temperature', 'Rider Id', 'Pickup Lat', 'Pickup Long', 'Destination Lat', 'Destination Long',\n",
    "                     'Arrival at Destination - Weekday (Mo = 1)', 'Arrival at Destination - Day of Month'], axis=1)"
   ]
  },
  {
   "cell_type": "code",
   "execution_count": 47,
   "metadata": {},
   "outputs": [],
   "source": [
    "ts_df = test_data.copy()\n",
    "\n",
    "ts_df1 = ts_df.drop(['Order No', 'User Id', 'Vehicle Type','Personal or Business' ,\n",
    "                     'Placement - Time', 'Confirmation - Time','Arrival at Pickup - Time', \n",
    "                     'Pickup - Time', 'Precipitation in millimeters', 'Temperature', 'Rider Id',\n",
    "                     'Pickup Lat','Pickup Long', 'Destination Lat','Destination Long' ], axis=1)\n",
    "ts_df1['Time from pickup to arrival'] = range(len(ts_df['Platform Type']))\n",
    "\n",
    "predvar = ts_df1.iloc[:, -2:-1].values"
   ]
  },
  {
   "cell_type": "code",
   "execution_count": 48,
   "metadata": {},
   "outputs": [],
   "source": [
    "\n",
    "rf_X = tr_df1.iloc[: , -2:-1].values\n",
    "rf_y = tr_df1.iloc[: , -1].values"
   ]
  },
  {
   "cell_type": "code",
   "execution_count": 49,
   "metadata": {},
   "outputs": [],
   "source": [
    "rf_X = rf_X.reshape(-1,1)\n",
    "rf_y= rf_y.reshape(-1,1)\n",
    "\n",
    "rf_X = sc_X.fit_transform(rf_X)\n",
    "rf_y = sc_y.fit_transform(rf_y)"
   ]
  },
  {
   "cell_type": "markdown",
   "metadata": {},
   "source": [
    "## Training"
   ]
  },
  {
   "cell_type": "code",
   "execution_count": 50,
   "metadata": {},
   "outputs": [
    {
     "name": "stderr",
     "output_type": "stream",
     "text": [
      "C:\\ProgramData\\Anaconda3\\lib\\site-packages\\sklearn\\ensemble\\forest.py:245: FutureWarning: The default value of n_estimators will change from 10 in version 0.20 to 100 in 0.22.\n",
      "  \"10 in version 0.20 to 100 in 0.22.\", FutureWarning)\n",
      "C:\\ProgramData\\Anaconda3\\lib\\site-packages\\ipykernel_launcher.py:4: DataConversionWarning: A column-vector y was passed when a 1d array was expected. Please change the shape of y to (n_samples,), for example using ravel().\n",
      "  after removing the cwd from sys.path.\n"
     ]
    },
    {
     "data": {
      "text/plain": [
       "RandomForestRegressor(bootstrap=True, criterion='mse', max_depth=None,\n",
       "                      max_features='auto', max_leaf_nodes=None,\n",
       "                      min_impurity_decrease=0.0, min_impurity_split=None,\n",
       "                      min_samples_leaf=1, min_samples_split=2,\n",
       "                      min_weight_fraction_leaf=0.0, n_estimators=10,\n",
       "                      n_jobs=None, oob_score=False, random_state=None,\n",
       "                      verbose=0, warm_start=False)"
      ]
     },
     "execution_count": 50,
     "metadata": {},
     "output_type": "execute_result"
    }
   ],
   "source": [
    "from sklearn.ensemble import RandomForestRegressor\n",
    "\n",
    "regressorRFR = RandomForestRegressor()\n",
    "regressorRFR.fit(rf_X, rf_y)"
   ]
  },
  {
   "cell_type": "markdown",
   "metadata": {},
   "source": [
    "## Predicting"
   ]
  },
  {
   "cell_type": "code",
   "execution_count": 51,
   "metadata": {},
   "outputs": [
    {
     "name": "stdout",
     "output_type": "stream",
     "text": [
      "RMSE:  1649.158033862915\n"
     ]
    }
   ],
   "source": [
    "RFRpreds = sc_y.inverse_transform(regressorRFR.predict(sc_X.transform(predvar)))\n",
    "print(\"RMSE: \", np.sqrt(mean_squared_error(predvar,RFRpreds)))"
   ]
  },
  {
   "cell_type": "markdown",
   "metadata": {},
   "source": [
    "# Linear Model"
   ]
  },
  {
   "cell_type": "markdown",
   "metadata": {},
   "source": [
    "## Training"
   ]
  },
  {
   "cell_type": "code",
   "execution_count": 52,
   "metadata": {},
   "outputs": [
    {
     "data": {
      "text/plain": [
       "LinearRegression(copy_X=True, fit_intercept=True, n_jobs=None, normalize=False)"
      ]
     },
     "execution_count": 52,
     "metadata": {},
     "output_type": "execute_result"
    }
   ],
   "source": [
    "# No need to pre-process the data this time as it has already been pre-processed to the desired from\n",
    "from sklearn.linear_model import LinearRegression\n",
    "\n",
    "regressor = LinearRegression()\n",
    "regressor.fit(x,y)"
   ]
  },
  {
   "cell_type": "code",
   "execution_count": 53,
   "metadata": {},
   "outputs": [
    {
     "name": "stdout",
     "output_type": "stream",
     "text": [
      "RMSE:  604.0926975240304\n"
     ]
    }
   ],
   "source": [
    "predicts_lin = sc_y.inverse_transform(regressor.predict(sc_X.transform(x)))\n",
    "\n",
    "from sklearn import metrics\n",
    "\n",
    "print(\"RMSE: \", np.sqrt(mean_squared_error(y,predicts_lin)))"
   ]
  },
  {
   "cell_type": "markdown",
   "metadata": {},
   "source": [
    "# Summary"
   ]
  },
  {
   "cell_type": "markdown",
   "metadata": {},
   "source": [
    "As we can see the model with the best fit is the random forest regressor this is the model we will use to build our API and can predict Values closely resembling the actual values.\n",
    "We will use that model to convert into a csv"
   ]
  },
  {
   "cell_type": "markdown",
   "metadata": {},
   "source": [
    "### Submitting to Zindi, creating an CSV file\n",
    "#### Don't run this code if not wanting to create a CSV file"
   ]
  },
  {
   "cell_type": "code",
   "execution_count": 54,
   "metadata": {},
   "outputs": [
    {
     "data": {
      "text/html": [
       "<div>\n",
       "<style scoped>\n",
       "    .dataframe tbody tr th:only-of-type {\n",
       "        vertical-align: middle;\n",
       "    }\n",
       "\n",
       "    .dataframe tbody tr th {\n",
       "        vertical-align: top;\n",
       "    }\n",
       "\n",
       "    .dataframe thead th {\n",
       "        text-align: right;\n",
       "    }\n",
       "</style>\n",
       "<table border=\"1\" class=\"dataframe\">\n",
       "  <thead>\n",
       "    <tr style=\"text-align: right;\">\n",
       "      <th></th>\n",
       "      <th>Order No</th>\n",
       "      <th>Time from pickup to arrival</th>\n",
       "    </tr>\n",
       "  </thead>\n",
       "  <tbody>\n",
       "    <tr>\n",
       "      <th>0</th>\n",
       "      <td>Order_No_19248</td>\n",
       "      <td>1497.543375</td>\n",
       "    </tr>\n",
       "    <tr>\n",
       "      <th>1</th>\n",
       "      <td>Order_No_12736</td>\n",
       "      <td>1140.790656</td>\n",
       "    </tr>\n",
       "    <tr>\n",
       "      <th>2</th>\n",
       "      <td>Order_No_768</td>\n",
       "      <td>1140.790656</td>\n",
       "    </tr>\n",
       "    <tr>\n",
       "      <th>3</th>\n",
       "      <td>Order_No_15332</td>\n",
       "      <td>1140.790656</td>\n",
       "    </tr>\n",
       "    <tr>\n",
       "      <th>4</th>\n",
       "      <td>Order_No_21373</td>\n",
       "      <td>1259.017079</td>\n",
       "    </tr>\n",
       "    <tr>\n",
       "      <th>5</th>\n",
       "      <td>Order_No_14573</td>\n",
       "      <td>2255.176948</td>\n",
       "    </tr>\n",
       "    <tr>\n",
       "      <th>6</th>\n",
       "      <td>Order_No_6731</td>\n",
       "      <td>2467.338667</td>\n",
       "    </tr>\n",
       "    <tr>\n",
       "      <th>7</th>\n",
       "      <td>Order_No_18436</td>\n",
       "      <td>1497.543375</td>\n",
       "    </tr>\n",
       "    <tr>\n",
       "      <th>8</th>\n",
       "      <td>Order_No_2288</td>\n",
       "      <td>1497.543375</td>\n",
       "    </tr>\n",
       "    <tr>\n",
       "      <th>9</th>\n",
       "      <td>Order_No_9063</td>\n",
       "      <td>2141.730104</td>\n",
       "    </tr>\n",
       "    <tr>\n",
       "      <th>10</th>\n",
       "      <td>Order_No_4814</td>\n",
       "      <td>1497.543375</td>\n",
       "    </tr>\n",
       "    <tr>\n",
       "      <th>11</th>\n",
       "      <td>Order_No_16747</td>\n",
       "      <td>2579.476676</td>\n",
       "    </tr>\n",
       "    <tr>\n",
       "      <th>12</th>\n",
       "      <td>Order_No_6376</td>\n",
       "      <td>1637.936427</td>\n",
       "    </tr>\n",
       "    <tr>\n",
       "      <th>13</th>\n",
       "      <td>Order_No_1199</td>\n",
       "      <td>1404.953853</td>\n",
       "    </tr>\n",
       "    <tr>\n",
       "      <th>14</th>\n",
       "      <td>Order_No_17119</td>\n",
       "      <td>1584.965293</td>\n",
       "    </tr>\n",
       "    <tr>\n",
       "      <th>15</th>\n",
       "      <td>Order_No_14832</td>\n",
       "      <td>1259.017079</td>\n",
       "    </tr>\n",
       "    <tr>\n",
       "      <th>16</th>\n",
       "      <td>Order_No_12321</td>\n",
       "      <td>798.796006</td>\n",
       "    </tr>\n",
       "    <tr>\n",
       "      <th>17</th>\n",
       "      <td>Order_No_24820</td>\n",
       "      <td>1584.965293</td>\n",
       "    </tr>\n",
       "    <tr>\n",
       "      <th>18</th>\n",
       "      <td>Order_No_6065</td>\n",
       "      <td>1404.953853</td>\n",
       "    </tr>\n",
       "    <tr>\n",
       "      <th>19</th>\n",
       "      <td>Order_No_13176</td>\n",
       "      <td>595.362646</td>\n",
       "    </tr>\n",
       "    <tr>\n",
       "      <th>20</th>\n",
       "      <td>Order_No_23557</td>\n",
       "      <td>798.796006</td>\n",
       "    </tr>\n",
       "    <tr>\n",
       "      <th>21</th>\n",
       "      <td>Order_No_20488</td>\n",
       "      <td>1954.670489</td>\n",
       "    </tr>\n",
       "    <tr>\n",
       "      <th>22</th>\n",
       "      <td>Order_No_24214</td>\n",
       "      <td>1404.953853</td>\n",
       "    </tr>\n",
       "    <tr>\n",
       "      <th>23</th>\n",
       "      <td>Order_No_21206</td>\n",
       "      <td>2255.176948</td>\n",
       "    </tr>\n",
       "    <tr>\n",
       "      <th>24</th>\n",
       "      <td>Order_No_1930</td>\n",
       "      <td>860.820708</td>\n",
       "    </tr>\n",
       "    <tr>\n",
       "      <th>25</th>\n",
       "      <td>Order_No_28180</td>\n",
       "      <td>1954.670489</td>\n",
       "    </tr>\n",
       "    <tr>\n",
       "      <th>26</th>\n",
       "      <td>Order_No_13329</td>\n",
       "      <td>595.362646</td>\n",
       "    </tr>\n",
       "    <tr>\n",
       "      <th>27</th>\n",
       "      <td>Order_No_19004</td>\n",
       "      <td>860.820708</td>\n",
       "    </tr>\n",
       "    <tr>\n",
       "      <th>28</th>\n",
       "      <td>Order_No_27510</td>\n",
       "      <td>1907.187906</td>\n",
       "    </tr>\n",
       "    <tr>\n",
       "      <th>29</th>\n",
       "      <td>Order_No_25394</td>\n",
       "      <td>1943.693064</td>\n",
       "    </tr>\n",
       "    <tr>\n",
       "      <th>...</th>\n",
       "      <td>...</td>\n",
       "      <td>...</td>\n",
       "    </tr>\n",
       "    <tr>\n",
       "      <th>7038</th>\n",
       "      <td>Order_No_10317</td>\n",
       "      <td>1140.790656</td>\n",
       "    </tr>\n",
       "    <tr>\n",
       "      <th>7039</th>\n",
       "      <td>Order_No_11143</td>\n",
       "      <td>1637.936427</td>\n",
       "    </tr>\n",
       "    <tr>\n",
       "      <th>7040</th>\n",
       "      <td>Order_No_8996</td>\n",
       "      <td>2312.468288</td>\n",
       "    </tr>\n",
       "    <tr>\n",
       "      <th>7041</th>\n",
       "      <td>Order_No_14381</td>\n",
       "      <td>595.362646</td>\n",
       "    </tr>\n",
       "    <tr>\n",
       "      <th>7042</th>\n",
       "      <td>Order_No_22839</td>\n",
       "      <td>860.820708</td>\n",
       "    </tr>\n",
       "    <tr>\n",
       "      <th>7043</th>\n",
       "      <td>Order_No_463</td>\n",
       "      <td>1259.017079</td>\n",
       "    </tr>\n",
       "    <tr>\n",
       "      <th>7044</th>\n",
       "      <td>Order_No_3700</td>\n",
       "      <td>1497.543375</td>\n",
       "    </tr>\n",
       "    <tr>\n",
       "      <th>7045</th>\n",
       "      <td>Order_No_23416</td>\n",
       "      <td>1637.936427</td>\n",
       "    </tr>\n",
       "    <tr>\n",
       "      <th>7046</th>\n",
       "      <td>Order_No_16891</td>\n",
       "      <td>595.362646</td>\n",
       "    </tr>\n",
       "    <tr>\n",
       "      <th>7047</th>\n",
       "      <td>Order_No_17710</td>\n",
       "      <td>1497.543375</td>\n",
       "    </tr>\n",
       "    <tr>\n",
       "      <th>7048</th>\n",
       "      <td>Order_No_233</td>\n",
       "      <td>1681.495662</td>\n",
       "    </tr>\n",
       "    <tr>\n",
       "      <th>7049</th>\n",
       "      <td>Order_No_15773</td>\n",
       "      <td>860.820708</td>\n",
       "    </tr>\n",
       "    <tr>\n",
       "      <th>7050</th>\n",
       "      <td>Order_No_15488</td>\n",
       "      <td>1140.790656</td>\n",
       "    </tr>\n",
       "    <tr>\n",
       "      <th>7051</th>\n",
       "      <td>Order_No_16865</td>\n",
       "      <td>1140.790656</td>\n",
       "    </tr>\n",
       "    <tr>\n",
       "      <th>7052</th>\n",
       "      <td>Order_No_1301</td>\n",
       "      <td>860.820708</td>\n",
       "    </tr>\n",
       "    <tr>\n",
       "      <th>7053</th>\n",
       "      <td>Order_No_18519</td>\n",
       "      <td>1140.790656</td>\n",
       "    </tr>\n",
       "    <tr>\n",
       "      <th>7054</th>\n",
       "      <td>Order_No_14258</td>\n",
       "      <td>1140.790656</td>\n",
       "    </tr>\n",
       "    <tr>\n",
       "      <th>7055</th>\n",
       "      <td>Order_No_8374</td>\n",
       "      <td>1497.543375</td>\n",
       "    </tr>\n",
       "    <tr>\n",
       "      <th>7056</th>\n",
       "      <td>Order_No_25128</td>\n",
       "      <td>2997.701706</td>\n",
       "    </tr>\n",
       "    <tr>\n",
       "      <th>7057</th>\n",
       "      <td>Order_No_11937</td>\n",
       "      <td>2780.006870</td>\n",
       "    </tr>\n",
       "    <tr>\n",
       "      <th>7058</th>\n",
       "      <td>Order_No_25241</td>\n",
       "      <td>1259.017079</td>\n",
       "    </tr>\n",
       "    <tr>\n",
       "      <th>7059</th>\n",
       "      <td>Order_No_5287</td>\n",
       "      <td>1497.543375</td>\n",
       "    </tr>\n",
       "    <tr>\n",
       "      <th>7060</th>\n",
       "      <td>Order_No_7712</td>\n",
       "      <td>2467.338667</td>\n",
       "    </tr>\n",
       "    <tr>\n",
       "      <th>7061</th>\n",
       "      <td>Order_No_294</td>\n",
       "      <td>1497.543375</td>\n",
       "    </tr>\n",
       "    <tr>\n",
       "      <th>7062</th>\n",
       "      <td>Order_No_16972</td>\n",
       "      <td>1140.790656</td>\n",
       "    </tr>\n",
       "    <tr>\n",
       "      <th>7063</th>\n",
       "      <td>Order_No_3612</td>\n",
       "      <td>1140.790656</td>\n",
       "    </tr>\n",
       "    <tr>\n",
       "      <th>7064</th>\n",
       "      <td>Order_No_7657</td>\n",
       "      <td>2780.006870</td>\n",
       "    </tr>\n",
       "    <tr>\n",
       "      <th>7065</th>\n",
       "      <td>Order_No_1969</td>\n",
       "      <td>1637.936427</td>\n",
       "    </tr>\n",
       "    <tr>\n",
       "      <th>7066</th>\n",
       "      <td>Order_No_10591</td>\n",
       "      <td>2467.338667</td>\n",
       "    </tr>\n",
       "    <tr>\n",
       "      <th>7067</th>\n",
       "      <td>Order_No_1603</td>\n",
       "      <td>1497.543375</td>\n",
       "    </tr>\n",
       "  </tbody>\n",
       "</table>\n",
       "<p>7068 rows × 2 columns</p>\n",
       "</div>"
      ],
      "text/plain": [
       "            Order No  Time from pickup to arrival\n",
       "0     Order_No_19248                  1497.543375\n",
       "1     Order_No_12736                  1140.790656\n",
       "2       Order_No_768                  1140.790656\n",
       "3     Order_No_15332                  1140.790656\n",
       "4     Order_No_21373                  1259.017079\n",
       "5     Order_No_14573                  2255.176948\n",
       "6      Order_No_6731                  2467.338667\n",
       "7     Order_No_18436                  1497.543375\n",
       "8      Order_No_2288                  1497.543375\n",
       "9      Order_No_9063                  2141.730104\n",
       "10     Order_No_4814                  1497.543375\n",
       "11    Order_No_16747                  2579.476676\n",
       "12     Order_No_6376                  1637.936427\n",
       "13     Order_No_1199                  1404.953853\n",
       "14    Order_No_17119                  1584.965293\n",
       "15    Order_No_14832                  1259.017079\n",
       "16    Order_No_12321                   798.796006\n",
       "17    Order_No_24820                  1584.965293\n",
       "18     Order_No_6065                  1404.953853\n",
       "19    Order_No_13176                   595.362646\n",
       "20    Order_No_23557                   798.796006\n",
       "21    Order_No_20488                  1954.670489\n",
       "22    Order_No_24214                  1404.953853\n",
       "23    Order_No_21206                  2255.176948\n",
       "24     Order_No_1930                   860.820708\n",
       "25    Order_No_28180                  1954.670489\n",
       "26    Order_No_13329                   595.362646\n",
       "27    Order_No_19004                   860.820708\n",
       "28    Order_No_27510                  1907.187906\n",
       "29    Order_No_25394                  1943.693064\n",
       "...              ...                          ...\n",
       "7038  Order_No_10317                  1140.790656\n",
       "7039  Order_No_11143                  1637.936427\n",
       "7040   Order_No_8996                  2312.468288\n",
       "7041  Order_No_14381                   595.362646\n",
       "7042  Order_No_22839                   860.820708\n",
       "7043    Order_No_463                  1259.017079\n",
       "7044   Order_No_3700                  1497.543375\n",
       "7045  Order_No_23416                  1637.936427\n",
       "7046  Order_No_16891                   595.362646\n",
       "7047  Order_No_17710                  1497.543375\n",
       "7048    Order_No_233                  1681.495662\n",
       "7049  Order_No_15773                   860.820708\n",
       "7050  Order_No_15488                  1140.790656\n",
       "7051  Order_No_16865                  1140.790656\n",
       "7052   Order_No_1301                   860.820708\n",
       "7053  Order_No_18519                  1140.790656\n",
       "7054  Order_No_14258                  1140.790656\n",
       "7055   Order_No_8374                  1497.543375\n",
       "7056  Order_No_25128                  2997.701706\n",
       "7057  Order_No_11937                  2780.006870\n",
       "7058  Order_No_25241                  1259.017079\n",
       "7059   Order_No_5287                  1497.543375\n",
       "7060   Order_No_7712                  2467.338667\n",
       "7061    Order_No_294                  1497.543375\n",
       "7062  Order_No_16972                  1140.790656\n",
       "7063   Order_No_3612                  1140.790656\n",
       "7064   Order_No_7657                  2780.006870\n",
       "7065   Order_No_1969                  1637.936427\n",
       "7066  Order_No_10591                  2467.338667\n",
       "7067   Order_No_1603                  1497.543375\n",
       "\n",
       "[7068 rows x 2 columns]"
      ]
     },
     "execution_count": 54,
     "metadata": {},
     "output_type": "execute_result"
    }
   ],
   "source": [
    "# Run this code only if wanting to create a CSV, we did this so we could submit to Zindi\n",
    "\n",
    "ts_df['Time from pickup to arrival'] = RFRpreds\n",
    "newer = ts_df[['Order No', 'Time from pickup to arrival']]\n",
    "newer.to_csv(\"28_Predict.csv\", index=False)\n",
    "newer"
   ]
  },
  {
   "cell_type": "code",
   "execution_count": null,
   "metadata": {},
   "outputs": [],
   "source": []
  }
 ],
 "metadata": {
  "kernelspec": {
   "display_name": "Python 3",
   "language": "python",
   "name": "python3"
  },
  "language_info": {
   "codemirror_mode": {
    "name": "ipython",
    "version": 3
   },
   "file_extension": ".py",
   "mimetype": "text/x-python",
   "name": "python",
   "nbconvert_exporter": "python",
   "pygments_lexer": "ipython3",
   "version": "3.7.4"
  },
  "toc": {
   "base_numbering": 1,
   "nav_menu": {},
   "number_sections": true,
   "sideBar": true,
   "skip_h1_title": false,
   "title_cell": "Table of Contents",
   "title_sidebar": "Contents",
   "toc_cell": false,
   "toc_position": {},
   "toc_section_display": true,
   "toc_window_display": false
  }
 },
 "nbformat": 4,
 "nbformat_minor": 2
}
