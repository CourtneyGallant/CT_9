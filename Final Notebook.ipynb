{
 "cells": [
  {
   "cell_type": "markdown",
   "metadata": {},
   "source": [
    "# Importing the data"
   ]
  },
  {
   "cell_type": "code",
   "execution_count": 23,
   "metadata": {},
   "outputs": [],
   "source": [
    "# Standard\n",
    "import numpy as np\n",
    "import pandas as pd\n",
    "\n",
    "# Visualisation\n",
    "import seaborn as sns\n",
    "import plotly.graph_objects as go\n",
    "import matplotlib.pyplot as plt\n",
    "\n",
    "# Machine learning and calculation\n",
    "from datetime import time\n",
    "from statistics import mean\n",
    "from sklearn.preprocessing import StandardScaler"
   ]
  },
  {
   "cell_type": "code",
   "execution_count": 24,
   "metadata": {},
   "outputs": [],
   "source": [
    "train_data = pd.read_csv('Train.csv')\n",
    "test_data = pd.read_csv('Test.csv')\n",
    "riders_data = pd.read_csv('Riders.csv')"
   ]
  },
  {
   "cell_type": "code",
   "execution_count": 72,
   "metadata": {},
   "outputs": [],
   "source": [
    "# Create a copy of the DataFrame\n",
    "train_df = train_data.copy()\n",
    "test_df = test_data.copy()"
   ]
  },
  {
   "cell_type": "markdown",
   "metadata": {},
   "source": [
    "Merge training data set with riders data set"
   ]
  },
  {
   "cell_type": "code",
   "execution_count": 26,
   "metadata": {},
   "outputs": [],
   "source": [
    "df = pd.merge(train_df, riders_data, on  = 'Rider Id')"
   ]
  },
  {
   "cell_type": "code",
   "execution_count": 27,
   "metadata": {},
   "outputs": [
    {
     "data": {
      "text/html": [
       "<div>\n",
       "<style scoped>\n",
       "    .dataframe tbody tr th:only-of-type {\n",
       "        vertical-align: middle;\n",
       "    }\n",
       "\n",
       "    .dataframe tbody tr th {\n",
       "        vertical-align: top;\n",
       "    }\n",
       "\n",
       "    .dataframe thead th {\n",
       "        text-align: right;\n",
       "    }\n",
       "</style>\n",
       "<table border=\"1\" class=\"dataframe\">\n",
       "  <thead>\n",
       "    <tr style=\"text-align: right;\">\n",
       "      <th></th>\n",
       "      <th>Order No</th>\n",
       "      <th>User Id</th>\n",
       "      <th>Vehicle Type</th>\n",
       "      <th>Platform Type</th>\n",
       "      <th>Personal or Business</th>\n",
       "      <th>Placement - Day of Month</th>\n",
       "      <th>Placement - Weekday (Mo = 1)</th>\n",
       "      <th>Placement - Time</th>\n",
       "      <th>Confirmation - Day of Month</th>\n",
       "      <th>Confirmation - Weekday (Mo = 1)</th>\n",
       "      <th>...</th>\n",
       "      <th>Pickup Lat</th>\n",
       "      <th>Pickup Long</th>\n",
       "      <th>Destination Lat</th>\n",
       "      <th>Destination Long</th>\n",
       "      <th>Rider Id</th>\n",
       "      <th>No_Of_Orders</th>\n",
       "      <th>Age</th>\n",
       "      <th>Average_Rating</th>\n",
       "      <th>No_of_Ratings</th>\n",
       "      <th>Time from Pickup to Arrival</th>\n",
       "    </tr>\n",
       "  </thead>\n",
       "  <tbody>\n",
       "    <tr>\n",
       "      <td>0</td>\n",
       "      <td>Order_No_4211</td>\n",
       "      <td>User_Id_633</td>\n",
       "      <td>Bike</td>\n",
       "      <td>3</td>\n",
       "      <td>Business</td>\n",
       "      <td>9</td>\n",
       "      <td>5</td>\n",
       "      <td>9:35:46 AM</td>\n",
       "      <td>9</td>\n",
       "      <td>5</td>\n",
       "      <td>...</td>\n",
       "      <td>-1.317755</td>\n",
       "      <td>36.830370</td>\n",
       "      <td>-1.300406</td>\n",
       "      <td>36.829741</td>\n",
       "      <td>Rider_Id_432</td>\n",
       "      <td>1637</td>\n",
       "      <td>1309</td>\n",
       "      <td>13.8</td>\n",
       "      <td>549</td>\n",
       "      <td>745</td>\n",
       "    </tr>\n",
       "    <tr>\n",
       "      <td>1</td>\n",
       "      <td>Order_No_27440</td>\n",
       "      <td>User_Id_2642</td>\n",
       "      <td>Bike</td>\n",
       "      <td>3</td>\n",
       "      <td>Personal</td>\n",
       "      <td>18</td>\n",
       "      <td>5</td>\n",
       "      <td>3:41:17 PM</td>\n",
       "      <td>18</td>\n",
       "      <td>5</td>\n",
       "      <td>...</td>\n",
       "      <td>-1.326774</td>\n",
       "      <td>36.787807</td>\n",
       "      <td>-1.356237</td>\n",
       "      <td>36.904295</td>\n",
       "      <td>Rider_Id_432</td>\n",
       "      <td>1637</td>\n",
       "      <td>1309</td>\n",
       "      <td>13.8</td>\n",
       "      <td>549</td>\n",
       "      <td>2886</td>\n",
       "    </tr>\n",
       "    <tr>\n",
       "      <td>2</td>\n",
       "      <td>Order_No_14170</td>\n",
       "      <td>User_Id_3339</td>\n",
       "      <td>Bike</td>\n",
       "      <td>3</td>\n",
       "      <td>Business</td>\n",
       "      <td>31</td>\n",
       "      <td>5</td>\n",
       "      <td>12:51:41 PM</td>\n",
       "      <td>31</td>\n",
       "      <td>5</td>\n",
       "      <td>...</td>\n",
       "      <td>-1.255189</td>\n",
       "      <td>36.782203</td>\n",
       "      <td>-1.273412</td>\n",
       "      <td>36.818206</td>\n",
       "      <td>Rider_Id_432</td>\n",
       "      <td>1637</td>\n",
       "      <td>1309</td>\n",
       "      <td>13.8</td>\n",
       "      <td>549</td>\n",
       "      <td>2615</td>\n",
       "    </tr>\n",
       "    <tr>\n",
       "      <td>3</td>\n",
       "      <td>Order_No_21727</td>\n",
       "      <td>User_Id_3523</td>\n",
       "      <td>Bike</td>\n",
       "      <td>3</td>\n",
       "      <td>Personal</td>\n",
       "      <td>2</td>\n",
       "      <td>2</td>\n",
       "      <td>7:12:10 AM</td>\n",
       "      <td>2</td>\n",
       "      <td>2</td>\n",
       "      <td>...</td>\n",
       "      <td>-1.290315</td>\n",
       "      <td>36.757377</td>\n",
       "      <td>-1.223520</td>\n",
       "      <td>36.802061</td>\n",
       "      <td>Rider_Id_432</td>\n",
       "      <td>1637</td>\n",
       "      <td>1309</td>\n",
       "      <td>13.8</td>\n",
       "      <td>549</td>\n",
       "      <td>2986</td>\n",
       "    </tr>\n",
       "    <tr>\n",
       "      <td>4</td>\n",
       "      <td>Order_No_8301</td>\n",
       "      <td>User_Id_87</td>\n",
       "      <td>Bike</td>\n",
       "      <td>2</td>\n",
       "      <td>Personal</td>\n",
       "      <td>22</td>\n",
       "      <td>2</td>\n",
       "      <td>10:40:58 AM</td>\n",
       "      <td>22</td>\n",
       "      <td>2</td>\n",
       "      <td>...</td>\n",
       "      <td>-1.273524</td>\n",
       "      <td>36.799220</td>\n",
       "      <td>-1.300431</td>\n",
       "      <td>36.752427</td>\n",
       "      <td>Rider_Id_432</td>\n",
       "      <td>1637</td>\n",
       "      <td>1309</td>\n",
       "      <td>13.8</td>\n",
       "      <td>549</td>\n",
       "      <td>1602</td>\n",
       "    </tr>\n",
       "  </tbody>\n",
       "</table>\n",
       "<p>5 rows × 33 columns</p>\n",
       "</div>"
      ],
      "text/plain": [
       "         Order No       User Id Vehicle Type  Platform Type  \\\n",
       "0   Order_No_4211   User_Id_633         Bike              3   \n",
       "1  Order_No_27440  User_Id_2642         Bike              3   \n",
       "2  Order_No_14170  User_Id_3339         Bike              3   \n",
       "3  Order_No_21727  User_Id_3523         Bike              3   \n",
       "4   Order_No_8301    User_Id_87         Bike              2   \n",
       "\n",
       "  Personal or Business  Placement - Day of Month  \\\n",
       "0             Business                         9   \n",
       "1             Personal                        18   \n",
       "2             Business                        31   \n",
       "3             Personal                         2   \n",
       "4             Personal                        22   \n",
       "\n",
       "   Placement - Weekday (Mo = 1) Placement - Time  Confirmation - Day of Month  \\\n",
       "0                             5       9:35:46 AM                            9   \n",
       "1                             5       3:41:17 PM                           18   \n",
       "2                             5      12:51:41 PM                           31   \n",
       "3                             2       7:12:10 AM                            2   \n",
       "4                             2      10:40:58 AM                           22   \n",
       "\n",
       "   Confirmation - Weekday (Mo = 1)  ... Pickup Lat  Pickup Long  \\\n",
       "0                                5  ...  -1.317755    36.830370   \n",
       "1                                5  ...  -1.326774    36.787807   \n",
       "2                                5  ...  -1.255189    36.782203   \n",
       "3                                2  ...  -1.290315    36.757377   \n",
       "4                                2  ...  -1.273524    36.799220   \n",
       "\n",
       "   Destination Lat Destination Long      Rider Id  No_Of_Orders   Age  \\\n",
       "0        -1.300406        36.829741  Rider_Id_432          1637  1309   \n",
       "1        -1.356237        36.904295  Rider_Id_432          1637  1309   \n",
       "2        -1.273412        36.818206  Rider_Id_432          1637  1309   \n",
       "3        -1.223520        36.802061  Rider_Id_432          1637  1309   \n",
       "4        -1.300431        36.752427  Rider_Id_432          1637  1309   \n",
       "\n",
       "   Average_Rating  No_of_Ratings Time from Pickup to Arrival  \n",
       "0            13.8            549                         745  \n",
       "1            13.8            549                        2886  \n",
       "2            13.8            549                        2615  \n",
       "3            13.8            549                        2986  \n",
       "4            13.8            549                        1602  \n",
       "\n",
       "[5 rows x 33 columns]"
      ]
     },
     "execution_count": 27,
     "metadata": {},
     "output_type": "execute_result"
    }
   ],
   "source": [
    "# Change the order of the column to have the independent variable as the last column\n",
    "df = df[['Order No', 'User Id', 'Vehicle Type', 'Platform Type',\n",
    "       'Personal or Business', 'Placement - Day of Month',\n",
    "       'Placement - Weekday (Mo = 1)', 'Placement - Time',\n",
    "       'Confirmation - Day of Month', 'Confirmation - Weekday (Mo = 1)',\n",
    "       'Confirmation - Time', 'Arrival at Pickup - Day of Month',\n",
    "       'Arrival at Pickup - Weekday (Mo = 1)', 'Arrival at Pickup - Time',\n",
    "       'Pickup - Day of Month', 'Pickup - Weekday (Mo = 1)', 'Pickup - Time',\n",
    "       'Arrival at Destination - Day of Month',\n",
    "       'Arrival at Destination - Weekday (Mo = 1)',\n",
    "       'Arrival at Destination - Time', 'Distance (KM)', 'Temperature',\n",
    "       'Precipitation in millimeters', 'Pickup Lat', 'Pickup Long',\n",
    "       'Destination Lat', 'Destination Long', 'Rider Id',\n",
    "       'No_Of_Orders', 'Age', 'Average_Rating',\n",
    "       'No_of_Ratings','Time from Pickup to Arrival']]\n",
    "df.head()"
   ]
  },
  {
   "cell_type": "markdown",
   "metadata": {},
   "source": [
    "# Exploratory  Data Analysis"
   ]
  },
  {
   "cell_type": "markdown",
   "metadata": {},
   "source": [
    "Before we fit the model we need to understand how the data is structured, what variables are used and if the columns have any missing values. We need to look at how we handle the missing values (drop the columns with missing values or fill in the mean depending on how many missing values the column has). We also need to look at correlations between the variables to see which variables have a strong correlation with the predictor variable as this will help us in choosing the variables to include in our model. The choice of the model to be used will depend on what we find after after exploring the dataset."
   ]
  },
  {
   "cell_type": "markdown",
   "metadata": {},
   "source": [
    "## Understanding The Data"
   ]
  },
  {
   "cell_type": "code",
   "execution_count": 28,
   "metadata": {},
   "outputs": [
    {
     "data": {
      "text/plain": [
       "Order No                                      object\n",
       "User Id                                       object\n",
       "Vehicle Type                                  object\n",
       "Platform Type                                  int64\n",
       "Personal or Business                          object\n",
       "Placement - Day of Month                       int64\n",
       "Placement - Weekday (Mo = 1)                   int64\n",
       "Placement - Time                              object\n",
       "Confirmation - Day of Month                    int64\n",
       "Confirmation - Weekday (Mo = 1)                int64\n",
       "Confirmation - Time                           object\n",
       "Arrival at Pickup - Day of Month               int64\n",
       "Arrival at Pickup - Weekday (Mo = 1)           int64\n",
       "Arrival at Pickup - Time                      object\n",
       "Pickup - Day of Month                          int64\n",
       "Pickup - Weekday (Mo = 1)                      int64\n",
       "Pickup - Time                                 object\n",
       "Arrival at Destination - Day of Month          int64\n",
       "Arrival at Destination - Weekday (Mo = 1)      int64\n",
       "Arrival at Destination - Time                 object\n",
       "Distance (KM)                                  int64\n",
       "Temperature                                  float64\n",
       "Precipitation in millimeters                 float64\n",
       "Pickup Lat                                   float64\n",
       "Pickup Long                                  float64\n",
       "Destination Lat                              float64\n",
       "Destination Long                             float64\n",
       "Rider Id                                      object\n",
       "No_Of_Orders                                   int64\n",
       "Age                                            int64\n",
       "Average_Rating                               float64\n",
       "No_of_Ratings                                  int64\n",
       "Time from Pickup to Arrival                    int64\n",
       "dtype: object"
      ]
     },
     "execution_count": 28,
     "metadata": {},
     "output_type": "execute_result"
    }
   ],
   "source": [
    "# Check datatypes of each column\n",
    "df.dtypes"
   ]
  },
  {
   "cell_type": "code",
   "execution_count": 29,
   "metadata": {},
   "outputs": [
    {
     "data": {
      "text/html": [
       "<div>\n",
       "<style scoped>\n",
       "    .dataframe tbody tr th:only-of-type {\n",
       "        vertical-align: middle;\n",
       "    }\n",
       "\n",
       "    .dataframe tbody tr th {\n",
       "        vertical-align: top;\n",
       "    }\n",
       "\n",
       "    .dataframe thead th {\n",
       "        text-align: right;\n",
       "    }\n",
       "</style>\n",
       "<table border=\"1\" class=\"dataframe\">\n",
       "  <thead>\n",
       "    <tr style=\"text-align: right;\">\n",
       "      <th></th>\n",
       "      <th>Platform Type</th>\n",
       "      <th>Placement - Day of Month</th>\n",
       "      <th>Placement - Weekday (Mo = 1)</th>\n",
       "      <th>Confirmation - Day of Month</th>\n",
       "      <th>Confirmation - Weekday (Mo = 1)</th>\n",
       "      <th>Arrival at Pickup - Day of Month</th>\n",
       "      <th>Arrival at Pickup - Weekday (Mo = 1)</th>\n",
       "      <th>Pickup - Day of Month</th>\n",
       "      <th>Pickup - Weekday (Mo = 1)</th>\n",
       "      <th>Arrival at Destination - Day of Month</th>\n",
       "      <th>...</th>\n",
       "      <th>Precipitation in millimeters</th>\n",
       "      <th>Pickup Lat</th>\n",
       "      <th>Pickup Long</th>\n",
       "      <th>Destination Lat</th>\n",
       "      <th>Destination Long</th>\n",
       "      <th>No_Of_Orders</th>\n",
       "      <th>Age</th>\n",
       "      <th>Average_Rating</th>\n",
       "      <th>No_of_Ratings</th>\n",
       "      <th>Time from Pickup to Arrival</th>\n",
       "    </tr>\n",
       "  </thead>\n",
       "  <tbody>\n",
       "    <tr>\n",
       "      <td>count</td>\n",
       "      <td>21201.000000</td>\n",
       "      <td>21201.000000</td>\n",
       "      <td>21201.000000</td>\n",
       "      <td>21201.000000</td>\n",
       "      <td>21201.000000</td>\n",
       "      <td>21201.000000</td>\n",
       "      <td>21201.000000</td>\n",
       "      <td>21201.000000</td>\n",
       "      <td>21201.000000</td>\n",
       "      <td>21201.000000</td>\n",
       "      <td>...</td>\n",
       "      <td>552.000000</td>\n",
       "      <td>21201.000000</td>\n",
       "      <td>21201.000000</td>\n",
       "      <td>21201.000000</td>\n",
       "      <td>21201.000000</td>\n",
       "      <td>21201.000000</td>\n",
       "      <td>21201.000000</td>\n",
       "      <td>21201.000000</td>\n",
       "      <td>21201.000000</td>\n",
       "      <td>21201.000000</td>\n",
       "    </tr>\n",
       "    <tr>\n",
       "      <td>mean</td>\n",
       "      <td>2.752182</td>\n",
       "      <td>15.653696</td>\n",
       "      <td>3.240083</td>\n",
       "      <td>15.653837</td>\n",
       "      <td>3.240225</td>\n",
       "      <td>15.653837</td>\n",
       "      <td>3.240225</td>\n",
       "      <td>15.653837</td>\n",
       "      <td>3.240225</td>\n",
       "      <td>15.653837</td>\n",
       "      <td>...</td>\n",
       "      <td>7.905797</td>\n",
       "      <td>-1.281470</td>\n",
       "      <td>36.811264</td>\n",
       "      <td>-1.282581</td>\n",
       "      <td>36.811220</td>\n",
       "      <td>1692.423706</td>\n",
       "      <td>984.742842</td>\n",
       "      <td>13.882520</td>\n",
       "      <td>341.067119</td>\n",
       "      <td>1556.920947</td>\n",
       "    </tr>\n",
       "    <tr>\n",
       "      <td>std</td>\n",
       "      <td>0.625178</td>\n",
       "      <td>8.798916</td>\n",
       "      <td>1.567295</td>\n",
       "      <td>8.798886</td>\n",
       "      <td>1.567228</td>\n",
       "      <td>8.798886</td>\n",
       "      <td>1.567228</td>\n",
       "      <td>8.798886</td>\n",
       "      <td>1.567228</td>\n",
       "      <td>8.798886</td>\n",
       "      <td>...</td>\n",
       "      <td>17.089971</td>\n",
       "      <td>0.030507</td>\n",
       "      <td>0.037473</td>\n",
       "      <td>0.034824</td>\n",
       "      <td>0.044721</td>\n",
       "      <td>1574.308302</td>\n",
       "      <td>646.652835</td>\n",
       "      <td>0.916071</td>\n",
       "      <td>402.867746</td>\n",
       "      <td>987.270788</td>\n",
       "    </tr>\n",
       "    <tr>\n",
       "      <td>min</td>\n",
       "      <td>1.000000</td>\n",
       "      <td>1.000000</td>\n",
       "      <td>1.000000</td>\n",
       "      <td>1.000000</td>\n",
       "      <td>1.000000</td>\n",
       "      <td>1.000000</td>\n",
       "      <td>1.000000</td>\n",
       "      <td>1.000000</td>\n",
       "      <td>1.000000</td>\n",
       "      <td>1.000000</td>\n",
       "      <td>...</td>\n",
       "      <td>0.100000</td>\n",
       "      <td>-1.438302</td>\n",
       "      <td>36.653621</td>\n",
       "      <td>-1.430298</td>\n",
       "      <td>36.606594</td>\n",
       "      <td>2.000000</td>\n",
       "      <td>96.000000</td>\n",
       "      <td>0.000000</td>\n",
       "      <td>0.000000</td>\n",
       "      <td>1.000000</td>\n",
       "    </tr>\n",
       "    <tr>\n",
       "      <td>25%</td>\n",
       "      <td>3.000000</td>\n",
       "      <td>8.000000</td>\n",
       "      <td>2.000000</td>\n",
       "      <td>8.000000</td>\n",
       "      <td>2.000000</td>\n",
       "      <td>8.000000</td>\n",
       "      <td>2.000000</td>\n",
       "      <td>8.000000</td>\n",
       "      <td>2.000000</td>\n",
       "      <td>8.000000</td>\n",
       "      <td>...</td>\n",
       "      <td>1.075000</td>\n",
       "      <td>-1.300921</td>\n",
       "      <td>36.784605</td>\n",
       "      <td>-1.301201</td>\n",
       "      <td>36.785661</td>\n",
       "      <td>557.000000</td>\n",
       "      <td>495.000000</td>\n",
       "      <td>13.600000</td>\n",
       "      <td>61.000000</td>\n",
       "      <td>882.000000</td>\n",
       "    </tr>\n",
       "    <tr>\n",
       "      <td>50%</td>\n",
       "      <td>3.000000</td>\n",
       "      <td>15.000000</td>\n",
       "      <td>3.000000</td>\n",
       "      <td>15.000000</td>\n",
       "      <td>3.000000</td>\n",
       "      <td>15.000000</td>\n",
       "      <td>3.000000</td>\n",
       "      <td>15.000000</td>\n",
       "      <td>3.000000</td>\n",
       "      <td>15.000000</td>\n",
       "      <td>...</td>\n",
       "      <td>2.900000</td>\n",
       "      <td>-1.279395</td>\n",
       "      <td>36.807040</td>\n",
       "      <td>-1.284382</td>\n",
       "      <td>36.808002</td>\n",
       "      <td>1212.000000</td>\n",
       "      <td>872.000000</td>\n",
       "      <td>14.000000</td>\n",
       "      <td>161.000000</td>\n",
       "      <td>1369.000000</td>\n",
       "    </tr>\n",
       "    <tr>\n",
       "      <td>75%</td>\n",
       "      <td>3.000000</td>\n",
       "      <td>23.000000</td>\n",
       "      <td>5.000000</td>\n",
       "      <td>23.000000</td>\n",
       "      <td>5.000000</td>\n",
       "      <td>23.000000</td>\n",
       "      <td>5.000000</td>\n",
       "      <td>23.000000</td>\n",
       "      <td>5.000000</td>\n",
       "      <td>23.000000</td>\n",
       "      <td>...</td>\n",
       "      <td>4.900000</td>\n",
       "      <td>-1.257147</td>\n",
       "      <td>36.829741</td>\n",
       "      <td>-1.261177</td>\n",
       "      <td>36.829477</td>\n",
       "      <td>2311.000000</td>\n",
       "      <td>1236.000000</td>\n",
       "      <td>14.300000</td>\n",
       "      <td>495.000000</td>\n",
       "      <td>2040.000000</td>\n",
       "    </tr>\n",
       "    <tr>\n",
       "      <td>max</td>\n",
       "      <td>4.000000</td>\n",
       "      <td>31.000000</td>\n",
       "      <td>7.000000</td>\n",
       "      <td>31.000000</td>\n",
       "      <td>7.000000</td>\n",
       "      <td>31.000000</td>\n",
       "      <td>7.000000</td>\n",
       "      <td>31.000000</td>\n",
       "      <td>7.000000</td>\n",
       "      <td>31.000000</td>\n",
       "      <td>...</td>\n",
       "      <td>99.100000</td>\n",
       "      <td>-1.147170</td>\n",
       "      <td>36.991046</td>\n",
       "      <td>-1.030225</td>\n",
       "      <td>37.016779</td>\n",
       "      <td>9756.000000</td>\n",
       "      <td>3764.000000</td>\n",
       "      <td>15.200000</td>\n",
       "      <td>2298.000000</td>\n",
       "      <td>7883.000000</td>\n",
       "    </tr>\n",
       "  </tbody>\n",
       "</table>\n",
       "<p>8 rows × 23 columns</p>\n",
       "</div>"
      ],
      "text/plain": [
       "       Platform Type  Placement - Day of Month  Placement - Weekday (Mo = 1)  \\\n",
       "count   21201.000000              21201.000000                  21201.000000   \n",
       "mean        2.752182                 15.653696                      3.240083   \n",
       "std         0.625178                  8.798916                      1.567295   \n",
       "min         1.000000                  1.000000                      1.000000   \n",
       "25%         3.000000                  8.000000                      2.000000   \n",
       "50%         3.000000                 15.000000                      3.000000   \n",
       "75%         3.000000                 23.000000                      5.000000   \n",
       "max         4.000000                 31.000000                      7.000000   \n",
       "\n",
       "       Confirmation - Day of Month  Confirmation - Weekday (Mo = 1)  \\\n",
       "count                 21201.000000                     21201.000000   \n",
       "mean                     15.653837                         3.240225   \n",
       "std                       8.798886                         1.567228   \n",
       "min                       1.000000                         1.000000   \n",
       "25%                       8.000000                         2.000000   \n",
       "50%                      15.000000                         3.000000   \n",
       "75%                      23.000000                         5.000000   \n",
       "max                      31.000000                         7.000000   \n",
       "\n",
       "       Arrival at Pickup - Day of Month  Arrival at Pickup - Weekday (Mo = 1)  \\\n",
       "count                      21201.000000                          21201.000000   \n",
       "mean                          15.653837                              3.240225   \n",
       "std                            8.798886                              1.567228   \n",
       "min                            1.000000                              1.000000   \n",
       "25%                            8.000000                              2.000000   \n",
       "50%                           15.000000                              3.000000   \n",
       "75%                           23.000000                              5.000000   \n",
       "max                           31.000000                              7.000000   \n",
       "\n",
       "       Pickup - Day of Month  Pickup - Weekday (Mo = 1)  \\\n",
       "count           21201.000000               21201.000000   \n",
       "mean               15.653837                   3.240225   \n",
       "std                 8.798886                   1.567228   \n",
       "min                 1.000000                   1.000000   \n",
       "25%                 8.000000                   2.000000   \n",
       "50%                15.000000                   3.000000   \n",
       "75%                23.000000                   5.000000   \n",
       "max                31.000000                   7.000000   \n",
       "\n",
       "       Arrival at Destination - Day of Month  ...  \\\n",
       "count                           21201.000000  ...   \n",
       "mean                               15.653837  ...   \n",
       "std                                 8.798886  ...   \n",
       "min                                 1.000000  ...   \n",
       "25%                                 8.000000  ...   \n",
       "50%                                15.000000  ...   \n",
       "75%                                23.000000  ...   \n",
       "max                                31.000000  ...   \n",
       "\n",
       "       Precipitation in millimeters    Pickup Lat   Pickup Long  \\\n",
       "count                    552.000000  21201.000000  21201.000000   \n",
       "mean                       7.905797     -1.281470     36.811264   \n",
       "std                       17.089971      0.030507      0.037473   \n",
       "min                        0.100000     -1.438302     36.653621   \n",
       "25%                        1.075000     -1.300921     36.784605   \n",
       "50%                        2.900000     -1.279395     36.807040   \n",
       "75%                        4.900000     -1.257147     36.829741   \n",
       "max                       99.100000     -1.147170     36.991046   \n",
       "\n",
       "       Destination Lat  Destination Long  No_Of_Orders           Age  \\\n",
       "count     21201.000000      21201.000000  21201.000000  21201.000000   \n",
       "mean         -1.282581         36.811220   1692.423706    984.742842   \n",
       "std           0.034824          0.044721   1574.308302    646.652835   \n",
       "min          -1.430298         36.606594      2.000000     96.000000   \n",
       "25%          -1.301201         36.785661    557.000000    495.000000   \n",
       "50%          -1.284382         36.808002   1212.000000    872.000000   \n",
       "75%          -1.261177         36.829477   2311.000000   1236.000000   \n",
       "max          -1.030225         37.016779   9756.000000   3764.000000   \n",
       "\n",
       "       Average_Rating  No_of_Ratings  Time from Pickup to Arrival  \n",
       "count    21201.000000   21201.000000                 21201.000000  \n",
       "mean        13.882520     341.067119                  1556.920947  \n",
       "std          0.916071     402.867746                   987.270788  \n",
       "min          0.000000       0.000000                     1.000000  \n",
       "25%         13.600000      61.000000                   882.000000  \n",
       "50%         14.000000     161.000000                  1369.000000  \n",
       "75%         14.300000     495.000000                  2040.000000  \n",
       "max         15.200000    2298.000000                  7883.000000  \n",
       "\n",
       "[8 rows x 23 columns]"
      ]
     },
     "execution_count": 29,
     "metadata": {},
     "output_type": "execute_result"
    }
   ],
   "source": [
    "# Check the statistical summary of the dataframe\n",
    "df.describe() "
   ]
  },
  {
   "cell_type": "markdown",
   "metadata": {},
   "source": [
    "## Dealing With Missing Data"
   ]
  },
  {
   "cell_type": "code",
   "execution_count": 30,
   "metadata": {},
   "outputs": [
    {
     "name": "stdout",
     "output_type": "stream",
     "text": [
      "<class 'pandas.core.frame.DataFrame'>\n",
      "Int64Index: 21201 entries, 0 to 21200\n",
      "Data columns (total 33 columns):\n",
      "Order No                                     21201 non-null object\n",
      "User Id                                      21201 non-null object\n",
      "Vehicle Type                                 21201 non-null object\n",
      "Platform Type                                21201 non-null int64\n",
      "Personal or Business                         21201 non-null object\n",
      "Placement - Day of Month                     21201 non-null int64\n",
      "Placement - Weekday (Mo = 1)                 21201 non-null int64\n",
      "Placement - Time                             21201 non-null object\n",
      "Confirmation - Day of Month                  21201 non-null int64\n",
      "Confirmation - Weekday (Mo = 1)              21201 non-null int64\n",
      "Confirmation - Time                          21201 non-null object\n",
      "Arrival at Pickup - Day of Month             21201 non-null int64\n",
      "Arrival at Pickup - Weekday (Mo = 1)         21201 non-null int64\n",
      "Arrival at Pickup - Time                     21201 non-null object\n",
      "Pickup - Day of Month                        21201 non-null int64\n",
      "Pickup - Weekday (Mo = 1)                    21201 non-null int64\n",
      "Pickup - Time                                21201 non-null object\n",
      "Arrival at Destination - Day of Month        21201 non-null int64\n",
      "Arrival at Destination - Weekday (Mo = 1)    21201 non-null int64\n",
      "Arrival at Destination - Time                21201 non-null object\n",
      "Distance (KM)                                21201 non-null int64\n",
      "Temperature                                  16835 non-null float64\n",
      "Precipitation in millimeters                 552 non-null float64\n",
      "Pickup Lat                                   21201 non-null float64\n",
      "Pickup Long                                  21201 non-null float64\n",
      "Destination Lat                              21201 non-null float64\n",
      "Destination Long                             21201 non-null float64\n",
      "Rider Id                                     21201 non-null object\n",
      "No_Of_Orders                                 21201 non-null int64\n",
      "Age                                          21201 non-null int64\n",
      "Average_Rating                               21201 non-null float64\n",
      "No_of_Ratings                                21201 non-null int64\n",
      "Time from Pickup to Arrival                  21201 non-null int64\n",
      "dtypes: float64(7), int64(16), object(10)\n",
      "memory usage: 5.5+ MB\n"
     ]
    }
   ],
   "source": [
    "# Check for null values\n",
    "df.info()  "
   ]
  },
  {
   "cell_type": "code",
   "execution_count": 31,
   "metadata": {},
   "outputs": [],
   "source": [
    "# Replace null values with the mean of the columns\n",
    "# The Temperature and Precipitation columns had null values\n",
    "df = df.fillna(df.mean())"
   ]
  },
  {
   "cell_type": "markdown",
   "metadata": {},
   "source": [
    "Temperature and precipitation had a lot of null values, which indicates that these variables do not have that much of an impact on our model.Thus we replaced those values with the mean of the columns."
   ]
  },
  {
   "cell_type": "code",
   "execution_count": 32,
   "metadata": {},
   "outputs": [],
   "source": [
    "# One of the Rider Id rows has a missing value\n",
    "# The entire row with the missing value was removed\n",
    "df.dropna(inplace = True) "
   ]
  },
  {
   "cell_type": "code",
   "execution_count": 33,
   "metadata": {},
   "outputs": [
    {
     "name": "stdout",
     "output_type": "stream",
     "text": [
      "<class 'pandas.core.frame.DataFrame'>\n",
      "Int64Index: 21201 entries, 0 to 21200\n",
      "Data columns (total 33 columns):\n",
      "Order No                                     21201 non-null object\n",
      "User Id                                      21201 non-null object\n",
      "Vehicle Type                                 21201 non-null object\n",
      "Platform Type                                21201 non-null int64\n",
      "Personal or Business                         21201 non-null object\n",
      "Placement - Day of Month                     21201 non-null int64\n",
      "Placement - Weekday (Mo = 1)                 21201 non-null int64\n",
      "Placement - Time                             21201 non-null object\n",
      "Confirmation - Day of Month                  21201 non-null int64\n",
      "Confirmation - Weekday (Mo = 1)              21201 non-null int64\n",
      "Confirmation - Time                          21201 non-null object\n",
      "Arrival at Pickup - Day of Month             21201 non-null int64\n",
      "Arrival at Pickup - Weekday (Mo = 1)         21201 non-null int64\n",
      "Arrival at Pickup - Time                     21201 non-null object\n",
      "Pickup - Day of Month                        21201 non-null int64\n",
      "Pickup - Weekday (Mo = 1)                    21201 non-null int64\n",
      "Pickup - Time                                21201 non-null object\n",
      "Arrival at Destination - Day of Month        21201 non-null int64\n",
      "Arrival at Destination - Weekday (Mo = 1)    21201 non-null int64\n",
      "Arrival at Destination - Time                21201 non-null object\n",
      "Distance (KM)                                21201 non-null int64\n",
      "Temperature                                  21201 non-null float64\n",
      "Precipitation in millimeters                 21201 non-null float64\n",
      "Pickup Lat                                   21201 non-null float64\n",
      "Pickup Long                                  21201 non-null float64\n",
      "Destination Lat                              21201 non-null float64\n",
      "Destination Long                             21201 non-null float64\n",
      "Rider Id                                     21201 non-null object\n",
      "No_Of_Orders                                 21201 non-null int64\n",
      "Age                                          21201 non-null int64\n",
      "Average_Rating                               21201 non-null float64\n",
      "No_of_Ratings                                21201 non-null int64\n",
      "Time from Pickup to Arrival                  21201 non-null int64\n",
      "dtypes: float64(7), int64(16), object(10)\n",
      "memory usage: 5.5+ MB\n"
     ]
    }
   ],
   "source": [
    "# Check for null values again.\n",
    "# There are no longer any null values\n",
    "df.info()  "
   ]
  },
  {
   "cell_type": "markdown",
   "metadata": {},
   "source": [
    "We group data by Rider Id to show how the averages correlate. We drop all object type data."
   ]
  },
  {
   "cell_type": "code",
   "execution_count": 34,
   "metadata": {},
   "outputs": [
    {
     "data": {
      "text/html": [
       "<div>\n",
       "<style scoped>\n",
       "    .dataframe tbody tr th:only-of-type {\n",
       "        vertical-align: middle;\n",
       "    }\n",
       "\n",
       "    .dataframe tbody tr th {\n",
       "        vertical-align: top;\n",
       "    }\n",
       "\n",
       "    .dataframe thead th {\n",
       "        text-align: right;\n",
       "    }\n",
       "</style>\n",
       "<table border=\"1\" class=\"dataframe\">\n",
       "  <thead>\n",
       "    <tr style=\"text-align: right;\">\n",
       "      <th></th>\n",
       "      <th>Platform Type</th>\n",
       "      <th>Placement - Day of Month</th>\n",
       "      <th>Placement - Weekday (Mo = 1)</th>\n",
       "      <th>Confirmation - Day of Month</th>\n",
       "      <th>Confirmation - Weekday (Mo = 1)</th>\n",
       "      <th>Arrival at Pickup - Day of Month</th>\n",
       "      <th>Arrival at Pickup - Weekday (Mo = 1)</th>\n",
       "      <th>Pickup - Day of Month</th>\n",
       "      <th>Pickup - Weekday (Mo = 1)</th>\n",
       "      <th>Arrival at Destination - Day of Month</th>\n",
       "      <th>...</th>\n",
       "      <th>Precipitation in millimeters</th>\n",
       "      <th>Pickup Lat</th>\n",
       "      <th>Pickup Long</th>\n",
       "      <th>Destination Lat</th>\n",
       "      <th>Destination Long</th>\n",
       "      <th>No_Of_Orders</th>\n",
       "      <th>Age</th>\n",
       "      <th>Average_Rating</th>\n",
       "      <th>No_of_Ratings</th>\n",
       "      <th>Time from Pickup to Arrival</th>\n",
       "    </tr>\n",
       "    <tr>\n",
       "      <th>Rider Id</th>\n",
       "      <th></th>\n",
       "      <th></th>\n",
       "      <th></th>\n",
       "      <th></th>\n",
       "      <th></th>\n",
       "      <th></th>\n",
       "      <th></th>\n",
       "      <th></th>\n",
       "      <th></th>\n",
       "      <th></th>\n",
       "      <th></th>\n",
       "      <th></th>\n",
       "      <th></th>\n",
       "      <th></th>\n",
       "      <th></th>\n",
       "      <th></th>\n",
       "      <th></th>\n",
       "      <th></th>\n",
       "      <th></th>\n",
       "      <th></th>\n",
       "      <th></th>\n",
       "    </tr>\n",
       "  </thead>\n",
       "  <tbody>\n",
       "    <tr>\n",
       "      <td>Rider_Id_0</td>\n",
       "      <td>3.000000</td>\n",
       "      <td>4.000000</td>\n",
       "      <td>1.000000</td>\n",
       "      <td>4.000000</td>\n",
       "      <td>1.000000</td>\n",
       "      <td>4.000000</td>\n",
       "      <td>1.000000</td>\n",
       "      <td>4.000000</td>\n",
       "      <td>1.000000</td>\n",
       "      <td>4.000000</td>\n",
       "      <td>...</td>\n",
       "      <td>7.905797</td>\n",
       "      <td>-1.329285</td>\n",
       "      <td>36.886785</td>\n",
       "      <td>-1.300921</td>\n",
       "      <td>36.828195</td>\n",
       "      <td>3048.0</td>\n",
       "      <td>2570.0</td>\n",
       "      <td>14.0</td>\n",
       "      <td>512.0</td>\n",
       "      <td>1393.000000</td>\n",
       "    </tr>\n",
       "    <tr>\n",
       "      <td>Rider_Id_1</td>\n",
       "      <td>3.000000</td>\n",
       "      <td>19.000000</td>\n",
       "      <td>5.000000</td>\n",
       "      <td>19.000000</td>\n",
       "      <td>5.000000</td>\n",
       "      <td>19.000000</td>\n",
       "      <td>5.000000</td>\n",
       "      <td>19.000000</td>\n",
       "      <td>5.000000</td>\n",
       "      <td>19.000000</td>\n",
       "      <td>...</td>\n",
       "      <td>7.905797</td>\n",
       "      <td>-1.320715</td>\n",
       "      <td>36.830577</td>\n",
       "      <td>-1.299323</td>\n",
       "      <td>36.775337</td>\n",
       "      <td>8.0</td>\n",
       "      <td>589.0</td>\n",
       "      <td>0.0</td>\n",
       "      <td>1.0</td>\n",
       "      <td>1333.000000</td>\n",
       "    </tr>\n",
       "    <tr>\n",
       "      <td>Rider_Id_10</td>\n",
       "      <td>3.000000</td>\n",
       "      <td>18.078431</td>\n",
       "      <td>3.607843</td>\n",
       "      <td>18.078431</td>\n",
       "      <td>3.607843</td>\n",
       "      <td>18.078431</td>\n",
       "      <td>3.607843</td>\n",
       "      <td>18.078431</td>\n",
       "      <td>3.607843</td>\n",
       "      <td>18.078431</td>\n",
       "      <td>...</td>\n",
       "      <td>7.797499</td>\n",
       "      <td>-1.310236</td>\n",
       "      <td>36.825240</td>\n",
       "      <td>-1.294703</td>\n",
       "      <td>36.800791</td>\n",
       "      <td>6978.0</td>\n",
       "      <td>1990.0</td>\n",
       "      <td>13.3</td>\n",
       "      <td>413.0</td>\n",
       "      <td>529.098039</td>\n",
       "    </tr>\n",
       "    <tr>\n",
       "      <td>Rider_Id_100</td>\n",
       "      <td>2.484848</td>\n",
       "      <td>14.222222</td>\n",
       "      <td>3.252525</td>\n",
       "      <td>14.222222</td>\n",
       "      <td>3.252525</td>\n",
       "      <td>14.222222</td>\n",
       "      <td>3.252525</td>\n",
       "      <td>14.222222</td>\n",
       "      <td>3.252525</td>\n",
       "      <td>14.222222</td>\n",
       "      <td>...</td>\n",
       "      <td>7.627727</td>\n",
       "      <td>-1.281512</td>\n",
       "      <td>36.813023</td>\n",
       "      <td>-1.276978</td>\n",
       "      <td>36.814100</td>\n",
       "      <td>362.0</td>\n",
       "      <td>910.0</td>\n",
       "      <td>13.4</td>\n",
       "      <td>109.0</td>\n",
       "      <td>1271.929293</td>\n",
       "    </tr>\n",
       "    <tr>\n",
       "      <td>Rider_Id_101</td>\n",
       "      <td>2.469945</td>\n",
       "      <td>16.612022</td>\n",
       "      <td>3.311475</td>\n",
       "      <td>16.612022</td>\n",
       "      <td>3.311475</td>\n",
       "      <td>16.612022</td>\n",
       "      <td>3.311475</td>\n",
       "      <td>16.612022</td>\n",
       "      <td>3.311475</td>\n",
       "      <td>16.612022</td>\n",
       "      <td>...</td>\n",
       "      <td>7.789855</td>\n",
       "      <td>-1.269583</td>\n",
       "      <td>36.803790</td>\n",
       "      <td>-1.280071</td>\n",
       "      <td>36.808981</td>\n",
       "      <td>1299.0</td>\n",
       "      <td>986.0</td>\n",
       "      <td>13.1</td>\n",
       "      <td>287.0</td>\n",
       "      <td>1755.579235</td>\n",
       "    </tr>\n",
       "  </tbody>\n",
       "</table>\n",
       "<p>5 rows × 23 columns</p>\n",
       "</div>"
      ],
      "text/plain": [
       "              Platform Type  Placement - Day of Month  \\\n",
       "Rider Id                                                \n",
       "Rider_Id_0         3.000000                  4.000000   \n",
       "Rider_Id_1         3.000000                 19.000000   \n",
       "Rider_Id_10        3.000000                 18.078431   \n",
       "Rider_Id_100       2.484848                 14.222222   \n",
       "Rider_Id_101       2.469945                 16.612022   \n",
       "\n",
       "              Placement - Weekday (Mo = 1)  Confirmation - Day of Month  \\\n",
       "Rider Id                                                                  \n",
       "Rider_Id_0                        1.000000                     4.000000   \n",
       "Rider_Id_1                        5.000000                    19.000000   \n",
       "Rider_Id_10                       3.607843                    18.078431   \n",
       "Rider_Id_100                      3.252525                    14.222222   \n",
       "Rider_Id_101                      3.311475                    16.612022   \n",
       "\n",
       "              Confirmation - Weekday (Mo = 1)  \\\n",
       "Rider Id                                        \n",
       "Rider_Id_0                           1.000000   \n",
       "Rider_Id_1                           5.000000   \n",
       "Rider_Id_10                          3.607843   \n",
       "Rider_Id_100                         3.252525   \n",
       "Rider_Id_101                         3.311475   \n",
       "\n",
       "              Arrival at Pickup - Day of Month  \\\n",
       "Rider Id                                         \n",
       "Rider_Id_0                            4.000000   \n",
       "Rider_Id_1                           19.000000   \n",
       "Rider_Id_10                          18.078431   \n",
       "Rider_Id_100                         14.222222   \n",
       "Rider_Id_101                         16.612022   \n",
       "\n",
       "              Arrival at Pickup - Weekday (Mo = 1)  Pickup - Day of Month  \\\n",
       "Rider Id                                                                    \n",
       "Rider_Id_0                                1.000000               4.000000   \n",
       "Rider_Id_1                                5.000000              19.000000   \n",
       "Rider_Id_10                               3.607843              18.078431   \n",
       "Rider_Id_100                              3.252525              14.222222   \n",
       "Rider_Id_101                              3.311475              16.612022   \n",
       "\n",
       "              Pickup - Weekday (Mo = 1)  \\\n",
       "Rider Id                                  \n",
       "Rider_Id_0                     1.000000   \n",
       "Rider_Id_1                     5.000000   \n",
       "Rider_Id_10                    3.607843   \n",
       "Rider_Id_100                   3.252525   \n",
       "Rider_Id_101                   3.311475   \n",
       "\n",
       "              Arrival at Destination - Day of Month  ...  \\\n",
       "Rider Id                                             ...   \n",
       "Rider_Id_0                                 4.000000  ...   \n",
       "Rider_Id_1                                19.000000  ...   \n",
       "Rider_Id_10                               18.078431  ...   \n",
       "Rider_Id_100                              14.222222  ...   \n",
       "Rider_Id_101                              16.612022  ...   \n",
       "\n",
       "              Precipitation in millimeters  Pickup Lat  Pickup Long  \\\n",
       "Rider Id                                                              \n",
       "Rider_Id_0                        7.905797   -1.329285    36.886785   \n",
       "Rider_Id_1                        7.905797   -1.320715    36.830577   \n",
       "Rider_Id_10                       7.797499   -1.310236    36.825240   \n",
       "Rider_Id_100                      7.627727   -1.281512    36.813023   \n",
       "Rider_Id_101                      7.789855   -1.269583    36.803790   \n",
       "\n",
       "              Destination Lat  Destination Long  No_Of_Orders     Age  \\\n",
       "Rider Id                                                                \n",
       "Rider_Id_0          -1.300921         36.828195        3048.0  2570.0   \n",
       "Rider_Id_1          -1.299323         36.775337           8.0   589.0   \n",
       "Rider_Id_10         -1.294703         36.800791        6978.0  1990.0   \n",
       "Rider_Id_100        -1.276978         36.814100         362.0   910.0   \n",
       "Rider_Id_101        -1.280071         36.808981        1299.0   986.0   \n",
       "\n",
       "              Average_Rating  No_of_Ratings  Time from Pickup to Arrival  \n",
       "Rider Id                                                                  \n",
       "Rider_Id_0              14.0          512.0                  1393.000000  \n",
       "Rider_Id_1               0.0            1.0                  1333.000000  \n",
       "Rider_Id_10             13.3          413.0                   529.098039  \n",
       "Rider_Id_100            13.4          109.0                  1271.929293  \n",
       "Rider_Id_101            13.1          287.0                  1755.579235  \n",
       "\n",
       "[5 rows x 23 columns]"
      ]
     },
     "execution_count": 34,
     "metadata": {},
     "output_type": "execute_result"
    }
   ],
   "source": [
    "# Group by Rider Id recording the mean value of each column for the riders.\n",
    "df_grp = df.drop(['Order No', 'User Id', 'Vehicle Type', 'Personal or Business', \n",
    "                  'Placement - Time','Confirmation - Time','Arrival at Pickup - Time', \n",
    "                  'Pickup - Time', 'Arrival at Destination - Time' ], axis = 1)\n",
    "df_grp = df_grp.groupby('Rider Id').mean()\n",
    "df_grp.head()"
   ]
  },
  {
   "cell_type": "code",
   "execution_count": 35,
   "metadata": {},
   "outputs": [
    {
     "data": {
      "text/html": [
       "<div>\n",
       "<style scoped>\n",
       "    .dataframe tbody tr th:only-of-type {\n",
       "        vertical-align: middle;\n",
       "    }\n",
       "\n",
       "    .dataframe tbody tr th {\n",
       "        vertical-align: top;\n",
       "    }\n",
       "\n",
       "    .dataframe thead th {\n",
       "        text-align: right;\n",
       "    }\n",
       "</style>\n",
       "<table border=\"1\" class=\"dataframe\">\n",
       "  <thead>\n",
       "    <tr style=\"text-align: right;\">\n",
       "      <th></th>\n",
       "      <th>Platform Type</th>\n",
       "      <th>Placement - Day of Month</th>\n",
       "      <th>Placement - Weekday (Mo = 1)</th>\n",
       "      <th>Confirmation - Day of Month</th>\n",
       "      <th>Confirmation - Weekday (Mo = 1)</th>\n",
       "      <th>Arrival at Pickup - Day of Month</th>\n",
       "      <th>Arrival at Pickup - Weekday (Mo = 1)</th>\n",
       "      <th>Pickup - Day of Month</th>\n",
       "      <th>Pickup - Weekday (Mo = 1)</th>\n",
       "      <th>Arrival at Destination - Day of Month</th>\n",
       "      <th>...</th>\n",
       "      <th>Precipitation in millimeters</th>\n",
       "      <th>Pickup Lat</th>\n",
       "      <th>Pickup Long</th>\n",
       "      <th>Destination Lat</th>\n",
       "      <th>Destination Long</th>\n",
       "      <th>No_Of_Orders</th>\n",
       "      <th>Age</th>\n",
       "      <th>Average_Rating</th>\n",
       "      <th>No_of_Ratings</th>\n",
       "      <th>Time from Pickup to Arrival</th>\n",
       "    </tr>\n",
       "  </thead>\n",
       "  <tbody>\n",
       "    <tr>\n",
       "      <td>Platform Type</td>\n",
       "      <td>1.000000</td>\n",
       "      <td>-0.018958</td>\n",
       "      <td>-0.091786</td>\n",
       "      <td>-0.018951</td>\n",
       "      <td>-0.091748</td>\n",
       "      <td>-0.018951</td>\n",
       "      <td>-0.091748</td>\n",
       "      <td>-0.018951</td>\n",
       "      <td>-0.091748</td>\n",
       "      <td>-0.018951</td>\n",
       "      <td>...</td>\n",
       "      <td>-0.039997</td>\n",
       "      <td>0.018723</td>\n",
       "      <td>0.041415</td>\n",
       "      <td>0.006984</td>\n",
       "      <td>0.035244</td>\n",
       "      <td>0.015274</td>\n",
       "      <td>-0.103566</td>\n",
       "      <td>-0.076152</td>\n",
       "      <td>-0.055286</td>\n",
       "      <td>0.032976</td>\n",
       "    </tr>\n",
       "    <tr>\n",
       "      <td>Placement - Day of Month</td>\n",
       "      <td>-0.018958</td>\n",
       "      <td>1.000000</td>\n",
       "      <td>0.002623</td>\n",
       "      <td>1.000000</td>\n",
       "      <td>0.002666</td>\n",
       "      <td>1.000000</td>\n",
       "      <td>0.002666</td>\n",
       "      <td>1.000000</td>\n",
       "      <td>0.002666</td>\n",
       "      <td>1.000000</td>\n",
       "      <td>...</td>\n",
       "      <td>-0.057245</td>\n",
       "      <td>0.030950</td>\n",
       "      <td>0.018550</td>\n",
       "      <td>-0.031019</td>\n",
       "      <td>-0.022392</td>\n",
       "      <td>0.000913</td>\n",
       "      <td>0.058926</td>\n",
       "      <td>0.068957</td>\n",
       "      <td>-0.013309</td>\n",
       "      <td>-0.084348</td>\n",
       "    </tr>\n",
       "    <tr>\n",
       "      <td>Placement - Weekday (Mo = 1)</td>\n",
       "      <td>-0.091786</td>\n",
       "      <td>0.002623</td>\n",
       "      <td>1.000000</td>\n",
       "      <td>0.002622</td>\n",
       "      <td>0.999998</td>\n",
       "      <td>0.002622</td>\n",
       "      <td>0.999998</td>\n",
       "      <td>0.002622</td>\n",
       "      <td>0.999998</td>\n",
       "      <td>0.002622</td>\n",
       "      <td>...</td>\n",
       "      <td>-0.027884</td>\n",
       "      <td>0.042922</td>\n",
       "      <td>-0.042164</td>\n",
       "      <td>0.095851</td>\n",
       "      <td>-0.035805</td>\n",
       "      <td>-0.110124</td>\n",
       "      <td>-0.105079</td>\n",
       "      <td>-0.022697</td>\n",
       "      <td>-0.108984</td>\n",
       "      <td>0.100776</td>\n",
       "    </tr>\n",
       "    <tr>\n",
       "      <td>Confirmation - Day of Month</td>\n",
       "      <td>-0.018951</td>\n",
       "      <td>1.000000</td>\n",
       "      <td>0.002622</td>\n",
       "      <td>1.000000</td>\n",
       "      <td>0.002665</td>\n",
       "      <td>1.000000</td>\n",
       "      <td>0.002665</td>\n",
       "      <td>1.000000</td>\n",
       "      <td>0.002665</td>\n",
       "      <td>1.000000</td>\n",
       "      <td>...</td>\n",
       "      <td>-0.057246</td>\n",
       "      <td>0.030961</td>\n",
       "      <td>0.018544</td>\n",
       "      <td>-0.031015</td>\n",
       "      <td>-0.022392</td>\n",
       "      <td>0.000912</td>\n",
       "      <td>0.058915</td>\n",
       "      <td>0.068961</td>\n",
       "      <td>-0.013317</td>\n",
       "      <td>-0.084341</td>\n",
       "    </tr>\n",
       "    <tr>\n",
       "      <td>Confirmation - Weekday (Mo = 1)</td>\n",
       "      <td>-0.091748</td>\n",
       "      <td>0.002666</td>\n",
       "      <td>0.999998</td>\n",
       "      <td>0.002665</td>\n",
       "      <td>1.000000</td>\n",
       "      <td>0.002665</td>\n",
       "      <td>1.000000</td>\n",
       "      <td>0.002665</td>\n",
       "      <td>1.000000</td>\n",
       "      <td>0.002665</td>\n",
       "      <td>...</td>\n",
       "      <td>-0.027893</td>\n",
       "      <td>0.042989</td>\n",
       "      <td>-0.042199</td>\n",
       "      <td>0.095878</td>\n",
       "      <td>-0.035806</td>\n",
       "      <td>-0.110127</td>\n",
       "      <td>-0.105141</td>\n",
       "      <td>-0.022671</td>\n",
       "      <td>-0.109029</td>\n",
       "      <td>0.100813</td>\n",
       "    </tr>\n",
       "  </tbody>\n",
       "</table>\n",
       "<p>5 rows × 23 columns</p>\n",
       "</div>"
      ],
      "text/plain": [
       "                                 Platform Type  Placement - Day of Month  \\\n",
       "Platform Type                         1.000000                 -0.018958   \n",
       "Placement - Day of Month             -0.018958                  1.000000   \n",
       "Placement - Weekday (Mo = 1)         -0.091786                  0.002623   \n",
       "Confirmation - Day of Month          -0.018951                  1.000000   \n",
       "Confirmation - Weekday (Mo = 1)      -0.091748                  0.002666   \n",
       "\n",
       "                                 Placement - Weekday (Mo = 1)  \\\n",
       "Platform Type                                       -0.091786   \n",
       "Placement - Day of Month                             0.002623   \n",
       "Placement - Weekday (Mo = 1)                         1.000000   \n",
       "Confirmation - Day of Month                          0.002622   \n",
       "Confirmation - Weekday (Mo = 1)                      0.999998   \n",
       "\n",
       "                                 Confirmation - Day of Month  \\\n",
       "Platform Type                                      -0.018951   \n",
       "Placement - Day of Month                            1.000000   \n",
       "Placement - Weekday (Mo = 1)                        0.002622   \n",
       "Confirmation - Day of Month                         1.000000   \n",
       "Confirmation - Weekday (Mo = 1)                     0.002665   \n",
       "\n",
       "                                 Confirmation - Weekday (Mo = 1)  \\\n",
       "Platform Type                                          -0.091748   \n",
       "Placement - Day of Month                                0.002666   \n",
       "Placement - Weekday (Mo = 1)                            0.999998   \n",
       "Confirmation - Day of Month                             0.002665   \n",
       "Confirmation - Weekday (Mo = 1)                         1.000000   \n",
       "\n",
       "                                 Arrival at Pickup - Day of Month  \\\n",
       "Platform Type                                           -0.018951   \n",
       "Placement - Day of Month                                 1.000000   \n",
       "Placement - Weekday (Mo = 1)                             0.002622   \n",
       "Confirmation - Day of Month                              1.000000   \n",
       "Confirmation - Weekday (Mo = 1)                          0.002665   \n",
       "\n",
       "                                 Arrival at Pickup - Weekday (Mo = 1)  \\\n",
       "Platform Type                                               -0.091748   \n",
       "Placement - Day of Month                                     0.002666   \n",
       "Placement - Weekday (Mo = 1)                                 0.999998   \n",
       "Confirmation - Day of Month                                  0.002665   \n",
       "Confirmation - Weekday (Mo = 1)                              1.000000   \n",
       "\n",
       "                                 Pickup - Day of Month  \\\n",
       "Platform Type                                -0.018951   \n",
       "Placement - Day of Month                      1.000000   \n",
       "Placement - Weekday (Mo = 1)                  0.002622   \n",
       "Confirmation - Day of Month                   1.000000   \n",
       "Confirmation - Weekday (Mo = 1)               0.002665   \n",
       "\n",
       "                                 Pickup - Weekday (Mo = 1)  \\\n",
       "Platform Type                                    -0.091748   \n",
       "Placement - Day of Month                          0.002666   \n",
       "Placement - Weekday (Mo = 1)                      0.999998   \n",
       "Confirmation - Day of Month                       0.002665   \n",
       "Confirmation - Weekday (Mo = 1)                   1.000000   \n",
       "\n",
       "                                 Arrival at Destination - Day of Month  ...  \\\n",
       "Platform Type                                                -0.018951  ...   \n",
       "Placement - Day of Month                                      1.000000  ...   \n",
       "Placement - Weekday (Mo = 1)                                  0.002622  ...   \n",
       "Confirmation - Day of Month                                   1.000000  ...   \n",
       "Confirmation - Weekday (Mo = 1)                               0.002665  ...   \n",
       "\n",
       "                                 Precipitation in millimeters  Pickup Lat  \\\n",
       "Platform Type                                       -0.039997    0.018723   \n",
       "Placement - Day of Month                            -0.057245    0.030950   \n",
       "Placement - Weekday (Mo = 1)                        -0.027884    0.042922   \n",
       "Confirmation - Day of Month                         -0.057246    0.030961   \n",
       "Confirmation - Weekday (Mo = 1)                     -0.027893    0.042989   \n",
       "\n",
       "                                 Pickup Long  Destination Lat  \\\n",
       "Platform Type                       0.041415         0.006984   \n",
       "Placement - Day of Month            0.018550        -0.031019   \n",
       "Placement - Weekday (Mo = 1)       -0.042164         0.095851   \n",
       "Confirmation - Day of Month         0.018544        -0.031015   \n",
       "Confirmation - Weekday (Mo = 1)    -0.042199         0.095878   \n",
       "\n",
       "                                 Destination Long  No_Of_Orders       Age  \\\n",
       "Platform Type                            0.035244      0.015274 -0.103566   \n",
       "Placement - Day of Month                -0.022392      0.000913  0.058926   \n",
       "Placement - Weekday (Mo = 1)            -0.035805     -0.110124 -0.105079   \n",
       "Confirmation - Day of Month             -0.022392      0.000912  0.058915   \n",
       "Confirmation - Weekday (Mo = 1)         -0.035806     -0.110127 -0.105141   \n",
       "\n",
       "                                 Average_Rating  No_of_Ratings  \\\n",
       "Platform Type                         -0.076152      -0.055286   \n",
       "Placement - Day of Month               0.068957      -0.013309   \n",
       "Placement - Weekday (Mo = 1)          -0.022697      -0.108984   \n",
       "Confirmation - Day of Month            0.068961      -0.013317   \n",
       "Confirmation - Weekday (Mo = 1)       -0.022671      -0.109029   \n",
       "\n",
       "                                 Time from Pickup to Arrival  \n",
       "Platform Type                                       0.032976  \n",
       "Placement - Day of Month                           -0.084348  \n",
       "Placement - Weekday (Mo = 1)                        0.100776  \n",
       "Confirmation - Day of Month                        -0.084341  \n",
       "Confirmation - Weekday (Mo = 1)                     0.100813  \n",
       "\n",
       "[5 rows x 23 columns]"
      ]
     },
     "execution_count": 35,
     "metadata": {},
     "output_type": "execute_result"
    },
    {
     "data": {
      "image/png": "[encoded data removed]",
      "text/plain": [
       "<Figure size 432x288 with 2 Axes>"
      ]
     },
     "metadata": {
      "needs_background": "light"
     },
     "output_type": "display_data"
    }
   ],
   "source": [
    "# Heatmap and correlation table of grouped dataset\n",
    "corr = df_grp.corr()\n",
    "ax = sns.heatmap(corr, cmap = sns.diverging_palette(20, 220, n=200),  vmax = 1, vmin = -1 , center = 0 )\n",
    "corr.head()"
   ]
  },
  {
   "cell_type": "markdown",
   "metadata": {},
   "source": [
    "It is important to note that the correlation coefficient lies between -1 and 1. Variables with a positive\n",
    "correlation are positively correlated and those with a negative correlation are negatively correlated."
   ]
  },
  {
   "cell_type": "markdown",
   "metadata": {},
   "source": [
    "## Scatter Plot Analysis"
   ]
  },
  {
   "cell_type": "code",
   "execution_count": 36,
   "metadata": {},
   "outputs": [],
   "source": [
    "# Function used to determine the slope of the best fit line\n",
    "def best_fit_slope(X,y):\n",
    "    m = ((mean(X) * mean(y)) - mean(X * y))/ ((mean(X)**2) - (mean(X**2)))\n",
    "    return m"
   ]
  },
  {
   "cell_type": "markdown",
   "metadata": {},
   "source": [
    "The line of best fit will enable us to check whether  our model is underfit,correctly fit or it is overfit"
   ]
  },
  {
   "cell_type": "code",
   "execution_count": 37,
   "metadata": {},
   "outputs": [],
   "source": [
    "#Function used to determine y-intercept of best fit line\n",
    "def best_fit_yintercept(X, y, m):\n",
    "    b = mean(y) - (m*mean(X))\n",
    "    return b"
   ]
  },
  {
   "cell_type": "code",
   "execution_count": 38,
   "metadata": {},
   "outputs": [
    {
     "data": {
      "text/plain": [
       "<matplotlib.collections.PathCollection at 0x14ec19812c8>"
      ]
     },
     "execution_count": 38,
     "metadata": {},
     "output_type": "execute_result"
    },
    {
     "data": {
      "image/png": "[encoded data removed]",
      "text/plain": [
       "<Figure size 432x288 with 1 Axes>"
      ]
     },
     "metadata": {
      "needs_background": "light"
     },
     "output_type": "display_data"
    }
   ],
   "source": [
    "X = df['Average_Rating']\n",
    "y = df['Time from Pickup to Arrival']\n",
    "m = best_fit_slope(X,y)\n",
    "b = best_fit_yintercept(X, y, m)\n",
    "y_line = m*X + b\n",
    "plt.plot(X, y_line,color = 'red')\n",
    "plt.scatter(X, y)"
   ]
  },
  {
   "cell_type": "code",
   "execution_count": 39,
   "metadata": {},
   "outputs": [
    {
     "data": {
      "text/plain": [
       "<matplotlib.collections.PathCollection at 0x14ec19efd88>"
      ]
     },
     "execution_count": 39,
     "metadata": {},
     "output_type": "execute_result"
    },
    {
     "data": {
      "image/png": "[encoded data removed]",
      "text/plain": [
       "<Figure size 432x288 with 1 Axes>"
      ]
     },
     "metadata": {
      "needs_background": "light"
     },
     "output_type": "display_data"
    }
   ],
   "source": [
    "X = df['Distance (KM)']\n",
    "y = df['Time from Pickup to Arrival']\n",
    "m = best_fit_slope(X,y)\n",
    "b = best_fit_yintercept(X, y, m)\n",
    "\n",
    "y_line = m*X + b\n",
    "plt.plot(X, y_line, color = 'red')\n",
    "plt.scatter(X, y)"
   ]
  },
  {
   "cell_type": "markdown",
   "metadata": {},
   "source": [
    "The line of best fit shows that a lot of our predictions are deviated from the actual values.There is also a\n",
    "lot of variation in the values that were predicted."
   ]
  },
  {
   "cell_type": "code",
   "execution_count": 40,
   "metadata": {},
   "outputs": [
    {
     "data": {
      "text/plain": [
       "<matplotlib.collections.PathCollection at 0x14ec1a617c8>"
      ]
     },
     "execution_count": 40,
     "metadata": {},
     "output_type": "execute_result"
    },
    {
     "data": {
      "image/png": "[encoded data removed]",
      "text/plain": [
       "<Figure size 432x288 with 1 Axes>"
      ]
     },
     "metadata": {
      "needs_background": "light"
     },
     "output_type": "display_data"
    }
   ],
   "source": [
    "X = df['Average_Rating']\n",
    "y = df['No_of_Ratings']\n",
    "m = best_fit_slope(X, y)\n",
    "b = best_fit_yintercept(X, y, m)\n",
    "\n",
    "y_line = m*X + b\n",
    "plt.plot(X, y_line, color='red')\n",
    "plt.scatter(X, y)"
   ]
  },
  {
   "cell_type": "markdown",
   "metadata": {},
   "source": [
    "## Box Plot Analysis"
   ]
  },
  {
   "cell_type": "code",
   "execution_count": 41,
   "metadata": {},
   "outputs": [
    {
     "data": {
      "text/plain": [
       "<matplotlib.axes._subplots.AxesSubplot at 0x14ec1a98588>"
      ]
     },
     "execution_count": 41,
     "metadata": {},
     "output_type": "execute_result"
    },
    {
     "data": {
      "image/png": "[encoded data removed]",
      "text/plain": [
       "<Figure size 432x288 with 1 Axes>"
      ]
     },
     "metadata": {
      "needs_background": "light"
     },
     "output_type": "display_data"
    }
   ],
   "source": [
    "sns.boxplot( x = 'Platform Type', y = 'Time from Pickup to Arrival', data = df)"
   ]
  },
  {
   "cell_type": "markdown",
   "metadata": {},
   "source": [
    "This boxplot shows that the average time each delivery took is the same for every platform, therefore using this variable in our regression model would not benefit it."
   ]
  },
  {
   "cell_type": "markdown",
   "metadata": {},
   "source": [
    "## Residual Plot Analysis"
   ]
  },
  {
   "cell_type": "code",
   "execution_count": 42,
   "metadata": {},
   "outputs": [
    {
     "data": {
      "text/plain": [
       "<matplotlib.axes._subplots.AxesSubplot at 0x14ec217f448>"
      ]
     },
     "execution_count": 42,
     "metadata": {},
     "output_type": "execute_result"
    },
    {
     "data": {
      "image/png": "[encoded data removed]",
      "text/plain": [
       "<Figure size 432x288 with 1 Axes>"
      ]
     },
     "metadata": {
      "needs_background": "light"
     },
     "output_type": "display_data"
    }
   ],
   "source": [
    "# If residuals are randomly spread out around x-axis then a linear model is appropriate.\n",
    "# Not randomly spread around the x-axis means linear model is not appropriate. Non-linear model may be appropriate.\n",
    "\n",
    "sns.residplot(df['Distance (KM)'], df['Time from Pickup to Arrival'])"
   ]
  },
  {
   "cell_type": "code",
   "execution_count": 43,
   "metadata": {},
   "outputs": [
    {
     "data": {
      "text/plain": [
       "<matplotlib.axes._subplots.AxesSubplot at 0x14ec21e1348>"
      ]
     },
     "execution_count": 43,
     "metadata": {},
     "output_type": "execute_result"
    },
    {
     "data": {
      "image/png": "[encoded data removed]",
      "text/plain": [
       "<Figure size 432x288 with 1 Axes>"
      ]
     },
     "metadata": {
      "needs_background": "light"
     },
     "output_type": "display_data"
    }
   ],
   "source": [
    "sns.residplot(df['Average_Rating'], df['Time from Pickup to Arrival'])"
   ]
  },
  {
   "cell_type": "code",
   "execution_count": 44,
   "metadata": {},
   "outputs": [
    {
     "data": {
      "text/plain": [
       "<matplotlib.axes._subplots.AxesSubplot at 0x14ec224d548>"
      ]
     },
     "execution_count": 44,
     "metadata": {},
     "output_type": "execute_result"
    },
    {
     "data": {
      "image/png": "[encoded data removed]",
      "text/plain": [
       "<Figure size 432x288 with 1 Axes>"
      ]
     },
     "metadata": {
      "needs_background": "light"
     },
     "output_type": "display_data"
    }
   ],
   "source": [
    "sns.residplot(df['Average_Rating'], df['No_of_Ratings'])"
   ]
  },
  {
   "cell_type": "markdown",
   "metadata": {},
   "source": [
    "Signs of heteroscedascity can be seen in the residual plots. Nonlinear models are appropriate for these relationships."
   ]
  },
  {
   "cell_type": "markdown",
   "metadata": {},
   "source": [
    "## Extra Plots"
   ]
  },
  {
   "cell_type": "code",
   "execution_count": 45,
   "metadata": {},
   "outputs": [
    {
     "data": {
      "text/plain": [
       "<matplotlib.axes._subplots.AxesSubplot at 0x14ec22b7a48>"
      ]
     },
     "execution_count": 45,
     "metadata": {},
     "output_type": "execute_result"
    },
    {
     "data": {
      "image/png": "[encoded data removed]",
      "text/plain": [
       "<Figure size 432x288 with 1 Axes>"
      ]
     },
     "metadata": {
      "needs_background": "light"
     },
     "output_type": "display_data"
    }
   ],
   "source": [
    "sns.lineplot(df['Distance (KM)'], df['Time from Pickup to Arrival'])"
   ]
  },
  {
   "cell_type": "markdown",
   "metadata": {},
   "source": [
    "We can see that there is a strong correlation between the Distance and the Time from pickup to arrival."
   ]
  },
  {
   "cell_type": "code",
   "execution_count": 46,
   "metadata": {},
   "outputs": [
    {
     "data": {
      "text/plain": [
       "<matplotlib.axes._subplots.AxesSubplot at 0x14ec5181ec8>"
      ]
     },
     "execution_count": 46,
     "metadata": {},
     "output_type": "execute_result"
    },
    {
     "data": {
      "image/png": "[encoded data removed]",
      "text/plain": [
       "<Figure size 432x288 with 1 Axes>"
      ]
     },
     "metadata": {
      "needs_background": "light"
     },
     "output_type": "display_data"
    }
   ],
   "source": [
    "sns.distplot(df['Platform Type'], kde = False, bins = 3)"
   ]
  },
  {
   "cell_type": "markdown",
   "metadata": {},
   "source": [
    "The most popular platform type through which orders are placed in platform 3"
   ]
  },
  {
   "cell_type": "markdown",
   "metadata": {},
   "source": [
    "We create a new column for speed calculated from the distance and the time from pickup to arrival (hours)."
   ]
  },
  {
   "cell_type": "code",
   "execution_count": 47,
   "metadata": {},
   "outputs": [
    {
     "data": {
      "text/html": [
       "<div>\n",
       "<style scoped>\n",
       "    .dataframe tbody tr th:only-of-type {\n",
       "        vertical-align: middle;\n",
       "    }\n",
       "\n",
       "    .dataframe tbody tr th {\n",
       "        vertical-align: top;\n",
       "    }\n",
       "\n",
       "    .dataframe thead th {\n",
       "        text-align: right;\n",
       "    }\n",
       "</style>\n",
       "<table border=\"1\" class=\"dataframe\">\n",
       "  <thead>\n",
       "    <tr style=\"text-align: right;\">\n",
       "      <th></th>\n",
       "      <th>Order No</th>\n",
       "      <th>User Id</th>\n",
       "      <th>Vehicle Type</th>\n",
       "      <th>Platform Type</th>\n",
       "      <th>Personal or Business</th>\n",
       "      <th>Placement - Day of Month</th>\n",
       "      <th>Placement - Weekday (Mo = 1)</th>\n",
       "      <th>Placement - Time</th>\n",
       "      <th>Confirmation - Day of Month</th>\n",
       "      <th>Confirmation - Weekday (Mo = 1)</th>\n",
       "      <th>...</th>\n",
       "      <th>Pickup Long</th>\n",
       "      <th>Destination Lat</th>\n",
       "      <th>Destination Long</th>\n",
       "      <th>Rider Id</th>\n",
       "      <th>No_Of_Orders</th>\n",
       "      <th>Age</th>\n",
       "      <th>Average_Rating</th>\n",
       "      <th>No_of_Ratings</th>\n",
       "      <th>Time from Pickup to Arrival</th>\n",
       "      <th>Speed (KM/h)</th>\n",
       "    </tr>\n",
       "  </thead>\n",
       "  <tbody>\n",
       "    <tr>\n",
       "      <td>0</td>\n",
       "      <td>Order_No_4211</td>\n",
       "      <td>User_Id_633</td>\n",
       "      <td>Bike</td>\n",
       "      <td>3</td>\n",
       "      <td>Business</td>\n",
       "      <td>9</td>\n",
       "      <td>5</td>\n",
       "      <td>9:35:46 AM</td>\n",
       "      <td>9</td>\n",
       "      <td>5</td>\n",
       "      <td>...</td>\n",
       "      <td>36.830370</td>\n",
       "      <td>-1.300406</td>\n",
       "      <td>36.829741</td>\n",
       "      <td>Rider_Id_432</td>\n",
       "      <td>1637</td>\n",
       "      <td>1309</td>\n",
       "      <td>13.8</td>\n",
       "      <td>549</td>\n",
       "      <td>745</td>\n",
       "      <td>19.328859</td>\n",
       "    </tr>\n",
       "    <tr>\n",
       "      <td>1</td>\n",
       "      <td>Order_No_27440</td>\n",
       "      <td>User_Id_2642</td>\n",
       "      <td>Bike</td>\n",
       "      <td>3</td>\n",
       "      <td>Personal</td>\n",
       "      <td>18</td>\n",
       "      <td>5</td>\n",
       "      <td>3:41:17 PM</td>\n",
       "      <td>18</td>\n",
       "      <td>5</td>\n",
       "      <td>...</td>\n",
       "      <td>36.787807</td>\n",
       "      <td>-1.356237</td>\n",
       "      <td>36.904295</td>\n",
       "      <td>Rider_Id_432</td>\n",
       "      <td>1637</td>\n",
       "      <td>1309</td>\n",
       "      <td>13.8</td>\n",
       "      <td>549</td>\n",
       "      <td>2886</td>\n",
       "      <td>24.948025</td>\n",
       "    </tr>\n",
       "    <tr>\n",
       "      <td>2</td>\n",
       "      <td>Order_No_14170</td>\n",
       "      <td>User_Id_3339</td>\n",
       "      <td>Bike</td>\n",
       "      <td>3</td>\n",
       "      <td>Business</td>\n",
       "      <td>31</td>\n",
       "      <td>5</td>\n",
       "      <td>12:51:41 PM</td>\n",
       "      <td>31</td>\n",
       "      <td>5</td>\n",
       "      <td>...</td>\n",
       "      <td>36.782203</td>\n",
       "      <td>-1.273412</td>\n",
       "      <td>36.818206</td>\n",
       "      <td>Rider_Id_432</td>\n",
       "      <td>1637</td>\n",
       "      <td>1309</td>\n",
       "      <td>13.8</td>\n",
       "      <td>549</td>\n",
       "      <td>2615</td>\n",
       "      <td>8.260038</td>\n",
       "    </tr>\n",
       "    <tr>\n",
       "      <td>3</td>\n",
       "      <td>Order_No_21727</td>\n",
       "      <td>User_Id_3523</td>\n",
       "      <td>Bike</td>\n",
       "      <td>3</td>\n",
       "      <td>Personal</td>\n",
       "      <td>2</td>\n",
       "      <td>2</td>\n",
       "      <td>7:12:10 AM</td>\n",
       "      <td>2</td>\n",
       "      <td>2</td>\n",
       "      <td>...</td>\n",
       "      <td>36.757377</td>\n",
       "      <td>-1.223520</td>\n",
       "      <td>36.802061</td>\n",
       "      <td>Rider_Id_432</td>\n",
       "      <td>1637</td>\n",
       "      <td>1309</td>\n",
       "      <td>13.8</td>\n",
       "      <td>549</td>\n",
       "      <td>2986</td>\n",
       "      <td>21.701273</td>\n",
       "    </tr>\n",
       "    <tr>\n",
       "      <td>4</td>\n",
       "      <td>Order_No_8301</td>\n",
       "      <td>User_Id_87</td>\n",
       "      <td>Bike</td>\n",
       "      <td>2</td>\n",
       "      <td>Personal</td>\n",
       "      <td>22</td>\n",
       "      <td>2</td>\n",
       "      <td>10:40:58 AM</td>\n",
       "      <td>22</td>\n",
       "      <td>2</td>\n",
       "      <td>...</td>\n",
       "      <td>36.799220</td>\n",
       "      <td>-1.300431</td>\n",
       "      <td>36.752427</td>\n",
       "      <td>Rider_Id_432</td>\n",
       "      <td>1637</td>\n",
       "      <td>1309</td>\n",
       "      <td>13.8</td>\n",
       "      <td>549</td>\n",
       "      <td>1602</td>\n",
       "      <td>15.730337</td>\n",
       "    </tr>\n",
       "  </tbody>\n",
       "</table>\n",
       "<p>5 rows × 34 columns</p>\n",
       "</div>"
      ],
      "text/plain": [
       "         Order No       User Id Vehicle Type  Platform Type  \\\n",
       "0   Order_No_4211   User_Id_633         Bike              3   \n",
       "1  Order_No_27440  User_Id_2642         Bike              3   \n",
       "2  Order_No_14170  User_Id_3339         Bike              3   \n",
       "3  Order_No_21727  User_Id_3523         Bike              3   \n",
       "4   Order_No_8301    User_Id_87         Bike              2   \n",
       "\n",
       "  Personal or Business  Placement - Day of Month  \\\n",
       "0             Business                         9   \n",
       "1             Personal                        18   \n",
       "2             Business                        31   \n",
       "3             Personal                         2   \n",
       "4             Personal                        22   \n",
       "\n",
       "   Placement - Weekday (Mo = 1) Placement - Time  Confirmation - Day of Month  \\\n",
       "0                             5       9:35:46 AM                            9   \n",
       "1                             5       3:41:17 PM                           18   \n",
       "2                             5      12:51:41 PM                           31   \n",
       "3                             2       7:12:10 AM                            2   \n",
       "4                             2      10:40:58 AM                           22   \n",
       "\n",
       "   Confirmation - Weekday (Mo = 1)  ... Pickup Long  Destination Lat  \\\n",
       "0                                5  ...   36.830370        -1.300406   \n",
       "1                                5  ...   36.787807        -1.356237   \n",
       "2                                5  ...   36.782203        -1.273412   \n",
       "3                                2  ...   36.757377        -1.223520   \n",
       "4                                2  ...   36.799220        -1.300431   \n",
       "\n",
       "   Destination Long      Rider Id  No_Of_Orders   Age Average_Rating  \\\n",
       "0         36.829741  Rider_Id_432          1637  1309           13.8   \n",
       "1         36.904295  Rider_Id_432          1637  1309           13.8   \n",
       "2         36.818206  Rider_Id_432          1637  1309           13.8   \n",
       "3         36.802061  Rider_Id_432          1637  1309           13.8   \n",
       "4         36.752427  Rider_Id_432          1637  1309           13.8   \n",
       "\n",
       "   No_of_Ratings  Time from Pickup to Arrival Speed (KM/h)  \n",
       "0            549                          745    19.328859  \n",
       "1            549                         2886    24.948025  \n",
       "2            549                         2615     8.260038  \n",
       "3            549                         2986    21.701273  \n",
       "4            549                         1602    15.730337  \n",
       "\n",
       "[5 rows x 34 columns]"
      ]
     },
     "execution_count": 47,
     "metadata": {},
     "output_type": "execute_result"
    }
   ],
   "source": [
    "df['Speed (KM/h)'] = df['Distance (KM)']/(df['Time from Pickup to Arrival']/3600)\n",
    "df.head()"
   ]
  },
  {
   "cell_type": "markdown",
   "metadata": {},
   "source": [
    "We extract the time from the time columns and determine the hour when each order was placed, confirmed and picked up"
   ]
  },
  {
   "cell_type": "code",
   "execution_count": 48,
   "metadata": {},
   "outputs": [],
   "source": [
    "# Change columns with time to have datetime data types\n",
    "df['Pickup - Time'] = pd.to_datetime(df['Pickup - Time'], infer_datetime_format=True)\n",
    "df['Placement - Time'] = pd.to_datetime(df['Placement - Time'], infer_datetime_format=True)\n",
    "df['Confirmation - Time'] = pd.to_datetime(df['Confirmation - Time'], infer_datetime_format=True)"
   ]
  },
  {
   "cell_type": "code",
   "execution_count": 49,
   "metadata": {},
   "outputs": [],
   "source": [
    "# Extract the hour when each order was placed\n",
    "pickup_hour = df['Pickup - Time']\n",
    "placement_hour = df['Placement - Time']\n",
    "confirmation_hour = df['Confirmation - Time']"
   ]
  },
  {
   "cell_type": "code",
   "execution_count": 50,
   "metadata": {},
   "outputs": [
    {
     "data": {
      "text/html": [
       "<div>\n",
       "<style scoped>\n",
       "    .dataframe tbody tr th:only-of-type {\n",
       "        vertical-align: middle;\n",
       "    }\n",
       "\n",
       "    .dataframe tbody tr th {\n",
       "        vertical-align: top;\n",
       "    }\n",
       "\n",
       "    .dataframe thead th {\n",
       "        text-align: right;\n",
       "    }\n",
       "</style>\n",
       "<table border=\"1\" class=\"dataframe\">\n",
       "  <thead>\n",
       "    <tr style=\"text-align: right;\">\n",
       "      <th></th>\n",
       "      <th>Placement - Time</th>\n",
       "      <th>Confirmation - Time</th>\n",
       "      <th>Pickup - Time</th>\n",
       "      <th>placement_confirmation</th>\n",
       "      <th>confirmation_pickup</th>\n",
       "      <th>Time from pickup to arrival</th>\n",
       "    </tr>\n",
       "  </thead>\n",
       "  <tbody>\n",
       "    <tr>\n",
       "      <td>0</td>\n",
       "      <td>09:35:46</td>\n",
       "      <td>09:40:10</td>\n",
       "      <td>10:27:30</td>\n",
       "      <td>4.400000</td>\n",
       "      <td>47.333333</td>\n",
       "      <td>12.416667</td>\n",
       "    </tr>\n",
       "    <tr>\n",
       "      <td>1</td>\n",
       "      <td>15:41:17</td>\n",
       "      <td>15:41:30</td>\n",
       "      <td>16:13:37</td>\n",
       "      <td>0.216667</td>\n",
       "      <td>32.116667</td>\n",
       "      <td>48.100000</td>\n",
       "    </tr>\n",
       "    <tr>\n",
       "      <td>2</td>\n",
       "      <td>12:51:41</td>\n",
       "      <td>13:12:49</td>\n",
       "      <td>13:33:08</td>\n",
       "      <td>21.133333</td>\n",
       "      <td>20.316667</td>\n",
       "      <td>43.583333</td>\n",
       "    </tr>\n",
       "    <tr>\n",
       "      <td>3</td>\n",
       "      <td>07:12:10</td>\n",
       "      <td>07:12:29</td>\n",
       "      <td>07:38:46</td>\n",
       "      <td>0.316667</td>\n",
       "      <td>26.283333</td>\n",
       "      <td>49.766667</td>\n",
       "    </tr>\n",
       "    <tr>\n",
       "      <td>4</td>\n",
       "      <td>10:40:58</td>\n",
       "      <td>10:42:24</td>\n",
       "      <td>10:59:40</td>\n",
       "      <td>1.433333</td>\n",
       "      <td>17.266667</td>\n",
       "      <td>26.700000</td>\n",
       "    </tr>\n",
       "  </tbody>\n",
       "</table>\n",
       "</div>"
      ],
      "text/plain": [
       "  Placement - Time Confirmation - Time Pickup - Time  placement_confirmation  \\\n",
       "0         09:35:46            09:40:10      10:27:30                4.400000   \n",
       "1         15:41:17            15:41:30      16:13:37                0.216667   \n",
       "2         12:51:41            13:12:49      13:33:08               21.133333   \n",
       "3         07:12:10            07:12:29      07:38:46                0.316667   \n",
       "4         10:40:58            10:42:24      10:59:40                1.433333   \n",
       "\n",
       "   confirmation_pickup  Time from pickup to arrival  \n",
       "0            47.333333                    12.416667  \n",
       "1            32.116667                    48.100000  \n",
       "2            20.316667                    43.583333  \n",
       "3            26.283333                    49.766667  \n",
       "4            17.266667                    26.700000  "
      ]
     },
     "execution_count": 50,
     "metadata": {},
     "output_type": "execute_result"
    }
   ],
   "source": [
    "# Create a dataframe with that shows the hour when an order is placed, confirmed and picked up by the driver\n",
    "time_df = pd.concat([placement_hour, confirmation_hour, pickup_hour], axis = 1)\n",
    "\n",
    "# Determine the time between each phase of the order in minutes\n",
    "time_df['placement_confirmation'] = (time_df['Confirmation - Time'] - time_df['Placement - Time'])/np.timedelta64(1, 'm')\n",
    "time_df['confirmation_pickup'] = (time_df['Pickup - Time'] - time_df['Confirmation - Time'])/np.timedelta64(1, 'm')\n",
    "\n",
    "time_df['Pickup - Time'] = df['Pickup - Time'].dt.time\n",
    "time_df['Placement - Time'] = df['Placement - Time'].dt.time\n",
    "time_df['Confirmation - Time'] = df['Confirmation - Time'].dt.time\n",
    "\n",
    "time_df['Time from pickup to arrival'] = df['Time from Pickup to Arrival']/60\n",
    "        \n",
    "time_df.head()"
   ]
  },
  {
   "cell_type": "code",
   "execution_count": 51,
   "metadata": {},
   "outputs": [
    {
     "data": {
      "text/plain": [
       "<matplotlib.axes._subplots.AxesSubplot at 0x14ec1f9fa08>"
      ]
     },
     "execution_count": 51,
     "metadata": {},
     "output_type": "execute_result"
    },
    {
     "data": {
      "image/png": "[encoded data removed]",
      "text/plain": [
       "<Figure size 432x288 with 1 Axes>"
      ]
     },
     "metadata": {
      "needs_background": "light"
     },
     "output_type": "display_data"
    }
   ],
   "source": [
    "sns.distplot(pickup_hour.dt.hour, kde = False, bins=24)"
   ]
  },
  {
   "cell_type": "code",
   "execution_count": 52,
   "metadata": {},
   "outputs": [
    {
     "data": {
      "text/plain": [
       "<matplotlib.axes._subplots.AxesSubplot at 0x14ec54fb888>"
      ]
     },
     "execution_count": 52,
     "metadata": {},
     "output_type": "execute_result"
    },
    {
     "data": {
      "image/png": "[encoded data removed]",
      "text/plain": [
       "<Figure size 432x288 with 1 Axes>"
      ]
     },
     "metadata": {
      "needs_background": "light"
     },
     "output_type": "display_data"
    }
   ],
   "source": [
    "sns.distplot(placement_hour.dt.hour, kde = False, bins=24)"
   ]
  },
  {
   "cell_type": "code",
   "execution_count": 116,
   "metadata": {},
   "outputs": [
    {
     "data": {
      "text/html": [
       "<div>\n",
       "<style scoped>\n",
       "    .dataframe tbody tr th:only-of-type {\n",
       "        vertical-align: middle;\n",
       "    }\n",
       "\n",
       "    .dataframe tbody tr th {\n",
       "        vertical-align: top;\n",
       "    }\n",
       "\n",
       "    .dataframe thead th {\n",
       "        text-align: right;\n",
       "    }\n",
       "</style>\n",
       "<table border=\"1\" class=\"dataframe\">\n",
       "  <thead>\n",
       "    <tr style=\"text-align: right;\">\n",
       "      <th></th>\n",
       "      <th>Order No</th>\n",
       "      <th>User Id</th>\n",
       "      <th>Vehicle Type</th>\n",
       "      <th>Platform Type</th>\n",
       "      <th>Personal or Business</th>\n",
       "      <th>Placement - Day of Month</th>\n",
       "      <th>Placement - Weekday (Mo = 1)</th>\n",
       "      <th>Placement - Time</th>\n",
       "      <th>Confirmation - Day of Month</th>\n",
       "      <th>Confirmation - Weekday (Mo = 1)</th>\n",
       "      <th>...</th>\n",
       "      <th>Arrival at Destination - Time</th>\n",
       "      <th>Distance (KM)</th>\n",
       "      <th>Temperature</th>\n",
       "      <th>Precipitation in millimeters</th>\n",
       "      <th>Pickup Lat</th>\n",
       "      <th>Pickup Long</th>\n",
       "      <th>Destination Lat</th>\n",
       "      <th>Destination Long</th>\n",
       "      <th>Rider Id</th>\n",
       "      <th>Time from Pickup to Arrival</th>\n",
       "    </tr>\n",
       "  </thead>\n",
       "  <tbody>\n",
       "    <tr>\n",
       "      <td>0</td>\n",
       "      <td>Order_No_4211</td>\n",
       "      <td>User_Id_633</td>\n",
       "      <td>Bike</td>\n",
       "      <td>3</td>\n",
       "      <td>Business</td>\n",
       "      <td>9</td>\n",
       "      <td>5</td>\n",
       "      <td>9:35:46 AM</td>\n",
       "      <td>9</td>\n",
       "      <td>5</td>\n",
       "      <td>...</td>\n",
       "      <td>10:39:55 AM</td>\n",
       "      <td>4</td>\n",
       "      <td>20.4</td>\n",
       "      <td>NaN</td>\n",
       "      <td>-1.317755</td>\n",
       "      <td>36.830370</td>\n",
       "      <td>-1.300406</td>\n",
       "      <td>36.829741</td>\n",
       "      <td>Rider_Id_432</td>\n",
       "      <td>745</td>\n",
       "    </tr>\n",
       "    <tr>\n",
       "      <td>1</td>\n",
       "      <td>Order_No_25375</td>\n",
       "      <td>User_Id_2285</td>\n",
       "      <td>Bike</td>\n",
       "      <td>3</td>\n",
       "      <td>Personal</td>\n",
       "      <td>12</td>\n",
       "      <td>5</td>\n",
       "      <td>11:16:16 AM</td>\n",
       "      <td>12</td>\n",
       "      <td>5</td>\n",
       "      <td>...</td>\n",
       "      <td>12:17:22 PM</td>\n",
       "      <td>16</td>\n",
       "      <td>26.4</td>\n",
       "      <td>NaN</td>\n",
       "      <td>-1.351453</td>\n",
       "      <td>36.899315</td>\n",
       "      <td>-1.295004</td>\n",
       "      <td>36.814358</td>\n",
       "      <td>Rider_Id_856</td>\n",
       "      <td>1993</td>\n",
       "    </tr>\n",
       "    <tr>\n",
       "      <td>2</td>\n",
       "      <td>Order_No_1899</td>\n",
       "      <td>User_Id_265</td>\n",
       "      <td>Bike</td>\n",
       "      <td>3</td>\n",
       "      <td>Business</td>\n",
       "      <td>30</td>\n",
       "      <td>2</td>\n",
       "      <td>12:39:25 PM</td>\n",
       "      <td>30</td>\n",
       "      <td>2</td>\n",
       "      <td>...</td>\n",
       "      <td>1:00:38 PM</td>\n",
       "      <td>3</td>\n",
       "      <td>NaN</td>\n",
       "      <td>NaN</td>\n",
       "      <td>-1.308284</td>\n",
       "      <td>36.843419</td>\n",
       "      <td>-1.300921</td>\n",
       "      <td>36.828195</td>\n",
       "      <td>Rider_Id_155</td>\n",
       "      <td>455</td>\n",
       "    </tr>\n",
       "    <tr>\n",
       "      <td>3</td>\n",
       "      <td>Order_No_9336</td>\n",
       "      <td>User_Id_1402</td>\n",
       "      <td>Bike</td>\n",
       "      <td>3</td>\n",
       "      <td>Business</td>\n",
       "      <td>15</td>\n",
       "      <td>5</td>\n",
       "      <td>9:25:34 AM</td>\n",
       "      <td>15</td>\n",
       "      <td>5</td>\n",
       "      <td>...</td>\n",
       "      <td>10:05:27 AM</td>\n",
       "      <td>9</td>\n",
       "      <td>19.2</td>\n",
       "      <td>NaN</td>\n",
       "      <td>-1.281301</td>\n",
       "      <td>36.832396</td>\n",
       "      <td>-1.257147</td>\n",
       "      <td>36.795063</td>\n",
       "      <td>Rider_Id_855</td>\n",
       "      <td>1341</td>\n",
       "    </tr>\n",
       "    <tr>\n",
       "      <td>4</td>\n",
       "      <td>Order_No_27883</td>\n",
       "      <td>User_Id_1737</td>\n",
       "      <td>Bike</td>\n",
       "      <td>1</td>\n",
       "      <td>Personal</td>\n",
       "      <td>13</td>\n",
       "      <td>1</td>\n",
       "      <td>9:55:18 AM</td>\n",
       "      <td>13</td>\n",
       "      <td>1</td>\n",
       "      <td>...</td>\n",
       "      <td>10:25:37 AM</td>\n",
       "      <td>9</td>\n",
       "      <td>15.4</td>\n",
       "      <td>NaN</td>\n",
       "      <td>-1.266597</td>\n",
       "      <td>36.792118</td>\n",
       "      <td>-1.295041</td>\n",
       "      <td>36.809817</td>\n",
       "      <td>Rider_Id_770</td>\n",
       "      <td>1214</td>\n",
       "    </tr>\n",
       "    <tr>\n",
       "      <td>...</td>\n",
       "      <td>...</td>\n",
       "      <td>...</td>\n",
       "      <td>...</td>\n",
       "      <td>...</td>\n",
       "      <td>...</td>\n",
       "      <td>...</td>\n",
       "      <td>...</td>\n",
       "      <td>...</td>\n",
       "      <td>...</td>\n",
       "      <td>...</td>\n",
       "      <td>...</td>\n",
       "      <td>...</td>\n",
       "      <td>...</td>\n",
       "      <td>...</td>\n",
       "      <td>...</td>\n",
       "      <td>...</td>\n",
       "      <td>...</td>\n",
       "      <td>...</td>\n",
       "      <td>...</td>\n",
       "      <td>...</td>\n",
       "      <td>...</td>\n",
       "    </tr>\n",
       "    <tr>\n",
       "      <td>21196</td>\n",
       "      <td>Order_No_8834</td>\n",
       "      <td>User_Id_2001</td>\n",
       "      <td>Bike</td>\n",
       "      <td>3</td>\n",
       "      <td>Personal</td>\n",
       "      <td>20</td>\n",
       "      <td>3</td>\n",
       "      <td>3:54:38 PM</td>\n",
       "      <td>20</td>\n",
       "      <td>3</td>\n",
       "      <td>...</td>\n",
       "      <td>4:20:17 PM</td>\n",
       "      <td>3</td>\n",
       "      <td>28.6</td>\n",
       "      <td>NaN</td>\n",
       "      <td>-1.258414</td>\n",
       "      <td>36.804800</td>\n",
       "      <td>-1.275285</td>\n",
       "      <td>36.802702</td>\n",
       "      <td>Rider_Id_953</td>\n",
       "      <td>9</td>\n",
       "    </tr>\n",
       "    <tr>\n",
       "      <td>21197</td>\n",
       "      <td>Order_No_22892</td>\n",
       "      <td>User_Id_1796</td>\n",
       "      <td>Bike</td>\n",
       "      <td>3</td>\n",
       "      <td>Business</td>\n",
       "      <td>13</td>\n",
       "      <td>6</td>\n",
       "      <td>10:13:34 AM</td>\n",
       "      <td>13</td>\n",
       "      <td>6</td>\n",
       "      <td>...</td>\n",
       "      <td>10:46:17 AM</td>\n",
       "      <td>7</td>\n",
       "      <td>26.0</td>\n",
       "      <td>NaN</td>\n",
       "      <td>-1.307143</td>\n",
       "      <td>36.825009</td>\n",
       "      <td>-1.331619</td>\n",
       "      <td>36.847976</td>\n",
       "      <td>Rider_Id_155</td>\n",
       "      <td>770</td>\n",
       "    </tr>\n",
       "    <tr>\n",
       "      <td>21198</td>\n",
       "      <td>Order_No_2831</td>\n",
       "      <td>User_Id_2956</td>\n",
       "      <td>Bike</td>\n",
       "      <td>3</td>\n",
       "      <td>Business</td>\n",
       "      <td>7</td>\n",
       "      <td>4</td>\n",
       "      <td>5:06:16 PM</td>\n",
       "      <td>7</td>\n",
       "      <td>4</td>\n",
       "      <td>...</td>\n",
       "      <td>6:40:05 PM</td>\n",
       "      <td>20</td>\n",
       "      <td>29.2</td>\n",
       "      <td>NaN</td>\n",
       "      <td>-1.286018</td>\n",
       "      <td>36.897534</td>\n",
       "      <td>-1.258414</td>\n",
       "      <td>36.804800</td>\n",
       "      <td>Rider_Id_697</td>\n",
       "      <td>2953</td>\n",
       "    </tr>\n",
       "    <tr>\n",
       "      <td>21199</td>\n",
       "      <td>Order_No_6174</td>\n",
       "      <td>User_Id_2524</td>\n",
       "      <td>Bike</td>\n",
       "      <td>1</td>\n",
       "      <td>Personal</td>\n",
       "      <td>4</td>\n",
       "      <td>3</td>\n",
       "      <td>9:31:39 AM</td>\n",
       "      <td>4</td>\n",
       "      <td>3</td>\n",
       "      <td>...</td>\n",
       "      <td>10:08:15 AM</td>\n",
       "      <td>13</td>\n",
       "      <td>15.0</td>\n",
       "      <td>NaN</td>\n",
       "      <td>-1.250030</td>\n",
       "      <td>36.874167</td>\n",
       "      <td>-1.279209</td>\n",
       "      <td>36.794872</td>\n",
       "      <td>Rider_Id_347</td>\n",
       "      <td>1380</td>\n",
       "    </tr>\n",
       "    <tr>\n",
       "      <td>21200</td>\n",
       "      <td>Order_No_9836</td>\n",
       "      <td>User_Id_718</td>\n",
       "      <td>Bike</td>\n",
       "      <td>3</td>\n",
       "      <td>Business</td>\n",
       "      <td>26</td>\n",
       "      <td>2</td>\n",
       "      <td>2:19:47 PM</td>\n",
       "      <td>26</td>\n",
       "      <td>2</td>\n",
       "      <td>...</td>\n",
       "      <td>3:17:23 PM</td>\n",
       "      <td>12</td>\n",
       "      <td>30.9</td>\n",
       "      <td>NaN</td>\n",
       "      <td>-1.255189</td>\n",
       "      <td>36.782203</td>\n",
       "      <td>-1.320157</td>\n",
       "      <td>36.830887</td>\n",
       "      <td>Rider_Id_177</td>\n",
       "      <td>2128</td>\n",
       "    </tr>\n",
       "  </tbody>\n",
       "</table>\n",
       "<p>21201 rows × 29 columns</p>\n",
       "</div>"
      ],
      "text/plain": [
       "             Order No       User Id Vehicle Type  Platform Type  \\\n",
       "0       Order_No_4211   User_Id_633         Bike              3   \n",
       "1      Order_No_25375  User_Id_2285         Bike              3   \n",
       "2       Order_No_1899   User_Id_265         Bike              3   \n",
       "3       Order_No_9336  User_Id_1402         Bike              3   \n",
       "4      Order_No_27883  User_Id_1737         Bike              1   \n",
       "...               ...           ...          ...            ...   \n",
       "21196   Order_No_8834  User_Id_2001         Bike              3   \n",
       "21197  Order_No_22892  User_Id_1796         Bike              3   \n",
       "21198   Order_No_2831  User_Id_2956         Bike              3   \n",
       "21199   Order_No_6174  User_Id_2524         Bike              1   \n",
       "21200   Order_No_9836   User_Id_718         Bike              3   \n",
       "\n",
       "      Personal or Business  Placement - Day of Month  \\\n",
       "0                 Business                         9   \n",
       "1                 Personal                        12   \n",
       "2                 Business                        30   \n",
       "3                 Business                        15   \n",
       "4                 Personal                        13   \n",
       "...                    ...                       ...   \n",
       "21196             Personal                        20   \n",
       "21197             Business                        13   \n",
       "21198             Business                         7   \n",
       "21199             Personal                         4   \n",
       "21200             Business                        26   \n",
       "\n",
       "       Placement - Weekday (Mo = 1) Placement - Time  \\\n",
       "0                                 5       9:35:46 AM   \n",
       "1                                 5      11:16:16 AM   \n",
       "2                                 2      12:39:25 PM   \n",
       "3                                 5       9:25:34 AM   \n",
       "4                                 1       9:55:18 AM   \n",
       "...                             ...              ...   \n",
       "21196                             3       3:54:38 PM   \n",
       "21197                             6      10:13:34 AM   \n",
       "21198                             4       5:06:16 PM   \n",
       "21199                             3       9:31:39 AM   \n",
       "21200                             2       2:19:47 PM   \n",
       "\n",
       "       Confirmation - Day of Month  Confirmation - Weekday (Mo = 1)  ...  \\\n",
       "0                                9                                5  ...   \n",
       "1                               12                                5  ...   \n",
       "2                               30                                2  ...   \n",
       "3                               15                                5  ...   \n",
       "4                               13                                1  ...   \n",
       "...                            ...                              ...  ...   \n",
       "21196                           20                                3  ...   \n",
       "21197                           13                                6  ...   \n",
       "21198                            7                                4  ...   \n",
       "21199                            4                                3  ...   \n",
       "21200                           26                                2  ...   \n",
       "\n",
       "      Arrival at Destination - Time  Distance (KM)  Temperature  \\\n",
       "0                       10:39:55 AM              4         20.4   \n",
       "1                       12:17:22 PM             16         26.4   \n",
       "2                        1:00:38 PM              3          NaN   \n",
       "3                       10:05:27 AM              9         19.2   \n",
       "4                       10:25:37 AM              9         15.4   \n",
       "...                             ...            ...          ...   \n",
       "21196                    4:20:17 PM              3         28.6   \n",
       "21197                   10:46:17 AM              7         26.0   \n",
       "21198                    6:40:05 PM             20         29.2   \n",
       "21199                   10:08:15 AM             13         15.0   \n",
       "21200                    3:17:23 PM             12         30.9   \n",
       "\n",
       "      Precipitation in millimeters  Pickup Lat  Pickup Long Destination Lat  \\\n",
       "0                              NaN   -1.317755    36.830370       -1.300406   \n",
       "1                              NaN   -1.351453    36.899315       -1.295004   \n",
       "2                              NaN   -1.308284    36.843419       -1.300921   \n",
       "3                              NaN   -1.281301    36.832396       -1.257147   \n",
       "4                              NaN   -1.266597    36.792118       -1.295041   \n",
       "...                            ...         ...          ...             ...   \n",
       "21196                          NaN   -1.258414    36.804800       -1.275285   \n",
       "21197                          NaN   -1.307143    36.825009       -1.331619   \n",
       "21198                          NaN   -1.286018    36.897534       -1.258414   \n",
       "21199                          NaN   -1.250030    36.874167       -1.279209   \n",
       "21200                          NaN   -1.255189    36.782203       -1.320157   \n",
       "\n",
       "       Destination Long      Rider Id Time from Pickup to Arrival  \n",
       "0             36.829741  Rider_Id_432                         745  \n",
       "1             36.814358  Rider_Id_856                        1993  \n",
       "2             36.828195  Rider_Id_155                         455  \n",
       "3             36.795063  Rider_Id_855                        1341  \n",
       "4             36.809817  Rider_Id_770                        1214  \n",
       "...                 ...           ...                         ...  \n",
       "21196         36.802702  Rider_Id_953                           9  \n",
       "21197         36.847976  Rider_Id_155                         770  \n",
       "21198         36.804800  Rider_Id_697                        2953  \n",
       "21199         36.794872  Rider_Id_347                        1380  \n",
       "21200         36.830887  Rider_Id_177                        2128  \n",
       "\n",
       "[21201 rows x 29 columns]"
      ]
     },
     "execution_count": 116,
     "metadata": {},
     "output_type": "execute_result"
    }
   ],
   "source": [
    "train_df"
   ]
  },
  {
   "cell_type": "markdown",
   "metadata": {},
   "source": [
    "## Geospatial analysis"
   ]
  },
  {
   "cell_type": "code",
   "execution_count": 191,
   "metadata": {},
   "outputs": [
    {
     "data": {
      "application/vnd.plotly.v1+json": {
       "config": {
        "plotlyServerURL": "https://plot.ly"
       },
       "data": [
        {
         "lat": [
          -1.3177546999999998,
          -1.3004062,
          -1.351453,
          -1.2950041,
          -1.3082842,
          -1.300921,
          -1.2813012,
          -1.2571472,
          -1.2665973999999998,
          -1.2950408000000002,
          -1.3025826,
          -1.257309,
          -1.279395,
          -1.2765736,
          -1.2527958000000001,
          -1.2551895,
          -1.2551895,
          -1.3002553999999997,
          -1.225322,
          -1.2156006000000001,
          -1.3291184,
          -1.2903421,
          -1.2584143,
          -1.2860183,
          -1.2558721000000002,
          -1.275442,
          -1.2571472,
          -1.3908673999999999,
          -1.304735,
          -1.2993231,
          -1.3302996,
          -1.2644742,
          -1.3396256000000002,
          -1.2705296999999998,
          -1.2574219,
          -1.3228003000000002,
          -1.2599563,
          -1.2867454,
          -1.2872899,
          -1.2898353999999999,
          -1.3023756000000002,
          -1.2574087999999999,
          -1.3244885,
          -1.3107918,
          -1.2627555,
          -1.2105983999999999,
          -1.3211235000000001,
          -1.2869041,
          -1.2969741000000001,
          -1.295908,
          -1.2859912,
          -1.28878,
          -1.2735999,
          -1.2508229,
          -1.2551895,
          -1.3339943,
          -1.279395,
          -1.3242351,
          -1.2608993,
          -1.2631940000000002,
          -1.2917868000000001,
          -1.3700383,
          -1.3067663,
          -1.3457877,
          -1.225322,
          -1.290894,
          -1.228911,
          -1.2600926000000001,
          -1.2551895,
          -1.2676026000000002,
          -1.2584143,
          -1.225322,
          -1.3167113000000001,
          -1.3004062,
          -1.2570328000000002,
          -1.2963097,
          -1.3331402,
          -1.3793096000000002,
          -1.2602337,
          -1.3198615,
          -1.2963097,
          -1.3160976999999998,
          -1.2655332000000001,
          -1.2729217,
          -1.225322,
          -1.3025826,
          -1.301796,
          -1.3533402,
          -1.3025826,
          -1.2551895,
          -1.2642903,
          -1.269534,
          -1.2551895,
          -1.2998903,
          -1.3832336,
          -1.3208162,
          -1.3323107,
          -1.2613768,
          -1.257028,
          -1.3073569
         ],
         "lon": [
          36.8303703,
          36.829741,
          36.899315,
          36.814358299999995,
          36.843419399999995,
          36.828195,
          36.832396200000005,
          36.795063299999995,
          36.7921181,
          36.809817200000005,
          36.7670807,
          36.806008399999996,
          36.825364,
          36.851364600000004,
          36.8003131,
          36.7822034,
          36.7822034,
          36.8256566,
          36.80855,
          36.8916865,
          36.7892374,
          36.7885282,
          36.8048002,
          36.8975338,
          36.722296,
          36.766020700000006,
          36.795063299999995,
          36.7674236,
          36.784605400000004,
          36.7753372,
          36.8707935,
          36.808345700000004,
          36.8863135,
          36.7987172,
          36.7927073,
          36.8306435,
          36.799343900000004,
          36.8259017,
          36.820434000000006,
          36.787270299999996,
          36.7949276,
          36.799712,
          36.897791999999995,
          36.761794,
          36.792955299999996,
          36.8109774,
          36.7765164,
          36.8240057,
          36.7856612,
          36.791433000000005,
          36.8756811,
          36.8168312,
          36.8218131,
          36.7895263,
          36.7822034,
          36.7263409,
          36.825364,
          36.8202498,
          36.799246000000004,
          36.797624,
          36.7872675,
          36.9190174,
          36.8438792,
          36.8811894,
          36.80855,
          36.822971,
          36.881876,
          36.8088685,
          36.7822034,
          36.810362899999994,
          36.8048002,
          36.80855,
          36.8301563,
          36.829741,
          36.7869744,
          36.7688221,
          36.8925275,
          36.931042100000006,
          36.79905479999999,
          36.7110323,
          36.7688221,
          36.913164200000004,
          36.8094648,
          36.762482899999995,
          36.80855,
          36.7670807,
          36.8012024,
          36.9078924,
          36.7670807,
          36.7822034,
          36.80021370000001,
          36.80697,
          36.7822034,
          36.8179213,
          36.764737200000006,
          36.8451209,
          36.8692616,
          36.801941799999994,
          36.7810435,
          36.82021629999999
         ],
         "marker": {
          "size": 10
         },
         "mode": "markers+lines",
         "type": "scattermapbox"
        }
       ],
       "layout": {
        "mapbox": {
         "center": {
          "lat": -1.2839729,
          "lon": 36.8115146
         },
         "style": "stamen-terrain",
         "zoom": 10
        },
        "margin": {
         "b": 0,
         "l": 0,
         "r": 0,
         "t": 0
        },
        "template": {
         "data": {
          "bar": [
           {
            "error_x": {
             "color": "#2a3f5f"
            },
            "error_y": {
             "color": "#2a3f5f"
            },
            "marker": {
             "line": {
              "color": "#E5ECF6",
              "width": 0.5
             }
            },
            "type": "bar"
           }
          ],
          "barpolar": [
           {
            "marker": {
             "line": {
              "color": "#E5ECF6",
              "width": 0.5
             }
            },
            "type": "barpolar"
           }
          ],
          "carpet": [
           {
            "aaxis": {
             "endlinecolor": "#2a3f5f",
             "gridcolor": "white",
             "linecolor": "white",
             "minorgridcolor": "white",
             "startlinecolor": "#2a3f5f"
            },
            "baxis": {
             "endlinecolor": "#2a3f5f",
             "gridcolor": "white",
             "linecolor": "white",
             "minorgridcolor": "white",
             "startlinecolor": "#2a3f5f"
            },
            "type": "carpet"
           }
          ],
          "choropleth": [
           {
            "colorbar": {
             "outlinewidth": 0,
             "ticks": ""
            },
            "type": "choropleth"
           }
          ],
          "contour": [
           {
            "colorbar": {
             "outlinewidth": 0,
             "ticks": ""
            },
            "colorscale": [
             [
              0,
              "#0d0887"
             ],
             [
              0.1111111111111111,
              "#46039f"
             ],
             [
              0.2222222222222222,
              "#7201a8"
             ],
             [
              0.3333333333333333,
              "#9c179e"
             ],
             [
              0.4444444444444444,
              "#bd3786"
             ],
             [
              0.5555555555555556,
              "#d8576b"
             ],
             [
              0.6666666666666666,
              "#ed7953"
             ],
             [
              0.7777777777777778,
              "#fb9f3a"
             ],
             [
              0.8888888888888888,
              "#fdca26"
             ],
             [
              1,
              "#f0f921"
             ]
            ],
            "type": "contour"
           }
          ],
          "contourcarpet": [
           {
            "colorbar": {
             "outlinewidth": 0,
             "ticks": ""
            },
            "type": "contourcarpet"
           }
          ],
          "heatmap": [
           {
            "colorbar": {
             "outlinewidth": 0,
             "ticks": ""
            },
            "colorscale": [
             [
              0,
              "#0d0887"
             ],
             [
              0.1111111111111111,
              "#46039f"
             ],
             [
              0.2222222222222222,
              "#7201a8"
             ],
             [
              0.3333333333333333,
              "#9c179e"
             ],
             [
              0.4444444444444444,
              "#bd3786"
             ],
             [
              0.5555555555555556,
              "#d8576b"
             ],
             [
              0.6666666666666666,
              "#ed7953"
             ],
             [
              0.7777777777777778,
              "#fb9f3a"
             ],
             [
              0.8888888888888888,
              "#fdca26"
             ],
             [
              1,
              "#f0f921"
             ]
            ],
            "type": "heatmap"
           }
          ],
          "heatmapgl": [
           {
            "colorbar": {
             "outlinewidth": 0,
             "ticks": ""
            },
            "colorscale": [
             [
              0,
              "#0d0887"
             ],
             [
              0.1111111111111111,
              "#46039f"
             ],
             [
              0.2222222222222222,
              "#7201a8"
             ],
             [
              0.3333333333333333,
              "#9c179e"
             ],
             [
              0.4444444444444444,
              "#bd3786"
             ],
             [
              0.5555555555555556,
              "#d8576b"
             ],
             [
              0.6666666666666666,
              "#ed7953"
             ],
             [
              0.7777777777777778,
              "#fb9f3a"
             ],
             [
              0.8888888888888888,
              "#fdca26"
             ],
             [
              1,
              "#f0f921"
             ]
            ],
            "type": "heatmapgl"
           }
          ],
          "histogram": [
           {
            "marker": {
             "colorbar": {
              "outlinewidth": 0,
              "ticks": ""
             }
            },
            "type": "histogram"
           }
          ],
          "histogram2d": [
           {
            "colorbar": {
             "outlinewidth": 0,
             "ticks": ""
            },
            "colorscale": [
             [
              0,
              "#0d0887"
             ],
             [
              0.1111111111111111,
              "#46039f"
             ],
             [
              0.2222222222222222,
              "#7201a8"
             ],
             [
              0.3333333333333333,
              "#9c179e"
             ],
             [
              0.4444444444444444,
              "#bd3786"
             ],
             [
              0.5555555555555556,
              "#d8576b"
             ],
             [
              0.6666666666666666,
              "#ed7953"
             ],
             [
              0.7777777777777778,
              "#fb9f3a"
             ],
             [
              0.8888888888888888,
              "#fdca26"
             ],
             [
              1,
              "#f0f921"
             ]
            ],
            "type": "histogram2d"
           }
          ],
          "histogram2dcontour": [
           {
            "colorbar": {
             "outlinewidth": 0,
             "ticks": ""
            },
            "colorscale": [
             [
              0,
              "#0d0887"
             ],
             [
              0.1111111111111111,
              "#46039f"
             ],
             [
              0.2222222222222222,
              "#7201a8"
             ],
             [
              0.3333333333333333,
              "#9c179e"
             ],
             [
              0.4444444444444444,
              "#bd3786"
             ],
             [
              0.5555555555555556,
              "#d8576b"
             ],
             [
              0.6666666666666666,
              "#ed7953"
             ],
             [
              0.7777777777777778,
              "#fb9f3a"
             ],
             [
              0.8888888888888888,
              "#fdca26"
             ],
             [
              1,
              "#f0f921"
             ]
            ],
            "type": "histogram2dcontour"
           }
          ],
          "mesh3d": [
           {
            "colorbar": {
             "outlinewidth": 0,
             "ticks": ""
            },
            "type": "mesh3d"
           }
          ],
          "parcoords": [
           {
            "line": {
             "colorbar": {
              "outlinewidth": 0,
              "ticks": ""
             }
            },
            "type": "parcoords"
           }
          ],
          "pie": [
           {
            "automargin": true,
            "type": "pie"
           }
          ],
          "scatter": [
           {
            "marker": {
             "colorbar": {
              "outlinewidth": 0,
              "ticks": ""
             }
            },
            "type": "scatter"
           }
          ],
          "scatter3d": [
           {
            "line": {
             "colorbar": {
              "outlinewidth": 0,
              "ticks": ""
             }
            },
            "marker": {
             "colorbar": {
              "outlinewidth": 0,
              "ticks": ""
             }
            },
            "type": "scatter3d"
           }
          ],
          "scattercarpet": [
           {
            "marker": {
             "colorbar": {
              "outlinewidth": 0,
              "ticks": ""
             }
            },
            "type": "scattercarpet"
           }
          ],
          "scattergeo": [
           {
            "marker": {
             "colorbar": {
              "outlinewidth": 0,
              "ticks": ""
             }
            },
            "type": "scattergeo"
           }
          ],
          "scattergl": [
           {
            "marker": {
             "colorbar": {
              "outlinewidth": 0,
              "ticks": ""
             }
            },
            "type": "scattergl"
           }
          ],
          "scattermapbox": [
           {
            "marker": {
             "colorbar": {
              "outlinewidth": 0,
              "ticks": ""
             }
            },
            "type": "scattermapbox"
           }
          ],
          "scatterpolar": [
           {
            "marker": {
             "colorbar": {
              "outlinewidth": 0,
              "ticks": ""
             }
            },
            "type": "scatterpolar"
           }
          ],
          "scatterpolargl": [
           {
            "marker": {
             "colorbar": {
              "outlinewidth": 0,
              "ticks": ""
             }
            },
            "type": "scatterpolargl"
           }
          ],
          "scatterternary": [
           {
            "marker": {
             "colorbar": {
              "outlinewidth": 0,
              "ticks": ""
             }
            },
            "type": "scatterternary"
           }
          ],
          "surface": [
           {
            "colorbar": {
             "outlinewidth": 0,
             "ticks": ""
            },
            "colorscale": [
             [
              0,
              "#0d0887"
             ],
             [
              0.1111111111111111,
              "#46039f"
             ],
             [
              0.2222222222222222,
              "#7201a8"
             ],
             [
              0.3333333333333333,
              "#9c179e"
             ],
             [
              0.4444444444444444,
              "#bd3786"
             ],
             [
              0.5555555555555556,
              "#d8576b"
             ],
             [
              0.6666666666666666,
              "#ed7953"
             ],
             [
              0.7777777777777778,
              "#fb9f3a"
             ],
             [
              0.8888888888888888,
              "#fdca26"
             ],
             [
              1,
              "#f0f921"
             ]
            ],
            "type": "surface"
           }
          ],
          "table": [
           {
            "cells": {
             "fill": {
              "color": "#EBF0F8"
             },
             "line": {
              "color": "white"
             }
            },
            "header": {
             "fill": {
              "color": "#C8D4E3"
             },
             "line": {
              "color": "white"
             }
            },
            "type": "table"
           }
          ]
         },
         "layout": {
          "annotationdefaults": {
           "arrowcolor": "#2a3f5f",
           "arrowhead": 0,
           "arrowwidth": 1
          },
          "coloraxis": {
           "colorbar": {
            "outlinewidth": 0,
            "ticks": ""
           }
          },
          "colorscale": {
           "diverging": [
            [
             0,
             "#8e0152"
            ],
            [
             0.1,
             "#c51b7d"
            ],
            [
             0.2,
             "#de77ae"
            ],
            [
             0.3,
             "#f1b6da"
            ],
            [
             0.4,
             "#fde0ef"
            ],
            [
             0.5,
             "#f7f7f7"
            ],
            [
             0.6,
             "#e6f5d0"
            ],
            [
             0.7,
             "#b8e186"
            ],
            [
             0.8,
             "#7fbc41"
            ],
            [
             0.9,
             "#4d9221"
            ],
            [
             1,
             "#276419"
            ]
           ],
           "sequential": [
            [
             0,
             "#0d0887"
            ],
            [
             0.1111111111111111,
             "#46039f"
            ],
            [
             0.2222222222222222,
             "#7201a8"
            ],
            [
             0.3333333333333333,
             "#9c179e"
            ],
            [
             0.4444444444444444,
             "#bd3786"
            ],
            [
             0.5555555555555556,
             "#d8576b"
            ],
            [
             0.6666666666666666,
             "#ed7953"
            ],
            [
             0.7777777777777778,
             "#fb9f3a"
            ],
            [
             0.8888888888888888,
             "#fdca26"
            ],
            [
             1,
             "#f0f921"
            ]
           ],
           "sequentialminus": [
            [
             0,
             "#0d0887"
            ],
            [
             0.1111111111111111,
             "#46039f"
            ],
            [
             0.2222222222222222,
             "#7201a8"
            ],
            [
             0.3333333333333333,
             "#9c179e"
            ],
            [
             0.4444444444444444,
             "#bd3786"
            ],
            [
             0.5555555555555556,
             "#d8576b"
            ],
            [
             0.6666666666666666,
             "#ed7953"
            ],
            [
             0.7777777777777778,
             "#fb9f3a"
            ],
            [
             0.8888888888888888,
             "#fdca26"
            ],
            [
             1,
             "#f0f921"
            ]
           ]
          },
          "colorway": [
           "#636efa",
           "#EF553B",
           "#00cc96",
           "#ab63fa",
           "#FFA15A",
           "#19d3f3",
           "#FF6692",
           "#B6E880",
           "#FF97FF",
           "#FECB52"
          ],
          "font": {
           "color": "#2a3f5f"
          },
          "geo": {
           "bgcolor": "white",
           "lakecolor": "white",
           "landcolor": "#E5ECF6",
           "showlakes": true,
           "showland": true,
           "subunitcolor": "white"
          },
          "hoverlabel": {
           "align": "left"
          },
          "hovermode": "closest",
          "mapbox": {
           "style": "light"
          },
          "paper_bgcolor": "white",
          "plot_bgcolor": "#E5ECF6",
          "polar": {
           "angularaxis": {
            "gridcolor": "white",
            "linecolor": "white",
            "ticks": ""
           },
           "bgcolor": "#E5ECF6",
           "radialaxis": {
            "gridcolor": "white",
            "linecolor": "white",
            "ticks": ""
           }
          },
          "scene": {
           "xaxis": {
            "backgroundcolor": "#E5ECF6",
            "gridcolor": "white",
            "gridwidth": 2,
            "linecolor": "white",
            "showbackground": true,
            "ticks": "",
            "zerolinecolor": "white"
           },
           "yaxis": {
            "backgroundcolor": "#E5ECF6",
            "gridcolor": "white",
            "gridwidth": 2,
            "linecolor": "white",
            "showbackground": true,
            "ticks": "",
            "zerolinecolor": "white"
           },
           "zaxis": {
            "backgroundcolor": "#E5ECF6",
            "gridcolor": "white",
            "gridwidth": 2,
            "linecolor": "white",
            "showbackground": true,
            "ticks": "",
            "zerolinecolor": "white"
           }
          },
          "shapedefaults": {
           "line": {
            "color": "#2a3f5f"
           }
          },
          "ternary": {
           "aaxis": {
            "gridcolor": "white",
            "linecolor": "white",
            "ticks": ""
           },
           "baxis": {
            "gridcolor": "white",
            "linecolor": "white",
            "ticks": ""
           },
           "bgcolor": "#E5ECF6",
           "caxis": {
            "gridcolor": "white",
            "linecolor": "white",
            "ticks": ""
           }
          },
          "title": {
           "x": 0.05
          },
          "xaxis": {
           "automargin": true,
           "gridcolor": "white",
           "linecolor": "white",
           "ticks": "",
           "title": {
            "standoff": 15
           },
           "zerolinecolor": "white",
           "zerolinewidth": 2
          },
          "yaxis": {
           "automargin": true,
           "gridcolor": "white",
           "linecolor": "white",
           "ticks": "",
           "title": {
            "standoff": 15
           },
           "zerolinecolor": "white",
           "zerolinewidth": 2
          }
         }
        }
       }
      },
      "text/html": [
       "<div>\n",
       "        \n",
       "        \n",
       "            <div id=\"827bedff-b03b-4a57-9734-547baf2c1d2a\" class=\"plotly-graph-div\" style=\"height:525px; width:100%;\"></div>\n",
       "            <script type=\"text/javascript\">\n",
       "                require([\"plotly\"], function(Plotly) {\n",
       "                    window.PLOTLYENV=window.PLOTLYENV || {};\n",
       "                    \n",
       "                if (document.getElementById(\"827bedff-b03b-4a57-9734-547baf2c1d2a\")) {\n",
       "                    Plotly.newPlot(\n",
       "                        '827bedff-b03b-4a57-9734-547baf2c1d2a',\n",
       "                        [{\"lat\": [-1.3177546999999998, -1.3004062, -1.351453, -1.2950041, -1.3082842, -1.300921, -1.2813012, -1.2571472, -1.2665973999999998, -1.2950408000000002, -1.3025826, -1.257309, -1.279395, -1.2765736, -1.2527958000000001, -1.2551895, -1.2551895, -1.3002553999999997, -1.225322, -1.2156006000000001, -1.3291184, -1.2903421, -1.2584143, -1.2860183, -1.2558721000000002, -1.275442, -1.2571472, -1.3908673999999999, -1.304735, -1.2993231, -1.3302996, -1.2644742, -1.3396256000000002, -1.2705296999999998, -1.2574219, -1.3228003000000002, -1.2599563, -1.2867454, -1.2872899, -1.2898353999999999, -1.3023756000000002, -1.2574087999999999, -1.3244885, -1.3107918, -1.2627555, -1.2105983999999999, -1.3211235000000001, -1.2869041, -1.2969741000000001, -1.295908, -1.2859912, -1.28878, -1.2735999, -1.2508229, -1.2551895, -1.3339943, -1.279395, -1.3242351, -1.2608993, -1.2631940000000002, -1.2917868000000001, -1.3700383, -1.3067663, -1.3457877, -1.225322, -1.290894, -1.228911, -1.2600926000000001, -1.2551895, -1.2676026000000002, -1.2584143, -1.225322, -1.3167113000000001, -1.3004062, -1.2570328000000002, -1.2963097, -1.3331402, -1.3793096000000002, -1.2602337, -1.3198615, -1.2963097, -1.3160976999999998, -1.2655332000000001, -1.2729217, -1.225322, -1.3025826, -1.301796, -1.3533402, -1.3025826, -1.2551895, -1.2642903, -1.269534, -1.2551895, -1.2998903, -1.3832336, -1.3208162, -1.3323107, -1.2613768, -1.257028, -1.3073569], \"lon\": [36.8303703, 36.829741, 36.899315, 36.814358299999995, 36.843419399999995, 36.828195, 36.832396200000005, 36.795063299999995, 36.7921181, 36.809817200000005, 36.7670807, 36.806008399999996, 36.825364, 36.851364600000004, 36.8003131, 36.7822034, 36.7822034, 36.8256566, 36.80855, 36.8916865, 36.7892374, 36.7885282, 36.8048002, 36.8975338, 36.722296, 36.766020700000006, 36.795063299999995, 36.7674236, 36.784605400000004, 36.7753372, 36.8707935, 36.808345700000004, 36.8863135, 36.7987172, 36.7927073, 36.8306435, 36.799343900000004, 36.8259017, 36.820434000000006, 36.787270299999996, 36.7949276, 36.799712, 36.897791999999995, 36.761794, 36.792955299999996, 36.8109774, 36.7765164, 36.8240057, 36.7856612, 36.791433000000005, 36.8756811, 36.8168312, 36.8218131, 36.7895263, 36.7822034, 36.7263409, 36.825364, 36.8202498, 36.799246000000004, 36.797624, 36.7872675, 36.9190174, 36.8438792, 36.8811894, 36.80855, 36.822971, 36.881876, 36.8088685, 36.7822034, 36.810362899999994, 36.8048002, 36.80855, 36.8301563, 36.829741, 36.7869744, 36.7688221, 36.8925275, 36.931042100000006, 36.79905479999999, 36.7110323, 36.7688221, 36.913164200000004, 36.8094648, 36.762482899999995, 36.80855, 36.7670807, 36.8012024, 36.9078924, 36.7670807, 36.7822034, 36.80021370000001, 36.80697, 36.7822034, 36.8179213, 36.764737200000006, 36.8451209, 36.8692616, 36.801941799999994, 36.7810435, 36.82021629999999], \"marker\": {\"size\": 10}, \"mode\": \"markers+lines\", \"type\": \"scattermapbox\"}],\n",
       "                        {\"mapbox\": {\"center\": {\"lat\": -1.2839729, \"lon\": 36.8115146}, \"style\": \"stamen-terrain\", \"zoom\": 10}, \"margin\": {\"b\": 0, \"l\": 0, \"r\": 0, \"t\": 0}, \"template\": {\"data\": {\"bar\": [{\"error_x\": {\"color\": \"#2a3f5f\"}, \"error_y\": {\"color\": \"#2a3f5f\"}, \"marker\": {\"line\": {\"color\": \"#E5ECF6\", \"width\": 0.5}}, \"type\": \"bar\"}], \"barpolar\": [{\"marker\": {\"line\": {\"color\": \"#E5ECF6\", \"width\": 0.5}}, \"type\": \"barpolar\"}], \"carpet\": [{\"aaxis\": {\"endlinecolor\": \"#2a3f5f\", \"gridcolor\": \"white\", \"linecolor\": \"white\", \"minorgridcolor\": \"white\", \"startlinecolor\": \"#2a3f5f\"}, \"baxis\": {\"endlinecolor\": \"#2a3f5f\", \"gridcolor\": \"white\", \"linecolor\": \"white\", \"minorgridcolor\": \"white\", \"startlinecolor\": \"#2a3f5f\"}, \"type\": \"carpet\"}], \"choropleth\": [{\"colorbar\": {\"outlinewidth\": 0, \"ticks\": \"\"}, \"type\": \"choropleth\"}], \"contour\": [{\"colorbar\": {\"outlinewidth\": 0, \"ticks\": \"\"}, \"colorscale\": [[0.0, \"#0d0887\"], [0.1111111111111111, \"#46039f\"], [0.2222222222222222, \"#7201a8\"], [0.3333333333333333, \"#9c179e\"], [0.4444444444444444, \"#bd3786\"], [0.5555555555555556, \"#d8576b\"], [0.6666666666666666, \"#ed7953\"], [0.7777777777777778, \"#fb9f3a\"], [0.8888888888888888, \"#fdca26\"], [1.0, \"#f0f921\"]], \"type\": \"contour\"}], \"contourcarpet\": [{\"colorbar\": {\"outlinewidth\": 0, \"ticks\": \"\"}, \"type\": \"contourcarpet\"}], \"heatmap\": [{\"colorbar\": {\"outlinewidth\": 0, \"ticks\": \"\"}, \"colorscale\": [[0.0, \"#0d0887\"], [0.1111111111111111, \"#46039f\"], [0.2222222222222222, \"#7201a8\"], [0.3333333333333333, \"#9c179e\"], [0.4444444444444444, \"#bd3786\"], [0.5555555555555556, \"#d8576b\"], [0.6666666666666666, \"#ed7953\"], [0.7777777777777778, \"#fb9f3a\"], [0.8888888888888888, \"#fdca26\"], [1.0, \"#f0f921\"]], \"type\": \"heatmap\"}], \"heatmapgl\": [{\"colorbar\": {\"outlinewidth\": 0, \"ticks\": \"\"}, \"colorscale\": [[0.0, \"#0d0887\"], [0.1111111111111111, \"#46039f\"], [0.2222222222222222, \"#7201a8\"], [0.3333333333333333, \"#9c179e\"], [0.4444444444444444, \"#bd3786\"], [0.5555555555555556, \"#d8576b\"], [0.6666666666666666, \"#ed7953\"], [0.7777777777777778, \"#fb9f3a\"], [0.8888888888888888, \"#fdca26\"], [1.0, \"#f0f921\"]], \"type\": \"heatmapgl\"}], \"histogram\": [{\"marker\": {\"colorbar\": {\"outlinewidth\": 0, \"ticks\": \"\"}}, \"type\": \"histogram\"}], \"histogram2d\": [{\"colorbar\": {\"outlinewidth\": 0, \"ticks\": \"\"}, \"colorscale\": [[0.0, \"#0d0887\"], [0.1111111111111111, \"#46039f\"], [0.2222222222222222, \"#7201a8\"], [0.3333333333333333, \"#9c179e\"], [0.4444444444444444, \"#bd3786\"], [0.5555555555555556, \"#d8576b\"], [0.6666666666666666, \"#ed7953\"], [0.7777777777777778, \"#fb9f3a\"], [0.8888888888888888, \"#fdca26\"], [1.0, \"#f0f921\"]], \"type\": \"histogram2d\"}], \"histogram2dcontour\": [{\"colorbar\": {\"outlinewidth\": 0, \"ticks\": \"\"}, \"colorscale\": [[0.0, \"#0d0887\"], [0.1111111111111111, \"#46039f\"], [0.2222222222222222, \"#7201a8\"], [0.3333333333333333, \"#9c179e\"], [0.4444444444444444, \"#bd3786\"], [0.5555555555555556, \"#d8576b\"], [0.6666666666666666, \"#ed7953\"], [0.7777777777777778, \"#fb9f3a\"], [0.8888888888888888, \"#fdca26\"], [1.0, \"#f0f921\"]], \"type\": \"histogram2dcontour\"}], \"mesh3d\": [{\"colorbar\": {\"outlinewidth\": 0, \"ticks\": \"\"}, \"type\": \"mesh3d\"}], \"parcoords\": [{\"line\": {\"colorbar\": {\"outlinewidth\": 0, \"ticks\": \"\"}}, \"type\": \"parcoords\"}], \"pie\": [{\"automargin\": true, \"type\": \"pie\"}], \"scatter\": [{\"marker\": {\"colorbar\": {\"outlinewidth\": 0, \"ticks\": \"\"}}, \"type\": \"scatter\"}], \"scatter3d\": [{\"line\": {\"colorbar\": {\"outlinewidth\": 0, \"ticks\": \"\"}}, \"marker\": {\"colorbar\": {\"outlinewidth\": 0, \"ticks\": \"\"}}, \"type\": \"scatter3d\"}], \"scattercarpet\": [{\"marker\": {\"colorbar\": {\"outlinewidth\": 0, \"ticks\": \"\"}}, \"type\": \"scattercarpet\"}], \"scattergeo\": [{\"marker\": {\"colorbar\": {\"outlinewidth\": 0, \"ticks\": \"\"}}, \"type\": \"scattergeo\"}], \"scattergl\": [{\"marker\": {\"colorbar\": {\"outlinewidth\": 0, \"ticks\": \"\"}}, \"type\": \"scattergl\"}], \"scattermapbox\": [{\"marker\": {\"colorbar\": {\"outlinewidth\": 0, \"ticks\": \"\"}}, \"type\": \"scattermapbox\"}], \"scatterpolar\": [{\"marker\": {\"colorbar\": {\"outlinewidth\": 0, \"ticks\": \"\"}}, \"type\": \"scatterpolar\"}], \"scatterpolargl\": [{\"marker\": {\"colorbar\": {\"outlinewidth\": 0, \"ticks\": \"\"}}, \"type\": \"scatterpolargl\"}], \"scatterternary\": [{\"marker\": {\"colorbar\": {\"outlinewidth\": 0, \"ticks\": \"\"}}, \"type\": \"scatterternary\"}], \"surface\": [{\"colorbar\": {\"outlinewidth\": 0, \"ticks\": \"\"}, \"colorscale\": [[0.0, \"#0d0887\"], [0.1111111111111111, \"#46039f\"], [0.2222222222222222, \"#7201a8\"], [0.3333333333333333, \"#9c179e\"], [0.4444444444444444, \"#bd3786\"], [0.5555555555555556, \"#d8576b\"], [0.6666666666666666, \"#ed7953\"], [0.7777777777777778, \"#fb9f3a\"], [0.8888888888888888, \"#fdca26\"], [1.0, \"#f0f921\"]], \"type\": \"surface\"}], \"table\": [{\"cells\": {\"fill\": {\"color\": \"#EBF0F8\"}, \"line\": {\"color\": \"white\"}}, \"header\": {\"fill\": {\"color\": \"#C8D4E3\"}, \"line\": {\"color\": \"white\"}}, \"type\": \"table\"}]}, \"layout\": {\"annotationdefaults\": {\"arrowcolor\": \"#2a3f5f\", \"arrowhead\": 0, \"arrowwidth\": 1}, \"coloraxis\": {\"colorbar\": {\"outlinewidth\": 0, \"ticks\": \"\"}}, \"colorscale\": {\"diverging\": [[0, \"#8e0152\"], [0.1, \"#c51b7d\"], [0.2, \"#de77ae\"], [0.3, \"#f1b6da\"], [0.4, \"#fde0ef\"], [0.5, \"#f7f7f7\"], [0.6, \"#e6f5d0\"], [0.7, \"#b8e186\"], [0.8, \"#7fbc41\"], [0.9, \"#4d9221\"], [1, \"#276419\"]], \"sequential\": [[0.0, \"#0d0887\"], [0.1111111111111111, \"#46039f\"], [0.2222222222222222, \"#7201a8\"], [0.3333333333333333, \"#9c179e\"], [0.4444444444444444, \"#bd3786\"], [0.5555555555555556, \"#d8576b\"], [0.6666666666666666, \"#ed7953\"], [0.7777777777777778, \"#fb9f3a\"], [0.8888888888888888, \"#fdca26\"], [1.0, \"#f0f921\"]], \"sequentialminus\": [[0.0, \"#0d0887\"], [0.1111111111111111, \"#46039f\"], [0.2222222222222222, \"#7201a8\"], [0.3333333333333333, \"#9c179e\"], [0.4444444444444444, \"#bd3786\"], [0.5555555555555556, \"#d8576b\"], [0.6666666666666666, \"#ed7953\"], [0.7777777777777778, \"#fb9f3a\"], [0.8888888888888888, \"#fdca26\"], [1.0, \"#f0f921\"]]}, \"colorway\": [\"#636efa\", \"#EF553B\", \"#00cc96\", \"#ab63fa\", \"#FFA15A\", \"#19d3f3\", \"#FF6692\", \"#B6E880\", \"#FF97FF\", \"#FECB52\"], \"font\": {\"color\": \"#2a3f5f\"}, \"geo\": {\"bgcolor\": \"white\", \"lakecolor\": \"white\", \"landcolor\": \"#E5ECF6\", \"showlakes\": true, \"showland\": true, \"subunitcolor\": \"white\"}, \"hoverlabel\": {\"align\": \"left\"}, \"hovermode\": \"closest\", \"mapbox\": {\"style\": \"light\"}, \"paper_bgcolor\": \"white\", \"plot_bgcolor\": \"#E5ECF6\", \"polar\": {\"angularaxis\": {\"gridcolor\": \"white\", \"linecolor\": \"white\", \"ticks\": \"\"}, \"bgcolor\": \"#E5ECF6\", \"radialaxis\": {\"gridcolor\": \"white\", \"linecolor\": \"white\", \"ticks\": \"\"}}, \"scene\": {\"xaxis\": {\"backgroundcolor\": \"#E5ECF6\", \"gridcolor\": \"white\", \"gridwidth\": 2, \"linecolor\": \"white\", \"showbackground\": true, \"ticks\": \"\", \"zerolinecolor\": \"white\"}, \"yaxis\": {\"backgroundcolor\": \"#E5ECF6\", \"gridcolor\": \"white\", \"gridwidth\": 2, \"linecolor\": \"white\", \"showbackground\": true, \"ticks\": \"\", \"zerolinecolor\": \"white\"}, \"zaxis\": {\"backgroundcolor\": \"#E5ECF6\", \"gridcolor\": \"white\", \"gridwidth\": 2, \"linecolor\": \"white\", \"showbackground\": true, \"ticks\": \"\", \"zerolinecolor\": \"white\"}}, \"shapedefaults\": {\"line\": {\"color\": \"#2a3f5f\"}}, \"ternary\": {\"aaxis\": {\"gridcolor\": \"white\", \"linecolor\": \"white\", \"ticks\": \"\"}, \"baxis\": {\"gridcolor\": \"white\", \"linecolor\": \"white\", \"ticks\": \"\"}, \"bgcolor\": \"#E5ECF6\", \"caxis\": {\"gridcolor\": \"white\", \"linecolor\": \"white\", \"ticks\": \"\"}}, \"title\": {\"x\": 0.05}, \"xaxis\": {\"automargin\": true, \"gridcolor\": \"white\", \"linecolor\": \"white\", \"ticks\": \"\", \"title\": {\"standoff\": 15}, \"zerolinecolor\": \"white\", \"zerolinewidth\": 2}, \"yaxis\": {\"automargin\": true, \"gridcolor\": \"white\", \"linecolor\": \"white\", \"ticks\": \"\", \"title\": {\"standoff\": 15}, \"zerolinecolor\": \"white\", \"zerolinewidth\": 2}}}},\n",
       "                        {\"responsive\": true}\n",
       "                    ).then(function(){\n",
       "                            \n",
       "var gd = document.getElementById('827bedff-b03b-4a57-9734-547baf2c1d2a');\n",
       "var x = new MutationObserver(function (mutations, observer) {{\n",
       "        var display = window.getComputedStyle(gd).display;\n",
       "        if (!display || display === 'none') {{\n",
       "            console.log([gd, 'removed!']);\n",
       "            Plotly.purge(gd);\n",
       "            observer.disconnect();\n",
       "        }}\n",
       "}});\n",
       "\n",
       "// Listen for the removal of the full notebook cells\n",
       "var notebookContainer = gd.closest('#notebook-container');\n",
       "if (notebookContainer) {{\n",
       "    x.observe(notebookContainer, {childList: true});\n",
       "}}\n",
       "\n",
       "// Listen for the clearing of the current output cell\n",
       "var outputEl = gd.closest('.output');\n",
       "if (outputEl) {{\n",
       "    x.observe(outputEl, {childList: true});\n",
       "}}\n",
       "\n",
       "                        })\n",
       "                };\n",
       "                });\n",
       "            </script>\n",
       "        </div>"
      ]
     },
     "metadata": {},
     "output_type": "display_data"
    }
   ],
   "source": [
    "import plotly.graph_objects as go\n",
    "\n",
    "\n",
    "mapping = train_df.head(50) # Creating a dataframe without so many columns to avoid map clutter\n",
    "pickup_lat = [i for i in mapping['Pickup Lat'].values]\n",
    "pickup_long = [i for i in mapping['Pickup Long'].values]\n",
    "des_lat = [i for i in mapping['Destination Lat'].values]\n",
    "des_long = [i for i in mapping['Destination Long'].values]\n",
    "\n",
    "\n",
    "latt = [None]*(len(pickup_lat)+len(des_lat))\n",
    "latt[::2] = pickup_lat\n",
    "latt[1::2] = des_lat\n",
    "\n",
    "long = [None]*(len(pickup_long)+len(des_long))\n",
    "long[::2] = pickup_long\n",
    "long[1::2] = des_long\n",
    "\n",
    "\n",
    "fig = go.Figure(go.Scattermapbox(\n",
    "    mode = \"markers+lines\",\n",
    "    lon = long,\n",
    "    lat = latt,\n",
    "    marker = {'size': 10}))\n",
    "\n",
    "\n",
    "fig.update_layout(\n",
    "    margin ={'l':0,'t':0,'b':0,'r':0},\n",
    "    mapbox = {\n",
    "        'center': {'lon': 36.8115146, 'lat': -1.2839729},\n",
    "        'style': \"stamen-terrain\",\n",
    "        'center': {'lon': 36.8115146, 'lat': -1.2839729},\n",
    "        'zoom': 10})\n",
    "\n",
    "fig.show()"
   ]
  },
  {
   "cell_type": "code",
   "execution_count": 282,
   "metadata": {},
   "outputs": [
    {
     "data": {
      "application/vnd.plotly.v1+json": {
       "config": {
        "plotlyServerURL": "https://plot.ly"
       },
       "data": [
        {
         "lat": [
          -1.2839
         ],
         "lon": [
          36.8302
         ],
         "marker": {
          "color": [
           "red"
          ],
          "size": 20
         },
         "mode": "markers",
         "type": "scattermapbox"
        }
       ],
       "layout": {
        "mapbox": {
         "center": {
          "lat": -1.2839729,
          "lon": 36.8115146
         },
         "layers": [
          {
           "below": "traces",
           "color": "royalblue",
           "source": {
            "features": [
             {
              "geometry": {
               "coordinates": [
                [
                 [
                  [
                   -1.3004062,
                   36.829741
                  ],
                  [
                   36.829741,
                   -1.2950041
                  ],
                  [
                   -1.2950041,
                   36.814358299999995
                  ],
                  [
                   36.814358299999995,
                   -1.300921
                  ],
                  [
                   -1.300921,
                   36.828195
                  ],
                  [
                   36.828195,
                   -1.2571472
                  ],
                  [
                   -1.2571472,
                   36.795063299999995
                  ],
                  [
                   36.795063299999995,
                   -1.2950408000000002
                  ],
                  [
                   -1.2950408000000002,
                   36.809817200000005
                  ],
                  [
                   36.809817200000005,
                   -1.257309
                  ],
                  [
                   -1.257309,
                   36.806008399999996
                  ],
                  [
                   36.806008399999996,
                   -1.2765736
                  ],
                  [
                   -1.2765736,
                   36.851364600000004
                  ],
                  [
                   36.851364600000004,
                   -1.2551895
                  ],
                  [
                   -1.2551895,
                   36.7822034
                  ],
                  [
                   36.7822034,
                   -1.3002553999999997
                  ],
                  [
                   -1.3002553999999997,
                   36.8256566
                  ],
                  [
                   36.8256566,
                   -1.2156006000000001
                  ],
                  [
                   -1.2156006000000001,
                   36.8916865
                  ],
                  [
                   36.8916865,
                   -1.2903421
                  ],
                  [
                   -1.2903421,
                   36.7885282
                  ],
                  [
                   36.7885282,
                   -1.2860183
                  ],
                  [
                   -1.2860183,
                   36.8975338
                  ],
                  [
                   36.8975338,
                   -1.275442
                  ],
                  [
                   -1.275442,
                   36.766020700000006
                  ],
                  [
                   36.766020700000006,
                   -1.3908673999999999
                  ],
                  [
                   -1.3908673999999999,
                   36.7674236
                  ],
                  [
                   36.7674236,
                   -1.2993231
                  ],
                  [
                   -1.2993231,
                   36.7753372
                  ],
                  [
                   36.7753372,
                   -1.2644742
                  ],
                  [
                   -1.2644742,
                   36.808345700000004
                  ],
                  [
                   36.808345700000004,
                   -1.2705296999999998
                  ],
                  [
                   -1.2705296999999998,
                   36.7987172
                  ],
                  [
                   36.7987172,
                   -1.3228003000000002
                  ],
                  [
                   -1.3228003000000002,
                   36.8306435
                  ],
                  [
                   36.8306435,
                   -1.2867454
                  ],
                  [
                   -1.2867454,
                   36.8259017
                  ],
                  [
                   36.8259017,
                   -1.2898353999999999
                  ],
                  [
                   -1.2898353999999999,
                   36.787270299999996
                  ],
                  [
                   36.787270299999996,
                   -1.2574087999999999
                  ],
                  [
                   -1.2574087999999999,
                   36.799712
                  ],
                  [
                   36.799712,
                   -1.3107918
                  ],
                  [
                   -1.3107918,
                   36.761794
                  ],
                  [
                   36.761794,
                   -1.2105983999999999
                  ],
                  [
                   -1.2105983999999999,
                   36.8109774
                  ],
                  [
                   36.8109774,
                   -1.2869041
                  ],
                  [
                   -1.2869041,
                   36.8240057
                  ],
                  [
                   36.8240057,
                   -1.295908
                  ],
                  [
                   -1.295908,
                   36.791433000000005
                  ],
                  [
                   36.791433000000005,
                   -1.28878
                  ],
                  [
                   -1.28878,
                   36.8168312
                  ],
                  [
                   36.8168312,
                   -1.2508229
                  ],
                  [
                   -1.2508229,
                   36.7895263
                  ],
                  [
                   36.7895263,
                   -1.3339943
                  ],
                  [
                   -1.3339943,
                   36.7263409
                  ],
                  [
                   36.7263409,
                   -1.3242351
                  ],
                  [
                   -1.3242351,
                   36.8202498
                  ],
                  [
                   36.8202498,
                   -1.2631940000000002
                  ],
                  [
                   -1.2631940000000002,
                   36.797624
                  ],
                  [
                   36.797624,
                   -1.3700383
                  ],
                  [
                   -1.3700383,
                   36.9190174
                  ],
                  [
                   36.9190174,
                   -1.3457877
                  ],
                  [
                   -1.3457877,
                   36.8811894
                  ],
                  [
                   36.8811894,
                   -1.290894
                  ],
                  [
                   -1.290894,
                   36.822971
                  ],
                  [
                   36.822971,
                   -1.2600926000000001
                  ],
                  [
                   -1.2600926000000001,
                   36.8088685
                  ],
                  [
                   36.8088685,
                   -1.2676026000000002
                  ],
                  [
                   -1.2676026000000002,
                   36.810362899999994
                  ],
                  [
                   36.810362899999994,
                   -1.225322
                  ],
                  [
                   -1.225322,
                   36.80855
                  ],
                  [
                   36.80855,
                   -1.3004062
                  ],
                  [
                   -1.3004062,
                   36.829741
                  ],
                  [
                   36.829741,
                   -1.2950041
                  ],
                  [
                   -1.2963097,
                   36.7688221
                  ],
                  [
                   36.7688221,
                   -1.3793096000000002
                  ],
                  [
                   -1.3793096000000002,
                   36.931042100000006
                  ],
                  [
                   36.931042100000006,
                   -1.3198615
                  ],
                  [
                   -1.3198615,
                   36.7110323
                  ],
                  [
                   36.7110323,
                   -1.3160976999999998
                  ],
                  [
                   -1.3160976999999998,
                   36.913164200000004
                  ],
                  [
                   36.913164200000004,
                   -1.2729217
                  ],
                  [
                   -1.2729217,
                   36.762482899999995
                  ],
                  [
                   36.762482899999995,
                   -1.3025826
                  ],
                  [
                   -1.3025826,
                   36.7670807
                  ],
                  [
                   36.7670807,
                   -1.3533402
                  ],
                  [
                   -1.3533402,
                   36.9078924
                  ],
                  [
                   36.9078924,
                   -1.2551895
                  ],
                  [
                   -1.2551895,
                   36.7822034
                  ],
                  [
                   36.7822034,
                   -1.3002553999999997
                  ],
                  [
                   -1.269534,
                   36.80697
                  ],
                  [
                   36.80697,
                   -1.2998903
                  ],
                  [
                   -1.2998903,
                   36.8179213
                  ],
                  [
                   36.8179213,
                   -1.3208162
                  ],
                  [
                   -1.3208162,
                   36.8451209
                  ],
                  [
                   36.8451209,
                   -1.2613768
                  ],
                  [
                   -1.2613768,
                   36.801941799999994
                  ],
                  [
                   36.801941799999994,
                   -1.3073569
                  ],
                  [
                   -1.3073569,
                   36.82021629999999
                  ]
                 ]
                ]
               ],
               "type": "MultiPolygon"
              },
              "type": "Feature"
             }
            ],
            "type": "FeatureCollection"
           },
           "type": "circle"
          }
         ],
         "style": "stamen-terrain",
         "zoom": 12
        },
        "margin": {
         "b": 0,
         "l": 0,
         "r": 0,
         "t": 0
        },
        "template": {
         "data": {
          "bar": [
           {
            "error_x": {
             "color": "#2a3f5f"
            },
            "error_y": {
             "color": "#2a3f5f"
            },
            "marker": {
             "line": {
              "color": "#E5ECF6",
              "width": 0.5
             }
            },
            "type": "bar"
           }
          ],
          "barpolar": [
           {
            "marker": {
             "line": {
              "color": "#E5ECF6",
              "width": 0.5
             }
            },
            "type": "barpolar"
           }
          ],
          "carpet": [
           {
            "aaxis": {
             "endlinecolor": "#2a3f5f",
             "gridcolor": "white",
             "linecolor": "white",
             "minorgridcolor": "white",
             "startlinecolor": "#2a3f5f"
            },
            "baxis": {
             "endlinecolor": "#2a3f5f",
             "gridcolor": "white",
             "linecolor": "white",
             "minorgridcolor": "white",
             "startlinecolor": "#2a3f5f"
            },
            "type": "carpet"
           }
          ],
          "choropleth": [
           {
            "colorbar": {
             "outlinewidth": 0,
             "ticks": ""
            },
            "type": "choropleth"
           }
          ],
          "contour": [
           {
            "colorbar": {
             "outlinewidth": 0,
             "ticks": ""
            },
            "colorscale": [
             [
              0,
              "#0d0887"
             ],
             [
              0.1111111111111111,
              "#46039f"
             ],
             [
              0.2222222222222222,
              "#7201a8"
             ],
             [
              0.3333333333333333,
              "#9c179e"
             ],
             [
              0.4444444444444444,
              "#bd3786"
             ],
             [
              0.5555555555555556,
              "#d8576b"
             ],
             [
              0.6666666666666666,
              "#ed7953"
             ],
             [
              0.7777777777777778,
              "#fb9f3a"
             ],
             [
              0.8888888888888888,
              "#fdca26"
             ],
             [
              1,
              "#f0f921"
             ]
            ],
            "type": "contour"
           }
          ],
          "contourcarpet": [
           {
            "colorbar": {
             "outlinewidth": 0,
             "ticks": ""
            },
            "type": "contourcarpet"
           }
          ],
          "heatmap": [
           {
            "colorbar": {
             "outlinewidth": 0,
             "ticks": ""
            },
            "colorscale": [
             [
              0,
              "#0d0887"
             ],
             [
              0.1111111111111111,
              "#46039f"
             ],
             [
              0.2222222222222222,
              "#7201a8"
             ],
             [
              0.3333333333333333,
              "#9c179e"
             ],
             [
              0.4444444444444444,
              "#bd3786"
             ],
             [
              0.5555555555555556,
              "#d8576b"
             ],
             [
              0.6666666666666666,
              "#ed7953"
             ],
             [
              0.7777777777777778,
              "#fb9f3a"
             ],
             [
              0.8888888888888888,
              "#fdca26"
             ],
             [
              1,
              "#f0f921"
             ]
            ],
            "type": "heatmap"
           }
          ],
          "heatmapgl": [
           {
            "colorbar": {
             "outlinewidth": 0,
             "ticks": ""
            },
            "colorscale": [
             [
              0,
              "#0d0887"
             ],
             [
              0.1111111111111111,
              "#46039f"
             ],
             [
              0.2222222222222222,
              "#7201a8"
             ],
             [
              0.3333333333333333,
              "#9c179e"
             ],
             [
              0.4444444444444444,
              "#bd3786"
             ],
             [
              0.5555555555555556,
              "#d8576b"
             ],
             [
              0.6666666666666666,
              "#ed7953"
             ],
             [
              0.7777777777777778,
              "#fb9f3a"
             ],
             [
              0.8888888888888888,
              "#fdca26"
             ],
             [
              1,
              "#f0f921"
             ]
            ],
            "type": "heatmapgl"
           }
          ],
          "histogram": [
           {
            "marker": {
             "colorbar": {
              "outlinewidth": 0,
              "ticks": ""
             }
            },
            "type": "histogram"
           }
          ],
          "histogram2d": [
           {
            "colorbar": {
             "outlinewidth": 0,
             "ticks": ""
            },
            "colorscale": [
             [
              0,
              "#0d0887"
             ],
             [
              0.1111111111111111,
              "#46039f"
             ],
             [
              0.2222222222222222,
              "#7201a8"
             ],
             [
              0.3333333333333333,
              "#9c179e"
             ],
             [
              0.4444444444444444,
              "#bd3786"
             ],
             [
              0.5555555555555556,
              "#d8576b"
             ],
             [
              0.6666666666666666,
              "#ed7953"
             ],
             [
              0.7777777777777778,
              "#fb9f3a"
             ],
             [
              0.8888888888888888,
              "#fdca26"
             ],
             [
              1,
              "#f0f921"
             ]
            ],
            "type": "histogram2d"
           }
          ],
          "histogram2dcontour": [
           {
            "colorbar": {
             "outlinewidth": 0,
             "ticks": ""
            },
            "colorscale": [
             [
              0,
              "#0d0887"
             ],
             [
              0.1111111111111111,
              "#46039f"
             ],
             [
              0.2222222222222222,
              "#7201a8"
             ],
             [
              0.3333333333333333,
              "#9c179e"
             ],
             [
              0.4444444444444444,
              "#bd3786"
             ],
             [
              0.5555555555555556,
              "#d8576b"
             ],
             [
              0.6666666666666666,
              "#ed7953"
             ],
             [
              0.7777777777777778,
              "#fb9f3a"
             ],
             [
              0.8888888888888888,
              "#fdca26"
             ],
             [
              1,
              "#f0f921"
             ]
            ],
            "type": "histogram2dcontour"
           }
          ],
          "mesh3d": [
           {
            "colorbar": {
             "outlinewidth": 0,
             "ticks": ""
            },
            "type": "mesh3d"
           }
          ],
          "parcoords": [
           {
            "line": {
             "colorbar": {
              "outlinewidth": 0,
              "ticks": ""
             }
            },
            "type": "parcoords"
           }
          ],
          "pie": [
           {
            "automargin": true,
            "type": "pie"
           }
          ],
          "scatter": [
           {
            "marker": {
             "colorbar": {
              "outlinewidth": 0,
              "ticks": ""
             }
            },
            "type": "scatter"
           }
          ],
          "scatter3d": [
           {
            "line": {
             "colorbar": {
              "outlinewidth": 0,
              "ticks": ""
             }
            },
            "marker": {
             "colorbar": {
              "outlinewidth": 0,
              "ticks": ""
             }
            },
            "type": "scatter3d"
           }
          ],
          "scattercarpet": [
           {
            "marker": {
             "colorbar": {
              "outlinewidth": 0,
              "ticks": ""
             }
            },
            "type": "scattercarpet"
           }
          ],
          "scattergeo": [
           {
            "marker": {
             "colorbar": {
              "outlinewidth": 0,
              "ticks": ""
             }
            },
            "type": "scattergeo"
           }
          ],
          "scattergl": [
           {
            "marker": {
             "colorbar": {
              "outlinewidth": 0,
              "ticks": ""
             }
            },
            "type": "scattergl"
           }
          ],
          "scattermapbox": [
           {
            "marker": {
             "colorbar": {
              "outlinewidth": 0,
              "ticks": ""
             }
            },
            "type": "scattermapbox"
           }
          ],
          "scatterpolar": [
           {
            "marker": {
             "colorbar": {
              "outlinewidth": 0,
              "ticks": ""
             }
            },
            "type": "scatterpolar"
           }
          ],
          "scatterpolargl": [
           {
            "marker": {
             "colorbar": {
              "outlinewidth": 0,
              "ticks": ""
             }
            },
            "type": "scatterpolargl"
           }
          ],
          "scatterternary": [
           {
            "marker": {
             "colorbar": {
              "outlinewidth": 0,
              "ticks": ""
             }
            },
            "type": "scatterternary"
           }
          ],
          "surface": [
           {
            "colorbar": {
             "outlinewidth": 0,
             "ticks": ""
            },
            "colorscale": [
             [
              0,
              "#0d0887"
             ],
             [
              0.1111111111111111,
              "#46039f"
             ],
             [
              0.2222222222222222,
              "#7201a8"
             ],
             [
              0.3333333333333333,
              "#9c179e"
             ],
             [
              0.4444444444444444,
              "#bd3786"
             ],
             [
              0.5555555555555556,
              "#d8576b"
             ],
             [
              0.6666666666666666,
              "#ed7953"
             ],
             [
              0.7777777777777778,
              "#fb9f3a"
             ],
             [
              0.8888888888888888,
              "#fdca26"
             ],
             [
              1,
              "#f0f921"
             ]
            ],
            "type": "surface"
           }
          ],
          "table": [
           {
            "cells": {
             "fill": {
              "color": "#EBF0F8"
             },
             "line": {
              "color": "white"
             }
            },
            "header": {
             "fill": {
              "color": "#C8D4E3"
             },
             "line": {
              "color": "white"
             }
            },
            "type": "table"
           }
          ]
         },
         "layout": {
          "annotationdefaults": {
           "arrowcolor": "#2a3f5f",
           "arrowhead": 0,
           "arrowwidth": 1
          },
          "coloraxis": {
           "colorbar": {
            "outlinewidth": 0,
            "ticks": ""
           }
          },
          "colorscale": {
           "diverging": [
            [
             0,
             "#8e0152"
            ],
            [
             0.1,
             "#c51b7d"
            ],
            [
             0.2,
             "#de77ae"
            ],
            [
             0.3,
             "#f1b6da"
            ],
            [
             0.4,
             "#fde0ef"
            ],
            [
             0.5,
             "#f7f7f7"
            ],
            [
             0.6,
             "#e6f5d0"
            ],
            [
             0.7,
             "#b8e186"
            ],
            [
             0.8,
             "#7fbc41"
            ],
            [
             0.9,
             "#4d9221"
            ],
            [
             1,
             "#276419"
            ]
           ],
           "sequential": [
            [
             0,
             "#0d0887"
            ],
            [
             0.1111111111111111,
             "#46039f"
            ],
            [
             0.2222222222222222,
             "#7201a8"
            ],
            [
             0.3333333333333333,
             "#9c179e"
            ],
            [
             0.4444444444444444,
             "#bd3786"
            ],
            [
             0.5555555555555556,
             "#d8576b"
            ],
            [
             0.6666666666666666,
             "#ed7953"
            ],
            [
             0.7777777777777778,
             "#fb9f3a"
            ],
            [
             0.8888888888888888,
             "#fdca26"
            ],
            [
             1,
             "#f0f921"
            ]
           ],
           "sequentialminus": [
            [
             0,
             "#0d0887"
            ],
            [
             0.1111111111111111,
             "#46039f"
            ],
            [
             0.2222222222222222,
             "#7201a8"
            ],
            [
             0.3333333333333333,
             "#9c179e"
            ],
            [
             0.4444444444444444,
             "#bd3786"
            ],
            [
             0.5555555555555556,
             "#d8576b"
            ],
            [
             0.6666666666666666,
             "#ed7953"
            ],
            [
             0.7777777777777778,
             "#fb9f3a"
            ],
            [
             0.8888888888888888,
             "#fdca26"
            ],
            [
             1,
             "#f0f921"
            ]
           ]
          },
          "colorway": [
           "#636efa",
           "#EF553B",
           "#00cc96",
           "#ab63fa",
           "#FFA15A",
           "#19d3f3",
           "#FF6692",
           "#B6E880",
           "#FF97FF",
           "#FECB52"
          ],
          "font": {
           "color": "#2a3f5f"
          },
          "geo": {
           "bgcolor": "white",
           "lakecolor": "white",
           "landcolor": "#E5ECF6",
           "showlakes": true,
           "showland": true,
           "subunitcolor": "white"
          },
          "hoverlabel": {
           "align": "left"
          },
          "hovermode": "closest",
          "mapbox": {
           "style": "light"
          },
          "paper_bgcolor": "white",
          "plot_bgcolor": "#E5ECF6",
          "polar": {
           "angularaxis": {
            "gridcolor": "white",
            "linecolor": "white",
            "ticks": ""
           },
           "bgcolor": "#E5ECF6",
           "radialaxis": {
            "gridcolor": "white",
            "linecolor": "white",
            "ticks": ""
           }
          },
          "scene": {
           "xaxis": {
            "backgroundcolor": "#E5ECF6",
            "gridcolor": "white",
            "gridwidth": 2,
            "linecolor": "white",
            "showbackground": true,
            "ticks": "",
            "zerolinecolor": "white"
           },
           "yaxis": {
            "backgroundcolor": "#E5ECF6",
            "gridcolor": "white",
            "gridwidth": 2,
            "linecolor": "white",
            "showbackground": true,
            "ticks": "",
            "zerolinecolor": "white"
           },
           "zaxis": {
            "backgroundcolor": "#E5ECF6",
            "gridcolor": "white",
            "gridwidth": 2,
            "linecolor": "white",
            "showbackground": true,
            "ticks": "",
            "zerolinecolor": "white"
           }
          },
          "shapedefaults": {
           "line": {
            "color": "#2a3f5f"
           }
          },
          "ternary": {
           "aaxis": {
            "gridcolor": "white",
            "linecolor": "white",
            "ticks": ""
           },
           "baxis": {
            "gridcolor": "white",
            "linecolor": "white",
            "ticks": ""
           },
           "bgcolor": "#E5ECF6",
           "caxis": {
            "gridcolor": "white",
            "linecolor": "white",
            "ticks": ""
           }
          },
          "title": {
           "x": 0.05
          },
          "xaxis": {
           "automargin": true,
           "gridcolor": "white",
           "linecolor": "white",
           "ticks": "",
           "title": {
            "standoff": 15
           },
           "zerolinecolor": "white",
           "zerolinewidth": 2
          },
          "yaxis": {
           "automargin": true,
           "gridcolor": "white",
           "linecolor": "white",
           "ticks": "",
           "title": {
            "standoff": 15
           },
           "zerolinecolor": "white",
           "zerolinewidth": 2
          }
         }
        }
       }
      },
      "text/html": [
       "<div>\n",
       "        \n",
       "        \n",
       "            <div id=\"ba27aa49-887c-46ca-b4bb-8d95b31931c8\" class=\"plotly-graph-div\" style=\"height:525px; width:100%;\"></div>\n",
       "            <script type=\"text/javascript\">\n",
       "                require([\"plotly\"], function(Plotly) {\n",
       "                    window.PLOTLYENV=window.PLOTLYENV || {};\n",
       "                    \n",
       "                if (document.getElementById(\"ba27aa49-887c-46ca-b4bb-8d95b31931c8\")) {\n",
       "                    Plotly.newPlot(\n",
       "                        'ba27aa49-887c-46ca-b4bb-8d95b31931c8',\n",
       "                        [{\"lat\": [-1.2839], \"lon\": [36.8302], \"marker\": {\"color\": [\"red\"], \"size\": 20}, \"mode\": \"markers\", \"type\": \"scattermapbox\"}],\n",
       "                        {\"mapbox\": {\"center\": {\"lat\": -1.2839729, \"lon\": 36.8115146}, \"layers\": [{\"below\": \"traces\", \"color\": \"royalblue\", \"source\": {\"features\": [{\"geometry\": {\"coordinates\": [[[[-1.3004062, 36.829741], [36.829741, -1.2950041], [-1.2950041, 36.814358299999995], [36.814358299999995, -1.300921], [-1.300921, 36.828195], [36.828195, -1.2571472], [-1.2571472, 36.795063299999995], [36.795063299999995, -1.2950408000000002], [-1.2950408000000002, 36.809817200000005], [36.809817200000005, -1.257309], [-1.257309, 36.806008399999996], [36.806008399999996, -1.2765736], [-1.2765736, 36.851364600000004], [36.851364600000004, -1.2551895], [-1.2551895, 36.7822034], [36.7822034, -1.3002553999999997], [-1.3002553999999997, 36.8256566], [36.8256566, -1.2156006000000001], [-1.2156006000000001, 36.8916865], [36.8916865, -1.2903421], [-1.2903421, 36.7885282], [36.7885282, -1.2860183], [-1.2860183, 36.8975338], [36.8975338, -1.275442], [-1.275442, 36.766020700000006], [36.766020700000006, -1.3908673999999999], [-1.3908673999999999, 36.7674236], [36.7674236, -1.2993231], [-1.2993231, 36.7753372], [36.7753372, -1.2644742], [-1.2644742, 36.808345700000004], [36.808345700000004, -1.2705296999999998], [-1.2705296999999998, 36.7987172], [36.7987172, -1.3228003000000002], [-1.3228003000000002, 36.8306435], [36.8306435, -1.2867454], [-1.2867454, 36.8259017], [36.8259017, -1.2898353999999999], [-1.2898353999999999, 36.787270299999996], [36.787270299999996, -1.2574087999999999], [-1.2574087999999999, 36.799712], [36.799712, -1.3107918], [-1.3107918, 36.761794], [36.761794, -1.2105983999999999], [-1.2105983999999999, 36.8109774], [36.8109774, -1.2869041], [-1.2869041, 36.8240057], [36.8240057, -1.295908], [-1.295908, 36.791433000000005], [36.791433000000005, -1.28878], [-1.28878, 36.8168312], [36.8168312, -1.2508229], [-1.2508229, 36.7895263], [36.7895263, -1.3339943], [-1.3339943, 36.7263409], [36.7263409, -1.3242351], [-1.3242351, 36.8202498], [36.8202498, -1.2631940000000002], [-1.2631940000000002, 36.797624], [36.797624, -1.3700383], [-1.3700383, 36.9190174], [36.9190174, -1.3457877], [-1.3457877, 36.8811894], [36.8811894, -1.290894], [-1.290894, 36.822971], [36.822971, -1.2600926000000001], [-1.2600926000000001, 36.8088685], [36.8088685, -1.2676026000000002], [-1.2676026000000002, 36.810362899999994], [36.810362899999994, -1.225322], [-1.225322, 36.80855], [36.80855, -1.3004062], [-1.3004062, 36.829741], [36.829741, -1.2950041], [-1.2963097, 36.7688221], [36.7688221, -1.3793096000000002], [-1.3793096000000002, 36.931042100000006], [36.931042100000006, -1.3198615], [-1.3198615, 36.7110323], [36.7110323, -1.3160976999999998], [-1.3160976999999998, 36.913164200000004], [36.913164200000004, -1.2729217], [-1.2729217, 36.762482899999995], [36.762482899999995, -1.3025826], [-1.3025826, 36.7670807], [36.7670807, -1.3533402], [-1.3533402, 36.9078924], [36.9078924, -1.2551895], [-1.2551895, 36.7822034], [36.7822034, -1.3002553999999997], [-1.269534, 36.80697], [36.80697, -1.2998903], [-1.2998903, 36.8179213], [36.8179213, -1.3208162], [-1.3208162, 36.8451209], [36.8451209, -1.2613768], [-1.2613768, 36.801941799999994], [36.801941799999994, -1.3073569], [-1.3073569, 36.82021629999999]]]], \"type\": \"MultiPolygon\"}, \"type\": \"Feature\"}], \"type\": \"FeatureCollection\"}, \"type\": \"circle\"}], \"style\": \"stamen-terrain\", \"zoom\": 12}, \"margin\": {\"b\": 0, \"l\": 0, \"r\": 0, \"t\": 0}, \"template\": {\"data\": {\"bar\": [{\"error_x\": {\"color\": \"#2a3f5f\"}, \"error_y\": {\"color\": \"#2a3f5f\"}, \"marker\": {\"line\": {\"color\": \"#E5ECF6\", \"width\": 0.5}}, \"type\": \"bar\"}], \"barpolar\": [{\"marker\": {\"line\": {\"color\": \"#E5ECF6\", \"width\": 0.5}}, \"type\": \"barpolar\"}], \"carpet\": [{\"aaxis\": {\"endlinecolor\": \"#2a3f5f\", \"gridcolor\": \"white\", \"linecolor\": \"white\", \"minorgridcolor\": \"white\", \"startlinecolor\": \"#2a3f5f\"}, \"baxis\": {\"endlinecolor\": \"#2a3f5f\", \"gridcolor\": \"white\", \"linecolor\": \"white\", \"minorgridcolor\": \"white\", \"startlinecolor\": \"#2a3f5f\"}, \"type\": \"carpet\"}], \"choropleth\": [{\"colorbar\": {\"outlinewidth\": 0, \"ticks\": \"\"}, \"type\": \"choropleth\"}], \"contour\": [{\"colorbar\": {\"outlinewidth\": 0, \"ticks\": \"\"}, \"colorscale\": [[0.0, \"#0d0887\"], [0.1111111111111111, \"#46039f\"], [0.2222222222222222, \"#7201a8\"], [0.3333333333333333, \"#9c179e\"], [0.4444444444444444, \"#bd3786\"], [0.5555555555555556, \"#d8576b\"], [0.6666666666666666, \"#ed7953\"], [0.7777777777777778, \"#fb9f3a\"], [0.8888888888888888, \"#fdca26\"], [1.0, \"#f0f921\"]], \"type\": \"contour\"}], \"contourcarpet\": [{\"colorbar\": {\"outlinewidth\": 0, \"ticks\": \"\"}, \"type\": \"contourcarpet\"}], \"heatmap\": [{\"colorbar\": {\"outlinewidth\": 0, \"ticks\": \"\"}, \"colorscale\": [[0.0, \"#0d0887\"], [0.1111111111111111, \"#46039f\"], [0.2222222222222222, \"#7201a8\"], [0.3333333333333333, \"#9c179e\"], [0.4444444444444444, \"#bd3786\"], [0.5555555555555556, \"#d8576b\"], [0.6666666666666666, \"#ed7953\"], [0.7777777777777778, \"#fb9f3a\"], [0.8888888888888888, \"#fdca26\"], [1.0, \"#f0f921\"]], \"type\": \"heatmap\"}], \"heatmapgl\": [{\"colorbar\": {\"outlinewidth\": 0, \"ticks\": \"\"}, \"colorscale\": [[0.0, \"#0d0887\"], [0.1111111111111111, \"#46039f\"], [0.2222222222222222, \"#7201a8\"], [0.3333333333333333, \"#9c179e\"], [0.4444444444444444, \"#bd3786\"], [0.5555555555555556, \"#d8576b\"], [0.6666666666666666, \"#ed7953\"], [0.7777777777777778, \"#fb9f3a\"], [0.8888888888888888, \"#fdca26\"], [1.0, \"#f0f921\"]], \"type\": \"heatmapgl\"}], \"histogram\": [{\"marker\": {\"colorbar\": {\"outlinewidth\": 0, \"ticks\": \"\"}}, \"type\": \"histogram\"}], \"histogram2d\": [{\"colorbar\": {\"outlinewidth\": 0, \"ticks\": \"\"}, \"colorscale\": [[0.0, \"#0d0887\"], [0.1111111111111111, \"#46039f\"], [0.2222222222222222, \"#7201a8\"], [0.3333333333333333, \"#9c179e\"], [0.4444444444444444, \"#bd3786\"], [0.5555555555555556, \"#d8576b\"], [0.6666666666666666, \"#ed7953\"], [0.7777777777777778, \"#fb9f3a\"], [0.8888888888888888, \"#fdca26\"], [1.0, \"#f0f921\"]], \"type\": \"histogram2d\"}], \"histogram2dcontour\": [{\"colorbar\": {\"outlinewidth\": 0, \"ticks\": \"\"}, \"colorscale\": [[0.0, \"#0d0887\"], [0.1111111111111111, \"#46039f\"], [0.2222222222222222, \"#7201a8\"], [0.3333333333333333, \"#9c179e\"], [0.4444444444444444, \"#bd3786\"], [0.5555555555555556, \"#d8576b\"], [0.6666666666666666, \"#ed7953\"], [0.7777777777777778, \"#fb9f3a\"], [0.8888888888888888, \"#fdca26\"], [1.0, \"#f0f921\"]], \"type\": \"histogram2dcontour\"}], \"mesh3d\": [{\"colorbar\": {\"outlinewidth\": 0, \"ticks\": \"\"}, \"type\": \"mesh3d\"}], \"parcoords\": [{\"line\": {\"colorbar\": {\"outlinewidth\": 0, \"ticks\": \"\"}}, \"type\": \"parcoords\"}], \"pie\": [{\"automargin\": true, \"type\": \"pie\"}], \"scatter\": [{\"marker\": {\"colorbar\": {\"outlinewidth\": 0, \"ticks\": \"\"}}, \"type\": \"scatter\"}], \"scatter3d\": [{\"line\": {\"colorbar\": {\"outlinewidth\": 0, \"ticks\": \"\"}}, \"marker\": {\"colorbar\": {\"outlinewidth\": 0, \"ticks\": \"\"}}, \"type\": \"scatter3d\"}], \"scattercarpet\": [{\"marker\": {\"colorbar\": {\"outlinewidth\": 0, \"ticks\": \"\"}}, \"type\": \"scattercarpet\"}], \"scattergeo\": [{\"marker\": {\"colorbar\": {\"outlinewidth\": 0, \"ticks\": \"\"}}, \"type\": \"scattergeo\"}], \"scattergl\": [{\"marker\": {\"colorbar\": {\"outlinewidth\": 0, \"ticks\": \"\"}}, \"type\": \"scattergl\"}], \"scattermapbox\": [{\"marker\": {\"colorbar\": {\"outlinewidth\": 0, \"ticks\": \"\"}}, \"type\": \"scattermapbox\"}], \"scatterpolar\": [{\"marker\": {\"colorbar\": {\"outlinewidth\": 0, \"ticks\": \"\"}}, \"type\": \"scatterpolar\"}], \"scatterpolargl\": [{\"marker\": {\"colorbar\": {\"outlinewidth\": 0, \"ticks\": \"\"}}, \"type\": \"scatterpolargl\"}], \"scatterternary\": [{\"marker\": {\"colorbar\": {\"outlinewidth\": 0, \"ticks\": \"\"}}, \"type\": \"scatterternary\"}], \"surface\": [{\"colorbar\": {\"outlinewidth\": 0, \"ticks\": \"\"}, \"colorscale\": [[0.0, \"#0d0887\"], [0.1111111111111111, \"#46039f\"], [0.2222222222222222, \"#7201a8\"], [0.3333333333333333, \"#9c179e\"], [0.4444444444444444, \"#bd3786\"], [0.5555555555555556, \"#d8576b\"], [0.6666666666666666, \"#ed7953\"], [0.7777777777777778, \"#fb9f3a\"], [0.8888888888888888, \"#fdca26\"], [1.0, \"#f0f921\"]], \"type\": \"surface\"}], \"table\": [{\"cells\": {\"fill\": {\"color\": \"#EBF0F8\"}, \"line\": {\"color\": \"white\"}}, \"header\": {\"fill\": {\"color\": \"#C8D4E3\"}, \"line\": {\"color\": \"white\"}}, \"type\": \"table\"}]}, \"layout\": {\"annotationdefaults\": {\"arrowcolor\": \"#2a3f5f\", \"arrowhead\": 0, \"arrowwidth\": 1}, \"coloraxis\": {\"colorbar\": {\"outlinewidth\": 0, \"ticks\": \"\"}}, \"colorscale\": {\"diverging\": [[0, \"#8e0152\"], [0.1, \"#c51b7d\"], [0.2, \"#de77ae\"], [0.3, \"#f1b6da\"], [0.4, \"#fde0ef\"], [0.5, \"#f7f7f7\"], [0.6, \"#e6f5d0\"], [0.7, \"#b8e186\"], [0.8, \"#7fbc41\"], [0.9, \"#4d9221\"], [1, \"#276419\"]], \"sequential\": [[0.0, \"#0d0887\"], [0.1111111111111111, \"#46039f\"], [0.2222222222222222, \"#7201a8\"], [0.3333333333333333, \"#9c179e\"], [0.4444444444444444, \"#bd3786\"], [0.5555555555555556, \"#d8576b\"], [0.6666666666666666, \"#ed7953\"], [0.7777777777777778, \"#fb9f3a\"], [0.8888888888888888, \"#fdca26\"], [1.0, \"#f0f921\"]], \"sequentialminus\": [[0.0, \"#0d0887\"], [0.1111111111111111, \"#46039f\"], [0.2222222222222222, \"#7201a8\"], [0.3333333333333333, \"#9c179e\"], [0.4444444444444444, \"#bd3786\"], [0.5555555555555556, \"#d8576b\"], [0.6666666666666666, \"#ed7953\"], [0.7777777777777778, \"#fb9f3a\"], [0.8888888888888888, \"#fdca26\"], [1.0, \"#f0f921\"]]}, \"colorway\": [\"#636efa\", \"#EF553B\", \"#00cc96\", \"#ab63fa\", \"#FFA15A\", \"#19d3f3\", \"#FF6692\", \"#B6E880\", \"#FF97FF\", \"#FECB52\"], \"font\": {\"color\": \"#2a3f5f\"}, \"geo\": {\"bgcolor\": \"white\", \"lakecolor\": \"white\", \"landcolor\": \"#E5ECF6\", \"showlakes\": true, \"showland\": true, \"subunitcolor\": \"white\"}, \"hoverlabel\": {\"align\": \"left\"}, \"hovermode\": \"closest\", \"mapbox\": {\"style\": \"light\"}, \"paper_bgcolor\": \"white\", \"plot_bgcolor\": \"#E5ECF6\", \"polar\": {\"angularaxis\": {\"gridcolor\": \"white\", \"linecolor\": \"white\", \"ticks\": \"\"}, \"bgcolor\": \"#E5ECF6\", \"radialaxis\": {\"gridcolor\": \"white\", \"linecolor\": \"white\", \"ticks\": \"\"}}, \"scene\": {\"xaxis\": {\"backgroundcolor\": \"#E5ECF6\", \"gridcolor\": \"white\", \"gridwidth\": 2, \"linecolor\": \"white\", \"showbackground\": true, \"ticks\": \"\", \"zerolinecolor\": \"white\"}, \"yaxis\": {\"backgroundcolor\": \"#E5ECF6\", \"gridcolor\": \"white\", \"gridwidth\": 2, \"linecolor\": \"white\", \"showbackground\": true, \"ticks\": \"\", \"zerolinecolor\": \"white\"}, \"zaxis\": {\"backgroundcolor\": \"#E5ECF6\", \"gridcolor\": \"white\", \"gridwidth\": 2, \"linecolor\": \"white\", \"showbackground\": true, \"ticks\": \"\", \"zerolinecolor\": \"white\"}}, \"shapedefaults\": {\"line\": {\"color\": \"#2a3f5f\"}}, \"ternary\": {\"aaxis\": {\"gridcolor\": \"white\", \"linecolor\": \"white\", \"ticks\": \"\"}, \"baxis\": {\"gridcolor\": \"white\", \"linecolor\": \"white\", \"ticks\": \"\"}, \"bgcolor\": \"#E5ECF6\", \"caxis\": {\"gridcolor\": \"white\", \"linecolor\": \"white\", \"ticks\": \"\"}}, \"title\": {\"x\": 0.05}, \"xaxis\": {\"automargin\": true, \"gridcolor\": \"white\", \"linecolor\": \"white\", \"ticks\": \"\", \"title\": {\"standoff\": 15}, \"zerolinecolor\": \"white\", \"zerolinewidth\": 2}, \"yaxis\": {\"automargin\": true, \"gridcolor\": \"white\", \"linecolor\": \"white\", \"ticks\": \"\", \"title\": {\"standoff\": 15}, \"zerolinecolor\": \"white\", \"zerolinewidth\": 2}}}},\n",
       "                        {\"responsive\": true}\n",
       "                    ).then(function(){\n",
       "                            \n",
       "var gd = document.getElementById('ba27aa49-887c-46ca-b4bb-8d95b31931c8');\n",
       "var x = new MutationObserver(function (mutations, observer) {{\n",
       "        var display = window.getComputedStyle(gd).display;\n",
       "        if (!display || display === 'none') {{\n",
       "            console.log([gd, 'removed!']);\n",
       "            Plotly.purge(gd);\n",
       "            observer.disconnect();\n",
       "        }}\n",
       "}});\n",
       "\n",
       "// Listen for the removal of the full notebook cells\n",
       "var notebookContainer = gd.closest('#notebook-container');\n",
       "if (notebookContainer) {{\n",
       "    x.observe(notebookContainer, {childList: true});\n",
       "}}\n",
       "\n",
       "// Listen for the clearing of the current output cell\n",
       "var outputEl = gd.closest('.output');\n",
       "if (outputEl) {{\n",
       "    x.observe(outputEl, {childList: true});\n",
       "}}\n",
       "\n",
       "                        })\n",
       "                };\n",
       "                });\n",
       "            </script>\n",
       "        </div>"
      ]
     },
     "metadata": {},
     "output_type": "display_data"
    }
   ],
   "source": [
    "fig = go.Figure(go.Scattermapbox(\n",
    "    mode = \"markers\",\n",
    "    lon = [36.8302], lat = [-1.2839],\n",
    "    marker = {'size': 20, 'color': [\"red\"]}))\n",
    "\n",
    "co_pick = [None]*(len(pickup_lat)+len(pickup_long))\n",
    "co_pick[::2] = pickup_lat\n",
    "co_pick[1::2] = pickup_long\n",
    "\n",
    "co_des = [None]*(len(des_lat)+len(des_long))\n",
    "co_des[::2] = des_lat\n",
    "co_des[1::2] = des_long\n",
    "\n",
    "des_ll = [[i, co_des[co_des.index(i)+1]] for i in co_des if i != co_des[-1]]\n",
    "\n",
    "\n",
    "\n",
    "fig.update_layout(\n",
    "    mapbox = {\n",
    "        'style': \"stamen-terrain\",\n",
    "        'center': {'lon': 36.8115146, 'lat': -1.2839729},\n",
    "        'zoom': 12, 'layers': [{\n",
    "            'source': {\n",
    "                'type': \"FeatureCollection\",\n",
    "                'features': [{\n",
    "                    'type': \"Feature\",\n",
    "                    'geometry': {\n",
    "                        'type': \"MultiPolygon\",\n",
    "                        'coordinates': [[des_ll]]\n",
    "                    }\n",
    "                }]\n",
    "            },\n",
    "            'type': \"circle\", 'below': \"traces\", 'color': \"royalblue\"}]},\n",
    "    margin = {'l':0, 'r':0, 'b':0, 't':0})\n",
    "\n",
    "fig.show()\n"
   ]
  },
  {
   "cell_type": "markdown",
   "metadata": {},
   "source": [
    "#### Summary of Geo-Spatial analysis\n",
    "As we can see from the Visualisations above the Geo-spatial analysis didnt give much in the way of analyising the data but it is always nice to know where in the world this data is reffering to"
   ]
  },
  {
   "cell_type": "markdown",
   "metadata": {},
   "source": [
    "## Summary"
   ]
  },
  {
   "cell_type": "markdown",
   "metadata": {},
   "source": [
    "We joined the training dataset and the riders dataset to get a better sense of the process that happens from the time an order is placed to the time it is delivered to the customer. We found that most orders are placed using platfrom 3 between 10 AM and 3 PM and on average it takes 1556 seconds (25 minutes) for the driver to make a delivery to the customer. Orders are mostly picked up within the same time frame. The average distance travelled by a driver to make a delivery is 9.5 KM. Since the dataset only includes bikes it was difficult to determine if there is a difference between the time from pickup to arrival based on the mode of transport used by a driver.\n",
    "\n",
    "We analysed the time between each stage that an order goes through (placement, confirmation, pickup) because this can influence the time it takes for an order to be delivered from the point of pickup. In analysing the time taken from placement to confirmation and confirmation to pickup, we can determine if there are inefficiencies that affect the delivery time.\n",
    "\n",
    "Missing values in the dataframe were filled using the mean of the column. The descision for columns to include in training the model was based on correlation and the column chosen was the Distance column since it has the highest correlation to the response variable(Time from pickup to arrival). \n",
    "\n",
    "We will start by training various models and in the end we will use the model with the lowest RMSE."
   ]
  },
  {
   "cell_type": "markdown",
   "metadata": {},
   "source": [
    "# Pre-processing\n",
    "## Shaping and Forming x and y"
   ]
  },
  {
   "cell_type": "code",
   "execution_count": 71,
   "metadata": {},
   "outputs": [],
   "source": [
    "train_df = train_data[['Distance (KM)', 'Time from Pickup to Arrival']]\n",
    "test_df = test_data[['Distance (KM)', 'Time from Pickup to Arrival']]"
   ]
  },
  {
   "cell_type": "code",
   "execution_count": 90,
   "metadata": {},
   "outputs": [],
   "source": [
    "# Create the X and y variables from the dataset\n",
    "x = train_df.iloc[:, :-1].values\n",
    "y = train_df.iloc[:, -1].values\n",
    "x_test = test_df.iloc[:, :-1].values\n",
    "y_test = test_df.iloc[:, -1]\n"
   ]
  },
  {
   "cell_type": "code",
   "execution_count": 55,
   "metadata": {},
   "outputs": [
    {
     "name": "stdout",
     "output_type": "stream",
     "text": [
      "[[ 4]\n",
      " [16]\n",
      " [ 3]\n",
      " ...\n",
      " [20]\n",
      " [13]\n",
      " [12]] [[ 745]\n",
      " [1993]\n",
      " [ 455]\n",
      " ...\n",
      " [2953]\n",
      " [1380]\n",
      " [2128]]\n",
      "\n",
      " This is the correct form for the variables\n"
     ]
    }
   ],
   "source": [
    "# Re-shape x and y into a 2D array\n",
    "x = x.reshape(len(x), 1)\n",
    "y = y.reshape(len(y), 1)\n",
    "print(x,y)\n",
    "print(\"\\n This is the correct form for the variables\")"
   ]
  },
  {
   "cell_type": "markdown",
   "metadata": {},
   "source": [
    "## Scaling"
   ]
  },
  {
   "cell_type": "code",
   "execution_count": 56,
   "metadata": {},
   "outputs": [
    {
     "name": "stdout",
     "output_type": "stream",
     "text": [
      "[[-0.97137039]\n",
      " [ 1.14546888]\n",
      " [-1.14777366]\n",
      " ...\n",
      " [ 1.85108197]\n",
      " [ 0.61625906]\n",
      " [ 0.43985579]] [[-0.82240871]\n",
      " [ 0.44171198]\n",
      " [-1.11615471]\n",
      " ...\n",
      " [ 1.41411252]\n",
      " [-0.17920627]\n",
      " [ 0.57845581]]\n",
      "\n",
      " Variables scaled correctly\n"
     ]
    }
   ],
   "source": [
    "# We need to scale the data \n",
    "# We will use Sklean's StandardScaler for this\n",
    "\n",
    "sc_X = StandardScaler()\n",
    "sc_y = StandardScaler()\n",
    "x = sc_X.fit_transform(x)\n",
    "y = sc_y.fit_transform(y)\n",
    "\n",
    "print(x,y)\n",
    "print(\"\\n Variables scaled correctly\")"
   ]
  },
  {
   "cell_type": "markdown",
   "metadata": {},
   "source": [
    "# SVR Model\n",
    "### Our first attempt will be to try and use an SVR model\n",
    "## Training"
   ]
  },
  {
   "cell_type": "code",
   "execution_count": 57,
   "metadata": {},
   "outputs": [
    {
     "name": "stderr",
     "output_type": "stream",
     "text": [
      "C:\\Users\\front\\Anaconda3\\lib\\site-packages\\sklearn\\utils\\validation.py:724: DataConversionWarning: A column-vector y was passed when a 1d array was expected. Please change the shape of y to (n_samples, ), for example using ravel().\n",
      "  y = column_or_1d(y, warn=True)\n"
     ]
    },
    {
     "data": {
      "text/plain": [
       "SVR(C=1.0, cache_size=200, coef0=0.0, degree=3, epsilon=0.1,\n",
       "    gamma='auto_deprecated', kernel='rbf', max_iter=-1, shrinking=True,\n",
       "    tol=0.001, verbose=False)"
      ]
     },
     "execution_count": 57,
     "metadata": {},
     "output_type": "execute_result"
    }
   ],
   "source": [
    "from sklearn.svm import SVR\n",
    "\n",
    "svr_regressor = SVR(kernel = 'rbf')\n",
    "svr_regressor.fit(x, y)"
   ]
  },
  {
   "cell_type": "markdown",
   "metadata": {},
   "source": [
    "## Predicting  "
   ]
  },
  {
   "cell_type": "code",
   "execution_count": 58,
   "metadata": {},
   "outputs": [],
   "source": [
    "predicts = sc_y.inverse_transform(svr_regressor.predict(sc_X.transform(x)))"
   ]
  },
  {
   "cell_type": "code",
   "execution_count": 59,
   "metadata": {},
   "outputs": [
    {
     "name": "stdout",
     "output_type": "stream",
     "text": [
      "RMSE:  448.356006565585\n"
     ]
    }
   ],
   "source": [
    "from sklearn.metrics import mean_squared_error\n",
    "print(\"RMSE: \", np.sqrt(mean_squared_error(y,predicts)))"
   ]
  },
  {
   "cell_type": "markdown",
   "metadata": {},
   "source": [
    "# Random Forest Regressor\n",
    "## Pre-Processing"
   ]
  },
  {
   "cell_type": "code",
   "execution_count": 60,
   "metadata": {},
   "outputs": [],
   "source": [
    "tr_df = train_data.copy()\n",
    "\n",
    "tr_df1 = tr_df.drop(['Order No', 'User Id', 'Vehicle Type', 'Personal or Business',\n",
    "                     'Placement - Time', 'Confirmation - Time', 'Arrival at Pickup - Time',\n",
    "                     'Pickup - Time', 'Arrival at Destination - Time', 'Precipitation in millimeters',\n",
    "                     'Temperature', 'Rider Id', 'Pickup Lat', 'Pickup Long', 'Destination Lat', 'Destination Long',\n",
    "                     'Arrival at Destination - Weekday (Mo = 1)', 'Arrival at Destination - Day of Month'], axis=1)"
   ]
  },
  {
   "cell_type": "code",
   "execution_count": 61,
   "metadata": {},
   "outputs": [],
   "source": [
    "ts_df = test_data.copy()\n",
    "\n",
    "ts_df1 = ts_df.drop(['Order No', 'User Id', 'Vehicle Type','Personal or Business' ,\n",
    "                     'Placement - Time', 'Confirmation - Time','Arrival at Pickup - Time', \n",
    "                     'Pickup - Time', 'Precipitation in millimeters', 'Temperature', 'Rider Id',\n",
    "                     'Pickup Lat','Pickup Long', 'Destination Lat','Destination Long' ], axis=1)\n",
    "ts_df1['Time from pickup to arrival'] = range(len(ts_df['Platform Type']))\n",
    "\n",
    "predvar = ts_df1.iloc[:, -2:-1].values"
   ]
  },
  {
   "cell_type": "code",
   "execution_count": 62,
   "metadata": {},
   "outputs": [],
   "source": [
    "\n",
    "rf_X = tr_df1.iloc[: , -2:-1].values\n",
    "rf_y = tr_df1.iloc[: , -1].values"
   ]
  },
  {
   "cell_type": "code",
   "execution_count": 63,
   "metadata": {},
   "outputs": [],
   "source": [
    "rf_X = rf_X.reshape(-1,1)\n",
    "rf_y= rf_y.reshape(-1,1)\n",
    "\n",
    "rf_X = sc_X.fit_transform(rf_X)\n",
    "rf_y = sc_y.fit_transform(rf_y)"
   ]
  },
  {
   "cell_type": "markdown",
   "metadata": {},
   "source": [
    "## Training"
   ]
  },
  {
   "cell_type": "code",
   "execution_count": 64,
   "metadata": {},
   "outputs": [
    {
     "name": "stderr",
     "output_type": "stream",
     "text": [
      "C:\\Users\\front\\Anaconda3\\lib\\site-packages\\sklearn\\ensemble\\forest.py:245: FutureWarning: The default value of n_estimators will change from 10 in version 0.20 to 100 in 0.22.\n",
      "  \"10 in version 0.20 to 100 in 0.22.\", FutureWarning)\n",
      "C:\\Users\\front\\Anaconda3\\lib\\site-packages\\ipykernel_launcher.py:4: DataConversionWarning: A column-vector y was passed when a 1d array was expected. Please change the shape of y to (n_samples,), for example using ravel().\n",
      "  after removing the cwd from sys.path.\n"
     ]
    },
    {
     "data": {
      "text/plain": [
       "RandomForestRegressor(bootstrap=True, criterion='mse', max_depth=None,\n",
       "                      max_features='auto', max_leaf_nodes=None,\n",
       "                      min_impurity_decrease=0.0, min_impurity_split=None,\n",
       "                      min_samples_leaf=1, min_samples_split=2,\n",
       "                      min_weight_fraction_leaf=0.0, n_estimators=10,\n",
       "                      n_jobs=None, oob_score=False, random_state=None,\n",
       "                      verbose=0, warm_start=False)"
      ]
     },
     "execution_count": 64,
     "metadata": {},
     "output_type": "execute_result"
    }
   ],
   "source": [
    "from sklearn.ensemble import RandomForestRegressor\n",
    "\n",
    "regressorRFR = RandomForestRegressor()\n",
    "regressorRFR.fit(rf_X, rf_y)"
   ]
  },
  {
   "cell_type": "markdown",
   "metadata": {},
   "source": [
    "## Predicting"
   ]
  },
  {
   "cell_type": "code",
   "execution_count": 65,
   "metadata": {},
   "outputs": [
    {
     "name": "stdout",
     "output_type": "stream",
     "text": [
      "RMSE:  1644.346480953582\n"
     ]
    }
   ],
   "source": [
    "RFRpreds = sc_y.inverse_transform(regressorRFR.predict(sc_X.transform(predvar)))\n",
    "print(\"RMSE: \", np.sqrt(mean_squared_error(predvar,RFRpreds)))"
   ]
  },
  {
   "cell_type": "markdown",
   "metadata": {},
   "source": [
    "# Linear Model"
   ]
  },
  {
   "cell_type": "markdown",
   "metadata": {},
   "source": [
    "## Training"
   ]
  },
  {
   "cell_type": "code",
   "execution_count": 66,
   "metadata": {},
   "outputs": [
    {
     "data": {
      "text/plain": [
       "LinearRegression(copy_X=True, fit_intercept=True, n_jobs=None, normalize=False)"
      ]
     },
     "execution_count": 66,
     "metadata": {},
     "output_type": "execute_result"
    }
   ],
   "source": [
    "# No need to pre-process the data this time as it has already been pre-processed to the desired from\n",
    "from sklearn.linear_model import LinearRegression\n",
    "\n",
    "regressor = LinearRegression()\n",
    "regressor.fit(x,y)"
   ]
  },
  {
   "cell_type": "code",
   "execution_count": 67,
   "metadata": {},
   "outputs": [
    {
     "name": "stdout",
     "output_type": "stream",
     "text": [
      "RMSE:  604.0926975240357\n"
     ]
    }
   ],
   "source": [
    "predicts_lin = sc_y.inverse_transform(regressor.predict(sc_X.transform(x)))\n",
    "\n",
    "from sklearn import metrics\n",
    "\n",
    "print(\"RMSE: \", np.sqrt(mean_squared_error(y,predicts_lin)))"
   ]
  },
  {
   "cell_type": "markdown",
   "metadata": {},
   "source": [
    "# Summary"
   ]
  },
  {
   "cell_type": "markdown",
   "metadata": {},
   "source": [
    "As we can see the model with the best fit is the random forest regressor this is the model we will use to build our API and can predict Values closely resembling the actual values.\n",
    "We will use that model to convert into a csv"
   ]
  },
  {
   "cell_type": "markdown",
   "metadata": {},
   "source": [
    "### Submitting to Zindi, creating an CSV file\n",
    "#### Don't run this code if not wanting to create a CSV file"
   ]
  },
  {
   "cell_type": "code",
   "execution_count": 68,
   "metadata": {},
   "outputs": [],
   "source": [
    "Run this code only if wanting to create a CSV, we did this so we could submit to Zindi\n",
    "\n",
    "ts_df['Time from pickup to arrival'] = RFRpreds\n",
    "newer = ts_df[['Order No', 'Time from pickup to arrival']]\n",
    "newer.to_csv(\"28_Predict.csv\", index=False)\n",
    "newer"
   ]
  },
  {
   "cell_type": "code",
   "execution_count": null,
   "metadata": {},
   "outputs": [],
   "source": []
  }
 ],
 "metadata": {
  "kernelspec": {
   "display_name": "Python 3",
   "language": "python",
   "name": "python3"
  },
  "language_info": {
   "codemirror_mode": {
    "name": "ipython",
    "version": 3
   },
   "file_extension": ".py",
   "mimetype": "text/x-python",
   "name": "python",
   "nbconvert_exporter": "python",
   "pygments_lexer": "ipython3",
   "version": "3.7.4"
  },
  "toc": {
   "base_numbering": 1,
   "nav_menu": {},
   "number_sections": true,
   "sideBar": true,
   "skip_h1_title": false,
   "title_cell": "Table of Contents",
   "title_sidebar": "Contents",
   "toc_cell": false,
   "toc_position": {},
   "toc_section_display": true,
   "toc_window_display": false
  }
 },
 "nbformat": 4,
 "nbformat_minor": 2
}
