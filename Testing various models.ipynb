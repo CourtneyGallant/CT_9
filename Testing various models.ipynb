{
 "cells": [
  {
   "cell_type": "code",
   "execution_count": 187,
   "metadata": {},
   "outputs": [],
   "source": [
    "import numpy as np\n",
    "import matplotlib.pyplot as plt\n",
    "import pandas as pd"
   ]
  },
  {
   "cell_type": "code",
   "execution_count": 282,
   "metadata": {},
   "outputs": [],
   "source": [
    "train_data = pd.read_csv('Train.csv')\n",
    "test_data = pd.read_csv('Test.csv')\n",
    "riders_data = pd.read_csv('Riders.csv')"
   ]
  },
  {
   "cell_type": "code",
   "execution_count": 357,
   "metadata": {},
   "outputs": [],
   "source": [
    "train_df = train_data.copy()"
   ]
  },
  {
   "cell_type": "code",
   "execution_count": 358,
   "metadata": {},
   "outputs": [
    {
     "data": {
      "text/html": [
       "<div>\n",
       "<style scoped>\n",
       "    .dataframe tbody tr th:only-of-type {\n",
       "        vertical-align: middle;\n",
       "    }\n",
       "\n",
       "    .dataframe tbody tr th {\n",
       "        vertical-align: top;\n",
       "    }\n",
       "\n",
       "    .dataframe thead th {\n",
       "        text-align: right;\n",
       "    }\n",
       "</style>\n",
       "<table border=\"1\" class=\"dataframe\">\n",
       "  <thead>\n",
       "    <tr style=\"text-align: right;\">\n",
       "      <th></th>\n",
       "      <th>Order No</th>\n",
       "      <th>User Id</th>\n",
       "      <th>Vehicle Type</th>\n",
       "      <th>Platform Type</th>\n",
       "      <th>Personal or Business</th>\n",
       "      <th>Placement - Day of Month</th>\n",
       "      <th>Placement - Weekday (Mo = 1)</th>\n",
       "      <th>Placement - Time</th>\n",
       "      <th>Confirmation - Day of Month</th>\n",
       "      <th>Confirmation - Weekday (Mo = 1)</th>\n",
       "      <th>...</th>\n",
       "      <th>Arrival at Destination - Time</th>\n",
       "      <th>Distance (KM)</th>\n",
       "      <th>Temperature</th>\n",
       "      <th>Precipitation in millimeters</th>\n",
       "      <th>Pickup Lat</th>\n",
       "      <th>Pickup Long</th>\n",
       "      <th>Destination Lat</th>\n",
       "      <th>Destination Long</th>\n",
       "      <th>Rider Id</th>\n",
       "      <th>Time from Pickup to Arrival</th>\n",
       "    </tr>\n",
       "  </thead>\n",
       "  <tbody>\n",
       "    <tr>\n",
       "      <td>0</td>\n",
       "      <td>Order_No_4211</td>\n",
       "      <td>User_Id_633</td>\n",
       "      <td>Bike</td>\n",
       "      <td>3</td>\n",
       "      <td>Business</td>\n",
       "      <td>9</td>\n",
       "      <td>5</td>\n",
       "      <td>9:35:46 AM</td>\n",
       "      <td>9</td>\n",
       "      <td>5</td>\n",
       "      <td>...</td>\n",
       "      <td>10:39:55 AM</td>\n",
       "      <td>4</td>\n",
       "      <td>20.4</td>\n",
       "      <td>NaN</td>\n",
       "      <td>-1.317755</td>\n",
       "      <td>36.830370</td>\n",
       "      <td>-1.300406</td>\n",
       "      <td>36.829741</td>\n",
       "      <td>Rider_Id_432</td>\n",
       "      <td>745</td>\n",
       "    </tr>\n",
       "    <tr>\n",
       "      <td>1</td>\n",
       "      <td>Order_No_25375</td>\n",
       "      <td>User_Id_2285</td>\n",
       "      <td>Bike</td>\n",
       "      <td>3</td>\n",
       "      <td>Personal</td>\n",
       "      <td>12</td>\n",
       "      <td>5</td>\n",
       "      <td>11:16:16 AM</td>\n",
       "      <td>12</td>\n",
       "      <td>5</td>\n",
       "      <td>...</td>\n",
       "      <td>12:17:22 PM</td>\n",
       "      <td>16</td>\n",
       "      <td>26.4</td>\n",
       "      <td>NaN</td>\n",
       "      <td>-1.351453</td>\n",
       "      <td>36.899315</td>\n",
       "      <td>-1.295004</td>\n",
       "      <td>36.814358</td>\n",
       "      <td>Rider_Id_856</td>\n",
       "      <td>1993</td>\n",
       "    </tr>\n",
       "    <tr>\n",
       "      <td>2</td>\n",
       "      <td>Order_No_1899</td>\n",
       "      <td>User_Id_265</td>\n",
       "      <td>Bike</td>\n",
       "      <td>3</td>\n",
       "      <td>Business</td>\n",
       "      <td>30</td>\n",
       "      <td>2</td>\n",
       "      <td>12:39:25 PM</td>\n",
       "      <td>30</td>\n",
       "      <td>2</td>\n",
       "      <td>...</td>\n",
       "      <td>1:00:38 PM</td>\n",
       "      <td>3</td>\n",
       "      <td>NaN</td>\n",
       "      <td>NaN</td>\n",
       "      <td>-1.308284</td>\n",
       "      <td>36.843419</td>\n",
       "      <td>-1.300921</td>\n",
       "      <td>36.828195</td>\n",
       "      <td>Rider_Id_155</td>\n",
       "      <td>455</td>\n",
       "    </tr>\n",
       "    <tr>\n",
       "      <td>3</td>\n",
       "      <td>Order_No_9336</td>\n",
       "      <td>User_Id_1402</td>\n",
       "      <td>Bike</td>\n",
       "      <td>3</td>\n",
       "      <td>Business</td>\n",
       "      <td>15</td>\n",
       "      <td>5</td>\n",
       "      <td>9:25:34 AM</td>\n",
       "      <td>15</td>\n",
       "      <td>5</td>\n",
       "      <td>...</td>\n",
       "      <td>10:05:27 AM</td>\n",
       "      <td>9</td>\n",
       "      <td>19.2</td>\n",
       "      <td>NaN</td>\n",
       "      <td>-1.281301</td>\n",
       "      <td>36.832396</td>\n",
       "      <td>-1.257147</td>\n",
       "      <td>36.795063</td>\n",
       "      <td>Rider_Id_855</td>\n",
       "      <td>1341</td>\n",
       "    </tr>\n",
       "    <tr>\n",
       "      <td>4</td>\n",
       "      <td>Order_No_27883</td>\n",
       "      <td>User_Id_1737</td>\n",
       "      <td>Bike</td>\n",
       "      <td>1</td>\n",
       "      <td>Personal</td>\n",
       "      <td>13</td>\n",
       "      <td>1</td>\n",
       "      <td>9:55:18 AM</td>\n",
       "      <td>13</td>\n",
       "      <td>1</td>\n",
       "      <td>...</td>\n",
       "      <td>10:25:37 AM</td>\n",
       "      <td>9</td>\n",
       "      <td>15.4</td>\n",
       "      <td>NaN</td>\n",
       "      <td>-1.266597</td>\n",
       "      <td>36.792118</td>\n",
       "      <td>-1.295041</td>\n",
       "      <td>36.809817</td>\n",
       "      <td>Rider_Id_770</td>\n",
       "      <td>1214</td>\n",
       "    </tr>\n",
       "    <tr>\n",
       "      <td>...</td>\n",
       "      <td>...</td>\n",
       "      <td>...</td>\n",
       "      <td>...</td>\n",
       "      <td>...</td>\n",
       "      <td>...</td>\n",
       "      <td>...</td>\n",
       "      <td>...</td>\n",
       "      <td>...</td>\n",
       "      <td>...</td>\n",
       "      <td>...</td>\n",
       "      <td>...</td>\n",
       "      <td>...</td>\n",
       "      <td>...</td>\n",
       "      <td>...</td>\n",
       "      <td>...</td>\n",
       "      <td>...</td>\n",
       "      <td>...</td>\n",
       "      <td>...</td>\n",
       "      <td>...</td>\n",
       "      <td>...</td>\n",
       "      <td>...</td>\n",
       "    </tr>\n",
       "    <tr>\n",
       "      <td>21196</td>\n",
       "      <td>Order_No_8834</td>\n",
       "      <td>User_Id_2001</td>\n",
       "      <td>Bike</td>\n",
       "      <td>3</td>\n",
       "      <td>Personal</td>\n",
       "      <td>20</td>\n",
       "      <td>3</td>\n",
       "      <td>3:54:38 PM</td>\n",
       "      <td>20</td>\n",
       "      <td>3</td>\n",
       "      <td>...</td>\n",
       "      <td>4:20:17 PM</td>\n",
       "      <td>3</td>\n",
       "      <td>28.6</td>\n",
       "      <td>NaN</td>\n",
       "      <td>-1.258414</td>\n",
       "      <td>36.804800</td>\n",
       "      <td>-1.275285</td>\n",
       "      <td>36.802702</td>\n",
       "      <td>Rider_Id_953</td>\n",
       "      <td>9</td>\n",
       "    </tr>\n",
       "    <tr>\n",
       "      <td>21197</td>\n",
       "      <td>Order_No_22892</td>\n",
       "      <td>User_Id_1796</td>\n",
       "      <td>Bike</td>\n",
       "      <td>3</td>\n",
       "      <td>Business</td>\n",
       "      <td>13</td>\n",
       "      <td>6</td>\n",
       "      <td>10:13:34 AM</td>\n",
       "      <td>13</td>\n",
       "      <td>6</td>\n",
       "      <td>...</td>\n",
       "      <td>10:46:17 AM</td>\n",
       "      <td>7</td>\n",
       "      <td>26.0</td>\n",
       "      <td>NaN</td>\n",
       "      <td>-1.307143</td>\n",
       "      <td>36.825009</td>\n",
       "      <td>-1.331619</td>\n",
       "      <td>36.847976</td>\n",
       "      <td>Rider_Id_155</td>\n",
       "      <td>770</td>\n",
       "    </tr>\n",
       "    <tr>\n",
       "      <td>21198</td>\n",
       "      <td>Order_No_2831</td>\n",
       "      <td>User_Id_2956</td>\n",
       "      <td>Bike</td>\n",
       "      <td>3</td>\n",
       "      <td>Business</td>\n",
       "      <td>7</td>\n",
       "      <td>4</td>\n",
       "      <td>5:06:16 PM</td>\n",
       "      <td>7</td>\n",
       "      <td>4</td>\n",
       "      <td>...</td>\n",
       "      <td>6:40:05 PM</td>\n",
       "      <td>20</td>\n",
       "      <td>29.2</td>\n",
       "      <td>NaN</td>\n",
       "      <td>-1.286018</td>\n",
       "      <td>36.897534</td>\n",
       "      <td>-1.258414</td>\n",
       "      <td>36.804800</td>\n",
       "      <td>Rider_Id_697</td>\n",
       "      <td>2953</td>\n",
       "    </tr>\n",
       "    <tr>\n",
       "      <td>21199</td>\n",
       "      <td>Order_No_6174</td>\n",
       "      <td>User_Id_2524</td>\n",
       "      <td>Bike</td>\n",
       "      <td>1</td>\n",
       "      <td>Personal</td>\n",
       "      <td>4</td>\n",
       "      <td>3</td>\n",
       "      <td>9:31:39 AM</td>\n",
       "      <td>4</td>\n",
       "      <td>3</td>\n",
       "      <td>...</td>\n",
       "      <td>10:08:15 AM</td>\n",
       "      <td>13</td>\n",
       "      <td>15.0</td>\n",
       "      <td>NaN</td>\n",
       "      <td>-1.250030</td>\n",
       "      <td>36.874167</td>\n",
       "      <td>-1.279209</td>\n",
       "      <td>36.794872</td>\n",
       "      <td>Rider_Id_347</td>\n",
       "      <td>1380</td>\n",
       "    </tr>\n",
       "    <tr>\n",
       "      <td>21200</td>\n",
       "      <td>Order_No_9836</td>\n",
       "      <td>User_Id_718</td>\n",
       "      <td>Bike</td>\n",
       "      <td>3</td>\n",
       "      <td>Business</td>\n",
       "      <td>26</td>\n",
       "      <td>2</td>\n",
       "      <td>2:19:47 PM</td>\n",
       "      <td>26</td>\n",
       "      <td>2</td>\n",
       "      <td>...</td>\n",
       "      <td>3:17:23 PM</td>\n",
       "      <td>12</td>\n",
       "      <td>30.9</td>\n",
       "      <td>NaN</td>\n",
       "      <td>-1.255189</td>\n",
       "      <td>36.782203</td>\n",
       "      <td>-1.320157</td>\n",
       "      <td>36.830887</td>\n",
       "      <td>Rider_Id_177</td>\n",
       "      <td>2128</td>\n",
       "    </tr>\n",
       "  </tbody>\n",
       "</table>\n",
       "<p>21201 rows × 29 columns</p>\n",
       "</div>"
      ],
      "text/plain": [
       "             Order No       User Id Vehicle Type  Platform Type  \\\n",
       "0       Order_No_4211   User_Id_633         Bike              3   \n",
       "1      Order_No_25375  User_Id_2285         Bike              3   \n",
       "2       Order_No_1899   User_Id_265         Bike              3   \n",
       "3       Order_No_9336  User_Id_1402         Bike              3   \n",
       "4      Order_No_27883  User_Id_1737         Bike              1   \n",
       "...               ...           ...          ...            ...   \n",
       "21196   Order_No_8834  User_Id_2001         Bike              3   \n",
       "21197  Order_No_22892  User_Id_1796         Bike              3   \n",
       "21198   Order_No_2831  User_Id_2956         Bike              3   \n",
       "21199   Order_No_6174  User_Id_2524         Bike              1   \n",
       "21200   Order_No_9836   User_Id_718         Bike              3   \n",
       "\n",
       "      Personal or Business  Placement - Day of Month  \\\n",
       "0                 Business                         9   \n",
       "1                 Personal                        12   \n",
       "2                 Business                        30   \n",
       "3                 Business                        15   \n",
       "4                 Personal                        13   \n",
       "...                    ...                       ...   \n",
       "21196             Personal                        20   \n",
       "21197             Business                        13   \n",
       "21198             Business                         7   \n",
       "21199             Personal                         4   \n",
       "21200             Business                        26   \n",
       "\n",
       "       Placement - Weekday (Mo = 1) Placement - Time  \\\n",
       "0                                 5       9:35:46 AM   \n",
       "1                                 5      11:16:16 AM   \n",
       "2                                 2      12:39:25 PM   \n",
       "3                                 5       9:25:34 AM   \n",
       "4                                 1       9:55:18 AM   \n",
       "...                             ...              ...   \n",
       "21196                             3       3:54:38 PM   \n",
       "21197                             6      10:13:34 AM   \n",
       "21198                             4       5:06:16 PM   \n",
       "21199                             3       9:31:39 AM   \n",
       "21200                             2       2:19:47 PM   \n",
       "\n",
       "       Confirmation - Day of Month  Confirmation - Weekday (Mo = 1)  ...  \\\n",
       "0                                9                                5  ...   \n",
       "1                               12                                5  ...   \n",
       "2                               30                                2  ...   \n",
       "3                               15                                5  ...   \n",
       "4                               13                                1  ...   \n",
       "...                            ...                              ...  ...   \n",
       "21196                           20                                3  ...   \n",
       "21197                           13                                6  ...   \n",
       "21198                            7                                4  ...   \n",
       "21199                            4                                3  ...   \n",
       "21200                           26                                2  ...   \n",
       "\n",
       "      Arrival at Destination - Time  Distance (KM)  Temperature  \\\n",
       "0                       10:39:55 AM              4         20.4   \n",
       "1                       12:17:22 PM             16         26.4   \n",
       "2                        1:00:38 PM              3          NaN   \n",
       "3                       10:05:27 AM              9         19.2   \n",
       "4                       10:25:37 AM              9         15.4   \n",
       "...                             ...            ...          ...   \n",
       "21196                    4:20:17 PM              3         28.6   \n",
       "21197                   10:46:17 AM              7         26.0   \n",
       "21198                    6:40:05 PM             20         29.2   \n",
       "21199                   10:08:15 AM             13         15.0   \n",
       "21200                    3:17:23 PM             12         30.9   \n",
       "\n",
       "      Precipitation in millimeters  Pickup Lat  Pickup Long Destination Lat  \\\n",
       "0                              NaN   -1.317755    36.830370       -1.300406   \n",
       "1                              NaN   -1.351453    36.899315       -1.295004   \n",
       "2                              NaN   -1.308284    36.843419       -1.300921   \n",
       "3                              NaN   -1.281301    36.832396       -1.257147   \n",
       "4                              NaN   -1.266597    36.792118       -1.295041   \n",
       "...                            ...         ...          ...             ...   \n",
       "21196                          NaN   -1.258414    36.804800       -1.275285   \n",
       "21197                          NaN   -1.307143    36.825009       -1.331619   \n",
       "21198                          NaN   -1.286018    36.897534       -1.258414   \n",
       "21199                          NaN   -1.250030    36.874167       -1.279209   \n",
       "21200                          NaN   -1.255189    36.782203       -1.320157   \n",
       "\n",
       "       Destination Long      Rider Id Time from Pickup to Arrival  \n",
       "0             36.829741  Rider_Id_432                         745  \n",
       "1             36.814358  Rider_Id_856                        1993  \n",
       "2             36.828195  Rider_Id_155                         455  \n",
       "3             36.795063  Rider_Id_855                        1341  \n",
       "4             36.809817  Rider_Id_770                        1214  \n",
       "...                 ...           ...                         ...  \n",
       "21196         36.802702  Rider_Id_953                           9  \n",
       "21197         36.847976  Rider_Id_155                         770  \n",
       "21198         36.804800  Rider_Id_697                        2953  \n",
       "21199         36.794872  Rider_Id_347                        1380  \n",
       "21200         36.830887  Rider_Id_177                        2128  \n",
       "\n",
       "[21201 rows x 29 columns]"
      ]
     },
     "execution_count": 358,
     "metadata": {},
     "output_type": "execute_result"
    }
   ],
   "source": [
    "train_df"
   ]
  },
  {
   "cell_type": "code",
   "execution_count": 359,
   "metadata": {},
   "outputs": [],
   "source": [
    "train_df = train_df[['Distance (KM)', 'Time from Pickup to Arrival']]"
   ]
  },
  {
   "cell_type": "code",
   "execution_count": 360,
   "metadata": {},
   "outputs": [
    {
     "data": {
      "text/html": [
       "<div>\n",
       "<style scoped>\n",
       "    .dataframe tbody tr th:only-of-type {\n",
       "        vertical-align: middle;\n",
       "    }\n",
       "\n",
       "    .dataframe tbody tr th {\n",
       "        vertical-align: top;\n",
       "    }\n",
       "\n",
       "    .dataframe thead th {\n",
       "        text-align: right;\n",
       "    }\n",
       "</style>\n",
       "<table border=\"1\" class=\"dataframe\">\n",
       "  <thead>\n",
       "    <tr style=\"text-align: right;\">\n",
       "      <th></th>\n",
       "      <th>Distance (KM)</th>\n",
       "      <th>Time from Pickup to Arrival</th>\n",
       "    </tr>\n",
       "  </thead>\n",
       "  <tbody>\n",
       "    <tr>\n",
       "      <td>0</td>\n",
       "      <td>4</td>\n",
       "      <td>745</td>\n",
       "    </tr>\n",
       "    <tr>\n",
       "      <td>1</td>\n",
       "      <td>16</td>\n",
       "      <td>1993</td>\n",
       "    </tr>\n",
       "    <tr>\n",
       "      <td>2</td>\n",
       "      <td>3</td>\n",
       "      <td>455</td>\n",
       "    </tr>\n",
       "    <tr>\n",
       "      <td>3</td>\n",
       "      <td>9</td>\n",
       "      <td>1341</td>\n",
       "    </tr>\n",
       "    <tr>\n",
       "      <td>4</td>\n",
       "      <td>9</td>\n",
       "      <td>1214</td>\n",
       "    </tr>\n",
       "    <tr>\n",
       "      <td>...</td>\n",
       "      <td>...</td>\n",
       "      <td>...</td>\n",
       "    </tr>\n",
       "    <tr>\n",
       "      <td>21196</td>\n",
       "      <td>3</td>\n",
       "      <td>9</td>\n",
       "    </tr>\n",
       "    <tr>\n",
       "      <td>21197</td>\n",
       "      <td>7</td>\n",
       "      <td>770</td>\n",
       "    </tr>\n",
       "    <tr>\n",
       "      <td>21198</td>\n",
       "      <td>20</td>\n",
       "      <td>2953</td>\n",
       "    </tr>\n",
       "    <tr>\n",
       "      <td>21199</td>\n",
       "      <td>13</td>\n",
       "      <td>1380</td>\n",
       "    </tr>\n",
       "    <tr>\n",
       "      <td>21200</td>\n",
       "      <td>12</td>\n",
       "      <td>2128</td>\n",
       "    </tr>\n",
       "  </tbody>\n",
       "</table>\n",
       "<p>21201 rows × 2 columns</p>\n",
       "</div>"
      ],
      "text/plain": [
       "       Distance (KM)  Time from Pickup to Arrival\n",
       "0                  4                          745\n",
       "1                 16                         1993\n",
       "2                  3                          455\n",
       "3                  9                         1341\n",
       "4                  9                         1214\n",
       "...              ...                          ...\n",
       "21196              3                            9\n",
       "21197              7                          770\n",
       "21198             20                         2953\n",
       "21199             13                         1380\n",
       "21200             12                         2128\n",
       "\n",
       "[21201 rows x 2 columns]"
      ]
     },
     "execution_count": 360,
     "metadata": {},
     "output_type": "execute_result"
    }
   ],
   "source": [
    "train_df"
   ]
  },
  {
   "cell_type": "code",
   "execution_count": 361,
   "metadata": {},
   "outputs": [],
   "source": [
    "x = train_df.iloc[:, :-1].values\n",
    "y = train_df.iloc[:, -1].values"
   ]
  },
  {
   "cell_type": "code",
   "execution_count": 362,
   "metadata": {},
   "outputs": [
    {
     "name": "stdout",
     "output_type": "stream",
     "text": [
      "[[ 4]\n",
      " [16]\n",
      " [ 3]\n",
      " ...\n",
      " [20]\n",
      " [13]\n",
      " [12]]\n",
      "[ 745 1993  455 ... 2953 1380 2128]\n"
     ]
    }
   ],
   "source": [
    "print(x)\n",
    "print(y)"
   ]
  },
  {
   "cell_type": "code",
   "execution_count": 363,
   "metadata": {},
   "outputs": [
    {
     "name": "stdout",
     "output_type": "stream",
     "text": [
      "[[ 4]\n",
      " [16]\n",
      " [ 3]\n",
      " ...\n",
      " [20]\n",
      " [13]\n",
      " [12]]\n"
     ]
    }
   ],
   "source": [
    "x = x.reshape(len(x), 1)\n",
    "print(x)"
   ]
  },
  {
   "cell_type": "code",
   "execution_count": 364,
   "metadata": {},
   "outputs": [
    {
     "data": {
      "text/plain": [
       "array([[ 745],\n",
       "       [1993],\n",
       "       [ 455],\n",
       "       ...,\n",
       "       [2953],\n",
       "       [1380],\n",
       "       [2128]], dtype=int64)"
      ]
     },
     "execution_count": 364,
     "metadata": {},
     "output_type": "execute_result"
    }
   ],
   "source": [
    "y = y.reshape(len(y), 1)\n",
    "y"
   ]
  },
  {
   "cell_type": "code",
   "execution_count": 365,
   "metadata": {},
   "outputs": [
    {
     "name": "stdout",
     "output_type": "stream",
     "text": [
      "[[-0.97137039]\n",
      " [ 1.14546888]\n",
      " [-1.14777366]\n",
      " ...\n",
      " [ 1.85108197]\n",
      " [ 0.61625906]\n",
      " [ 0.43985579]]\n",
      "[[-0.82240871]\n",
      " [ 0.44171198]\n",
      " [-1.11615471]\n",
      " ...\n",
      " [ 1.41411252]\n",
      " [-0.17920627]\n",
      " [ 0.57845581]]\n"
     ]
    }
   ],
   "source": [
    "from sklearn.preprocessing import StandardScaler\n",
    "sc_X = StandardScaler()\n",
    "sc_y = StandardScaler()\n",
    "x = sc_X.fit_transform(x)\n",
    "y = sc_y.fit_transform(y)\n",
    "print(x)\n",
    "print(y)"
   ]
  },
  {
   "cell_type": "markdown",
   "metadata": {},
   "source": [
    "## Linear"
   ]
  },
  {
   "cell_type": "code",
   "execution_count": 377,
   "metadata": {},
   "outputs": [
    {
     "data": {
      "text/plain": [
       "LinearRegression(copy_X=True, fit_intercept=True, n_jobs=None, normalize=False)"
      ]
     },
     "execution_count": 377,
     "metadata": {},
     "output_type": "execute_result"
    }
   ],
   "source": [
    "from sklearn.linear_model import LinearRegression\n",
    "regressor = LinearRegression()\n",
    "regressor.fit(x,y)"
   ]
  },
  {
   "cell_type": "markdown",
   "metadata": {},
   "source": [
    "## Predict"
   ]
  },
  {
   "cell_type": "code",
   "execution_count": 397,
   "metadata": {},
   "outputs": [
    {
     "data": {
      "text/plain": [
       "array([[497.44770224],\n",
       "       [711.49191969],\n",
       "       [479.61068412],\n",
       "       ...,\n",
       "       [782.83999217],\n",
       "       [657.98086533],\n",
       "       [640.14384721]])"
      ]
     },
     "execution_count": 397,
     "metadata": {},
     "output_type": "execute_result"
    }
   ],
   "source": [
    "predicts_lin = sc_y.inverse_transform(regressor.predict(sc_X.transform(x)))\n",
    "predicts_lin"
   ]
  },
  {
   "cell_type": "markdown",
   "metadata": {},
   "source": [
    "### RMSE Linear"
   ]
  },
  {
   "cell_type": "code",
   "execution_count": 400,
   "metadata": {},
   "outputs": [
    {
     "name": "stdout",
     "output_type": "stream",
     "text": [
      "RMSE:  604.0926975240304\n",
      "364927.9872018597\n"
     ]
    }
   ],
   "source": [
    "from sklearn import metrics\n",
    "print(\"RMSE: \", np.sqrt(mean_squared_error(y,predicts_lin)))\n",
    "print(metrics.mean_squared_error(y, predicts_lin))"
   ]
  },
  {
   "cell_type": "code",
   "execution_count": 369,
   "metadata": {},
   "outputs": [
    {
     "data": {
      "image/png": "[encoded data removed]",
      "text/plain": [
       "<Figure size 432x288 with 1 Axes>"
      ]
     },
     "metadata": {
      "needs_background": "light"
     },
     "output_type": "display_data"
    }
   ],
   "source": [
    "plt.scatter(sc_X.inverse_transform(x), sc_y.inverse_transform(y), color='red')\n",
    "plt.plot(sc_X.inverse_transform(x), sc_y.inverse_transform(regressor.predict(x)), color='blue')\n",
    "plt.title('Kilometres vs Time')\n",
    "plt.xlabel('Kilos')\n",
    "plt.ylabel('Time')\n",
    "plt.show()"
   ]
  },
  {
   "cell_type": "markdown",
   "metadata": {},
   "source": [
    "## SVR"
   ]
  },
  {
   "cell_type": "code",
   "execution_count": 384,
   "metadata": {},
   "outputs": [
    {
     "name": "stderr",
     "output_type": "stream",
     "text": [
      "C:\\Users\\The Bois\\Anaconda3\\lib\\site-packages\\sklearn\\utils\\validation.py:724: DataConversionWarning: A column-vector y was passed when a 1d array was expected. Please change the shape of y to (n_samples, ), for example using ravel().\n",
      "  y = column_or_1d(y, warn=True)\n"
     ]
    },
    {
     "data": {
      "text/plain": [
       "SVR(C=1.0, cache_size=200, coef0=0.0, degree=3, epsilon=0.1,\n",
       "    gamma='auto_deprecated', kernel='rbf', max_iter=-1, shrinking=True,\n",
       "    tol=0.001, verbose=False)"
      ]
     },
     "execution_count": 384,
     "metadata": {},
     "output_type": "execute_result"
    }
   ],
   "source": [
    "from sklearn.svm import SVR\n",
    "svr_regressor = SVR(kernel = 'rbf')\n",
    "svr_regressor.fit(x, y)"
   ]
  },
  {
   "cell_type": "code",
   "execution_count": 385,
   "metadata": {},
   "outputs": [
    {
     "data": {
      "text/plain": [
       "array([461.93800303, 440.85086481, 478.74420643, ..., 494.37518626,\n",
       "       418.06919975, 414.20649957])"
      ]
     },
     "execution_count": 385,
     "metadata": {},
     "output_type": "execute_result"
    }
   ],
   "source": [
    "predicts = sc_y.inverse_transform(svr_regressor.predict(sc_X.transform(x)))\n",
    "predicts"
   ]
  },
  {
   "cell_type": "markdown",
   "metadata": {},
   "source": [
    "### RMSE SVR"
   ]
  },
  {
   "cell_type": "code",
   "execution_count": 395,
   "metadata": {},
   "outputs": [
    {
     "name": "stdout",
     "output_type": "stream",
     "text": [
      "RMSE:  448.35600656558495\n",
      "201023.10862343883\n"
     ]
    }
   ],
   "source": [
    "from sklearn import metrics\n",
    "print(\"RMSE: \", np.sqrt(mean_squared_error(y,predicts)))\n",
    "print(metrics.mean_squared_error(y, predicts))"
   ]
  },
  {
   "cell_type": "markdown",
   "metadata": {},
   "source": [
    "## Ensembling"
   ]
  },
  {
   "cell_type": "markdown",
   "metadata": {},
   "source": [
    "### Voting"
   ]
  },
  {
   "cell_type": "code",
   "execution_count": 376,
   "metadata": {},
   "outputs": [],
   "source": [
    "from sklearn.ensemble import VotingRegressor"
   ]
  },
  {
   "cell_type": "code",
   "execution_count": 410,
   "metadata": {},
   "outputs": [],
   "source": [
    "models = [(\"regressor\",regressor), (\"SVR\",svr_regressor)]\n",
    "model_weightings = np.array([0.1,0.9])\n",
    "v_reg = VotingRegressor(estimators=models,weights=model_weightings)\n"
   ]
  },
  {
   "cell_type": "code",
   "execution_count": 411,
   "metadata": {},
   "outputs": [
    {
     "data": {
      "text/plain": [
       "VotingRegressor(estimators=[('regressor',\n",
       "                             LinearRegression(copy_X=True, fit_intercept=True,\n",
       "                                              n_jobs=None, normalize=False)),\n",
       "                            ('SVR',\n",
       "                             SVR(C=1.0, cache_size=200, coef0=0.0, degree=3,\n",
       "                                 epsilon=0.1, gamma='auto_deprecated',\n",
       "                                 kernel='rbf', max_iter=-1, shrinking=True,\n",
       "                                 tol=0.001, verbose=False))],\n",
       "                n_jobs=None, weights=array([0.1, 0.9]))"
      ]
     },
     "execution_count": 411,
     "metadata": {},
     "output_type": "execute_result"
    }
   ],
   "source": [
    "v_reg.fit(x,y[:,0])"
   ]
  },
  {
   "cell_type": "code",
   "execution_count": 412,
   "metadata": {},
   "outputs": [
    {
     "data": {
      "text/plain": [
       "array([465.48897295, 467.9149703 , 478.8308542 , ..., 523.22166685,\n",
       "       442.06036631, 436.80023433])"
      ]
     },
     "execution_count": 412,
     "metadata": {},
     "output_type": "execute_result"
    }
   ],
   "source": [
    "y_pred = sc_y.inverse_transform(v_reg.predict(sc_X.transform(x)))\n",
    "y_pred"
   ]
  },
  {
   "cell_type": "code",
   "execution_count": 394,
   "metadata": {},
   "outputs": [
    {
     "name": "stdout",
     "output_type": "stream",
     "text": [
      "RMSE:  493.50430793867514\n",
      "243546.50195403068\n"
     ]
    }
   ],
   "source": [
    "# 0.3  and 0.7\n",
    "\n",
    "print(\"RMSE: \", np.sqrt(mean_squared_error(y,y_pred)))\n",
    "print(metrics.mean_squared_error(y, y_pred))"
   ]
  },
  {
   "cell_type": "code",
   "execution_count": 404,
   "metadata": {},
   "outputs": [
    {
     "name": "stdout",
     "output_type": "stream",
     "text": [
      "RMSE:  524.4627523245309\n",
      "275061.1785758223\n"
     ]
    }
   ],
   "source": [
    "# 0.5 and 0.5\n",
    "print(\"RMSE: \", np.sqrt(mean_squared_error(y,y_pred)))\n",
    "print(metrics.mean_squared_error(y, y_pred))"
   ]
  },
  {
   "cell_type": "code",
   "execution_count": 409,
   "metadata": {},
   "outputs": [
    {
     "name": "stdout",
     "output_type": "stream",
     "text": [
      "RMSE:  555.9752273126916\n",
      "309108.453385399\n"
     ]
    }
   ],
   "source": [
    "#  0.7  and 0.3\n",
    "print(\"RMSE: \", np.sqrt(mean_squared_error(y,y_pred)))\n",
    "print(metrics.mean_squared_error(y, y_pred))"
   ]
  },
  {
   "cell_type": "code",
   "execution_count": 413,
   "metadata": {},
   "outputs": [
    {
     "name": "stdout",
     "output_type": "stream",
     "text": [
      "RMSE:  463.21099244299376\n",
      "214564.4235200232\n"
     ]
    }
   ],
   "source": [
    "# 0.1 and 0.9\n",
    "print(\"RMSE: \", np.sqrt(mean_squared_error(y,y_pred)))\n",
    "print(metrics.mean_squared_error(y, y_pred))"
   ]
  },
  {
   "cell_type": "markdown",
   "metadata": {},
   "source": [
    "## Homogenous Ensembles"
   ]
  },
  {
   "cell_type": "markdown",
   "metadata": {},
   "source": [
    "### Bagging"
   ]
  },
  {
   "cell_type": "code",
   "execution_count": 430,
   "metadata": {},
   "outputs": [],
   "source": [
    "from sklearn.ensemble import BaggingRegressor"
   ]
  },
  {
   "cell_type": "code",
   "execution_count": 431,
   "metadata": {},
   "outputs": [],
   "source": [
    "d_tree = DecisionTreeRegressor(max_depth=4)"
   ]
  },
  {
   "cell_type": "code",
   "execution_count": 432,
   "metadata": {},
   "outputs": [],
   "source": [
    "bag_reg = BaggingRegressor(base_estimator = d_tree)"
   ]
  },
  {
   "cell_type": "code",
   "execution_count": 434,
   "metadata": {},
   "outputs": [
    {
     "data": {
      "text/plain": [
       "BaggingRegressor(base_estimator=DecisionTreeRegressor(criterion='mse',\n",
       "                                                      max_depth=4,\n",
       "                                                      max_features=None,\n",
       "                                                      max_leaf_nodes=None,\n",
       "                                                      min_impurity_decrease=0.0,\n",
       "                                                      min_impurity_split=None,\n",
       "                                                      min_samples_leaf=1,\n",
       "                                                      min_samples_split=2,\n",
       "                                                      min_weight_fraction_leaf=0.0,\n",
       "                                                      presort=False,\n",
       "                                                      random_state=None,\n",
       "                                                      splitter='best'),\n",
       "                 bootstrap=True, bootstrap_features=False, max_features=1.0,\n",
       "                 max_samples=1.0, n_estimators=10, n_jobs=None, oob_score=False,\n",
       "                 random_state=None, verbose=0, warm_start=False)"
      ]
     },
     "execution_count": 434,
     "metadata": {},
     "output_type": "execute_result"
    }
   ],
   "source": [
    "bag_reg.fit(x,y[:,0])"
   ]
  },
  {
   "cell_type": "code",
   "execution_count": 444,
   "metadata": {},
   "outputs": [
    {
     "name": "stdout",
     "output_type": "stream",
     "text": [
      "RMSE:  564.4598669593845\n",
      "318614.941407806\n"
     ]
    }
   ],
   "source": [
    "predict_dec = sc_y.inverse_transform(bag_reg.predict(sc_X.transform(x)))  #bag_reg.predict(x)\n",
    "print(\"RMSE: \", np.sqrt(mean_squared_error(y,predict_dec)))\n",
    "print(metrics.mean_squared_error(y, predict_dec))"
   ]
  },
  {
   "cell_type": "markdown",
   "metadata": {},
   "source": [
    "### Boosting"
   ]
  },
  {
   "cell_type": "code",
   "execution_count": 445,
   "metadata": {},
   "outputs": [],
   "source": [
    "from sklearn.ensemble import AdaBoostRegressor"
   ]
  },
  {
   "cell_type": "code",
   "execution_count": 446,
   "metadata": {},
   "outputs": [],
   "source": [
    "d_tree_boost = DecisionTreeRegressor(max_depth=3)\n",
    "bst_reg = AdaBoostRegressor(base_estimator = d_tree_boost)"
   ]
  },
  {
   "cell_type": "code",
   "execution_count": 448,
   "metadata": {},
   "outputs": [
    {
     "data": {
      "text/plain": [
       "AdaBoostRegressor(base_estimator=DecisionTreeRegressor(criterion='mse',\n",
       "                                                       max_depth=3,\n",
       "                                                       max_features=None,\n",
       "                                                       max_leaf_nodes=None,\n",
       "                                                       min_impurity_decrease=0.0,\n",
       "                                                       min_impurity_split=None,\n",
       "                                                       min_samples_leaf=1,\n",
       "                                                       min_samples_split=2,\n",
       "                                                       min_weight_fraction_leaf=0.0,\n",
       "                                                       presort=False,\n",
       "                                                       random_state=None,\n",
       "                                                       splitter='best'),\n",
       "                  learning_rate=1.0, loss='linear', n_estimators=50,\n",
       "                  random_state=None)"
      ]
     },
     "execution_count": 448,
     "metadata": {},
     "output_type": "execute_result"
    }
   ],
   "source": [
    "bst_reg.fit(x,y[:,0])"
   ]
  },
  {
   "cell_type": "code",
   "execution_count": 452,
   "metadata": {},
   "outputs": [
    {
     "name": "stdout",
     "output_type": "stream",
     "text": [
      "RMSE:  745.3228253116571\n",
      "555506.1139305509\n"
     ]
    }
   ],
   "source": [
    "boost_pred = sc_y.inverse_transform(bst_reg.predict(sc_X.transform(x)))\n",
    "print(\"RMSE: \", np.sqrt(mean_squared_error(y, boost_pred)))\n",
    "print(metrics.mean_squared_error(y, boost_pred))"
   ]
  },
  {
   "cell_type": "code",
   "execution_count": null,
   "metadata": {},
   "outputs": [],
   "source": []
  }
 ],
 "metadata": {
  "kernelspec": {
   "display_name": "Python 3",
   "language": "python",
   "name": "python3"
  },
  "language_info": {
   "codemirror_mode": {
    "name": "ipython",
    "version": 3
   },
   "file_extension": ".py",
   "mimetype": "text/x-python",
   "name": "python",
   "nbconvert_exporter": "python",
   "pygments_lexer": "ipython3",
   "version": "3.7.4"
  }
 },
 "nbformat": 4,
 "nbformat_minor": 2
}
